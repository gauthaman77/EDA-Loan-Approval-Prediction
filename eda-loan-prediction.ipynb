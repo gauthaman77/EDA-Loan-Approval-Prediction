{
 "cells": [
  {
   "cell_type": "code",
   "execution_count": 1,
   "id": "e3686d81",
   "metadata": {
    "_cell_guid": "b1076dfc-b9ad-4769-8c92-a6c4dae69d19",
    "_uuid": "8f2839f25d086af736a60e9eeb907d3b93b6e0e5",
    "execution": {
     "iopub.execute_input": "2024-10-24T13:13:23.019880Z",
     "iopub.status.busy": "2024-10-24T13:13:23.019457Z",
     "iopub.status.idle": "2024-10-24T13:13:24.074542Z",
     "shell.execute_reply": "2024-10-24T13:13:24.073338Z"
    },
    "papermill": {
     "duration": 1.068341,
     "end_time": "2024-10-24T13:13:24.077443",
     "exception": false,
     "start_time": "2024-10-24T13:13:23.009102",
     "status": "completed"
    },
    "tags": []
   },
   "outputs": [
    {
     "name": "stdout",
     "output_type": "stream",
     "text": [
      "/kaggle/input/playground-series-s4e10/sample_submission.csv\n",
      "/kaggle/input/playground-series-s4e10/train.csv\n",
      "/kaggle/input/playground-series-s4e10/test.csv\n",
      "/kaggle/input/loan-approval-prediction/credit_risk_dataset.csv\n"
     ]
    }
   ],
   "source": [
    "# This Python 3 environment comes with many helpful analytics libraries installed\n",
    "# It is defined by the kaggle/python Docker image: https://github.com/kaggle/docker-python\n",
    "# For example, here's several helpful packages to load\n",
    "\n",
    "import numpy as np # linear algebra\n",
    "import pandas as pd # data processing, CSV file I/O (e.g. pd.read_csv)\n",
    "\n",
    "# Input data files are available in the read-only \"../input/\" directory\n",
    "# For example, running this (by clicking run or pressing Shift+Enter) will list all files under the input directory\n",
    "\n",
    "import os\n",
    "for dirname, _, filenames in os.walk('/kaggle/input'):\n",
    "    for filename in filenames:\n",
    "        print(os.path.join(dirname, filename))\n",
    "\n",
    "# You can write up to 20GB to the current directory (/kaggle/working/) that gets preserved as output when you create a version using \"Save & Run All\" \n",
    "# You can also write temporary files to /kaggle/temp/, but they won't be saved outside of the current session"
   ]
  },
  {
   "cell_type": "code",
   "execution_count": 2,
   "id": "8f444c0c",
   "metadata": {
    "execution": {
     "iopub.execute_input": "2024-10-24T13:13:24.104004Z",
     "iopub.status.busy": "2024-10-24T13:13:24.103334Z",
     "iopub.status.idle": "2024-10-24T13:13:24.410307Z",
     "shell.execute_reply": "2024-10-24T13:13:24.409163Z"
    },
    "papermill": {
     "duration": 0.321798,
     "end_time": "2024-10-24T13:13:24.413033",
     "exception": false,
     "start_time": "2024-10-24T13:13:24.091235",
     "status": "completed"
    },
    "tags": []
   },
   "outputs": [],
   "source": [
    "X_TRAIN = pd.read_csv('/kaggle/input/playground-series-s4e10/train.csv')\n",
    "X_TEST = pd.read_csv('/kaggle/input/playground-series-s4e10/test.csv')\n",
    "X_ORIG = pd.read_csv('/kaggle/input/loan-approval-prediction/credit_risk_dataset.csv')"
   ]
  },
  {
   "cell_type": "code",
   "execution_count": 3,
   "id": "4a0919c6",
   "metadata": {
    "execution": {
     "iopub.execute_input": "2024-10-24T13:13:24.431781Z",
     "iopub.status.busy": "2024-10-24T13:13:24.431288Z",
     "iopub.status.idle": "2024-10-24T13:13:24.474586Z",
     "shell.execute_reply": "2024-10-24T13:13:24.473390Z"
    },
    "papermill": {
     "duration": 0.055888,
     "end_time": "2024-10-24T13:13:24.477410",
     "exception": false,
     "start_time": "2024-10-24T13:13:24.421522",
     "status": "completed"
    },
    "tags": []
   },
   "outputs": [
    {
     "name": "stdout",
     "output_type": "stream",
     "text": [
      "<class 'pandas.core.frame.DataFrame'>\n",
      "RangeIndex: 58645 entries, 0 to 58644\n",
      "Data columns (total 13 columns):\n",
      " #   Column                      Non-Null Count  Dtype  \n",
      "---  ------                      --------------  -----  \n",
      " 0   id                          58645 non-null  int64  \n",
      " 1   person_age                  58645 non-null  int64  \n",
      " 2   person_income               58645 non-null  int64  \n",
      " 3   person_home_ownership       58645 non-null  object \n",
      " 4   person_emp_length           58645 non-null  float64\n",
      " 5   loan_intent                 58645 non-null  object \n",
      " 6   loan_grade                  58645 non-null  object \n",
      " 7   loan_amnt                   58645 non-null  int64  \n",
      " 8   loan_int_rate               58645 non-null  float64\n",
      " 9   loan_percent_income         58645 non-null  float64\n",
      " 10  cb_person_default_on_file   58645 non-null  object \n",
      " 11  cb_person_cred_hist_length  58645 non-null  int64  \n",
      " 12  loan_status                 58645 non-null  int64  \n",
      "dtypes: float64(3), int64(6), object(4)\n",
      "memory usage: 5.8+ MB\n"
     ]
    }
   ],
   "source": [
    "X_TRAIN.info()"
   ]
  },
  {
   "cell_type": "code",
   "execution_count": 4,
   "id": "829bed7b",
   "metadata": {
    "execution": {
     "iopub.execute_input": "2024-10-24T13:13:24.497263Z",
     "iopub.status.busy": "2024-10-24T13:13:24.496847Z",
     "iopub.status.idle": "2024-10-24T13:13:24.520985Z",
     "shell.execute_reply": "2024-10-24T13:13:24.519582Z"
    },
    "papermill": {
     "duration": 0.036141,
     "end_time": "2024-10-24T13:13:24.523575",
     "exception": false,
     "start_time": "2024-10-24T13:13:24.487434",
     "status": "completed"
    },
    "tags": []
   },
   "outputs": [
    {
     "name": "stdout",
     "output_type": "stream",
     "text": [
      "Average loan status for people below 50: 0.14190771349862258\n",
      "Average loan status for people above 50: 0.1911504424778761\n"
     ]
    },
    {
     "data": {
      "text/plain": [
       "2884"
      ]
     },
     "execution_count": 4,
     "metadata": {},
     "output_type": "execute_result"
    }
   ],
   "source": [
    "## Loan status on Age over 40\n",
    "df = X_TRAIN   \n",
    "average_below_50 = df[df['person_age'] < 50]['loan_status'].mean()\n",
    "average_above_50 = df[df['person_age'] >= 50]['loan_status'].mean()\n",
    "\n",
    "print(f\"Average loan status for people below 50: {average_below_50}\")\n",
    "print(f\"Average loan status for people above 50: {average_above_50}\")\n",
    "\n",
    "## Approval chances increases slightly with age\n",
    "df[df['person_age'] >= 40]['loan_status'].count()"
   ]
  },
  {
   "cell_type": "code",
   "execution_count": 5,
   "id": "1e9e07e2",
   "metadata": {
    "execution": {
     "iopub.execute_input": "2024-10-24T13:13:24.545182Z",
     "iopub.status.busy": "2024-10-24T13:13:24.544752Z",
     "iopub.status.idle": "2024-10-24T13:13:24.560868Z",
     "shell.execute_reply": "2024-10-24T13:13:24.559629Z"
    },
    "papermill": {
     "duration": 0.028804,
     "end_time": "2024-10-24T13:13:24.563700",
     "exception": false,
     "start_time": "2024-10-24T13:13:24.534896",
     "status": "completed"
    },
    "tags": []
   },
   "outputs": [
    {
     "name": "stdout",
     "output_type": "stream",
     "text": [
      "loan_grade\n",
      "A     7.335176\n",
      "B    11.034733\n",
      "C    13.510343\n",
      "D    15.404599\n",
      "E    16.930961\n",
      "F    18.610940\n",
      "G    20.327576\n",
      "Name: loan_int_rate, dtype: float64\n"
     ]
    }
   ],
   "source": [
    "average_rates = df.groupby('loan_grade')['loan_int_rate'].mean()\n",
    "print(average_rates)\n",
    "\n",
    "## interest rates rises fastly with loan grades"
   ]
  },
  {
   "cell_type": "code",
   "execution_count": 6,
   "id": "85914098",
   "metadata": {
    "execution": {
     "iopub.execute_input": "2024-10-24T13:13:24.583249Z",
     "iopub.status.busy": "2024-10-24T13:13:24.582827Z",
     "iopub.status.idle": "2024-10-24T13:13:24.597158Z",
     "shell.execute_reply": "2024-10-24T13:13:24.595751Z"
    },
    "papermill": {
     "duration": 0.027338,
     "end_time": "2024-10-24T13:13:24.599940",
     "exception": false,
     "start_time": "2024-10-24T13:13:24.572602",
     "status": "completed"
    },
    "tags": []
   },
   "outputs": [
    {
     "name": "stdout",
     "output_type": "stream",
     "text": [
      "loan_grade\n",
      "A    0.049180\n",
      "B    0.102304\n",
      "C    0.135375\n",
      "D    0.593564\n",
      "E    0.625372\n",
      "F    0.610738\n",
      "G    0.818182\n",
      "Name: loan_status, dtype: float64\n"
     ]
    }
   ],
   "source": [
    "average_rates = df.groupby('loan_grade')['loan_status'].mean()\n",
    "print(average_rates)\n",
    "\n",
    "## chances of approval also increases with loan grade\n",
    "## Should be because higher interest rates would cover for higher default rates"
   ]
  },
  {
   "cell_type": "code",
   "execution_count": 7,
   "id": "ef8d9d9c",
   "metadata": {
    "execution": {
     "iopub.execute_input": "2024-10-24T13:13:24.620220Z",
     "iopub.status.busy": "2024-10-24T13:13:24.619193Z",
     "iopub.status.idle": "2024-10-24T13:13:24.632172Z",
     "shell.execute_reply": "2024-10-24T13:13:24.631098Z"
    },
    "papermill": {
     "duration": 0.026241,
     "end_time": "2024-10-24T13:13:24.635014",
     "exception": false,
     "start_time": "2024-10-24T13:13:24.608773",
     "status": "completed"
    },
    "tags": []
   },
   "outputs": [
    {
     "data": {
      "text/plain": [
       "loan_grade\n",
       "A    20984\n",
       "B    20400\n",
       "C    11036\n",
       "D     5034\n",
       "E     1009\n",
       "F      149\n",
       "G       33\n",
       "Name: count, dtype: int64"
      ]
     },
     "execution_count": 7,
     "metadata": {},
     "output_type": "execute_result"
    }
   ],
   "source": [
    "df['loan_grade'].value_counts()\n",
    "\n",
    "# If loan grade is something customer applies for, everyone has very good chances from D\n",
    "# grade loans"
   ]
  },
  {
   "cell_type": "code",
   "execution_count": 8,
   "id": "3de9b04b",
   "metadata": {
    "execution": {
     "iopub.execute_input": "2024-10-24T13:13:24.654786Z",
     "iopub.status.busy": "2024-10-24T13:13:24.654379Z",
     "iopub.status.idle": "2024-10-24T13:13:24.669850Z",
     "shell.execute_reply": "2024-10-24T13:13:24.668621Z"
    },
    "papermill": {
     "duration": 0.02813,
     "end_time": "2024-10-24T13:13:24.672252",
     "exception": false,
     "start_time": "2024-10-24T13:13:24.644122",
     "status": "completed"
    },
    "tags": []
   },
   "outputs": [
    {
     "data": {
      "text/plain": [
       "(1032, 13)"
      ]
     },
     "execution_count": 8,
     "metadata": {},
     "output_type": "execute_result"
    }
   ],
   "source": [
    "# Let us check for the qualities of grade A loan approved people\n",
    "df_A_grade = df[(df['loan_grade']=='A') & (df['loan_status']==1)] \n",
    "df_A_grade.shape\n",
    "# There are more than 1000 people with such situation\n",
    "# Assumptions on such people\n",
    "# High income\n",
    "# Living rent or owned home\n",
    "# Have more work experience\n",
    "# Have not defaulted\n",
    "# loan percent income is less"
   ]
  },
  {
   "cell_type": "code",
   "execution_count": 9,
   "id": "048d635d",
   "metadata": {
    "execution": {
     "iopub.execute_input": "2024-10-24T13:13:24.694129Z",
     "iopub.status.busy": "2024-10-24T13:13:24.693172Z",
     "iopub.status.idle": "2024-10-24T13:13:24.702320Z",
     "shell.execute_reply": "2024-10-24T13:13:24.701292Z"
    },
    "papermill": {
     "duration": 0.021867,
     "end_time": "2024-10-24T13:13:24.704663",
     "exception": false,
     "start_time": "2024-10-24T13:13:24.682796",
     "status": "completed"
    },
    "tags": []
   },
   "outputs": [
    {
     "data": {
      "text/plain": [
       "person_home_ownership\n",
       "RENT        879\n",
       "MORTGAGE    146\n",
       "OWN           7\n",
       "Name: count, dtype: int64"
      ]
     },
     "execution_count": 9,
     "metadata": {},
     "output_type": "execute_result"
    }
   ],
   "source": [
    "df_A_grade['person_home_ownership'].value_counts()"
   ]
  },
  {
   "cell_type": "code",
   "execution_count": 10,
   "id": "d95ffa65",
   "metadata": {
    "execution": {
     "iopub.execute_input": "2024-10-24T13:13:24.724887Z",
     "iopub.status.busy": "2024-10-24T13:13:24.724041Z",
     "iopub.status.idle": "2024-10-24T13:13:26.710832Z",
     "shell.execute_reply": "2024-10-24T13:13:26.709276Z"
    },
    "papermill": {
     "duration": 2.001766,
     "end_time": "2024-10-24T13:13:26.715450",
     "exception": false,
     "start_time": "2024-10-24T13:13:24.713684",
     "status": "completed"
    },
    "tags": []
   },
   "outputs": [
    {
     "data": {
      "image/png": "[encoded data removed]",
      "text/plain": [
       "<Figure size 600x600 with 1 Axes>"
      ]
     },
     "metadata": {},
     "output_type": "display_data"
    }
   ],
   "source": [
    "import matplotlib.pyplot as plt\n",
    "import seaborn as sns\n",
    "\n",
    "# Sample data\n",
    "data = [879, 146, 7]\n",
    "labels = ['RENT', 'MORTGAGE', 'OWN']\n",
    "\n",
    "# Create the pie chart\n",
    "plt.figure(figsize=(6, 6))  # Adjust figure size if needed\n",
    "sns.set_palette('pastel')  # Set color palette\n",
    "plt.pie(data, labels=labels, autopct='%1.1f%%', startangle=90)\n",
    "plt.title('Home Ownership')\n",
    "plt.show()"
   ]
  },
  {
   "cell_type": "code",
   "execution_count": 11,
   "id": "dd5c64a0",
   "metadata": {
    "execution": {
     "iopub.execute_input": "2024-10-24T13:13:26.751434Z",
     "iopub.status.busy": "2024-10-24T13:13:26.749852Z",
     "iopub.status.idle": "2024-10-24T13:13:26.761320Z",
     "shell.execute_reply": "2024-10-24T13:13:26.760179Z"
    },
    "papermill": {
     "duration": 0.032009,
     "end_time": "2024-10-24T13:13:26.764501",
     "exception": false,
     "start_time": "2024-10-24T13:13:26.732492",
     "status": "completed"
    },
    "tags": []
   },
   "outputs": [
    {
     "data": {
      "text/plain": [
       "loan_intent\n",
       "MEDICAL              227\n",
       "EDUCATION            206\n",
       "PERSONAL             189\n",
       "DEBTCONSOLIDATION    184\n",
       "HOMEIMPROVEMENT      124\n",
       "VENTURE              102\n",
       "Name: count, dtype: int64"
      ]
     },
     "execution_count": 11,
     "metadata": {},
     "output_type": "execute_result"
    }
   ],
   "source": [
    "# Surprisingly there are people with mortgage in this and less of people owning home\n",
    "# We will look further into it in just some time\n",
    "# Next up what are the purposes\n",
    "df_A_grade['loan_intent'].value_counts()"
   ]
  },
  {
   "cell_type": "code",
   "execution_count": 12,
   "id": "285b2dde",
   "metadata": {
    "execution": {
     "iopub.execute_input": "2024-10-24T13:13:26.789979Z",
     "iopub.status.busy": "2024-10-24T13:13:26.789144Z",
     "iopub.status.idle": "2024-10-24T13:13:26.961400Z",
     "shell.execute_reply": "2024-10-24T13:13:26.960168Z"
    },
    "papermill": {
     "duration": 0.187026,
     "end_time": "2024-10-24T13:13:26.965147",
     "exception": false,
     "start_time": "2024-10-24T13:13:26.778121",
     "status": "completed"
    },
    "tags": []
   },
   "outputs": [
    {
     "data": {
      "image/png": "[encoded data removed]",
      "text/plain": [
       "<Figure size 600x600 with 1 Axes>"
      ]
     },
     "metadata": {},
     "output_type": "display_data"
    }
   ],
   "source": [
    "names = ['MEDICAL', 'EDUCATION', 'PERSONAL', 'DEBTCONSOLIDATION', 'HOMEIMPROVEMENT', 'VENTURE']\n",
    "counts = [227, 206, 189, 184, 124, 102]\n",
    "\n",
    "# Create the pie chart\n",
    "plt.figure(figsize=(6, 6))  # Adjust figure size if needed\n",
    "sns.set_palette('pastel')  # Set color palette\n",
    "plt.pie(counts, labels=names, autopct='%1.1f%%', startangle=90)\n",
    "plt.title('Home Ownership')\n",
    "plt.show()"
   ]
  },
  {
   "cell_type": "code",
   "execution_count": 13,
   "id": "6e095a4b",
   "metadata": {
    "execution": {
     "iopub.execute_input": "2024-10-24T13:13:27.001164Z",
     "iopub.status.busy": "2024-10-24T13:13:27.000485Z",
     "iopub.status.idle": "2024-10-24T13:13:27.009521Z",
     "shell.execute_reply": "2024-10-24T13:13:27.008330Z"
    },
    "papermill": {
     "duration": 0.028921,
     "end_time": "2024-10-24T13:13:27.012111",
     "exception": false,
     "start_time": "2024-10-24T13:13:26.983190",
     "status": "completed"
    },
    "tags": []
   },
   "outputs": [
    {
     "data": {
      "text/plain": [
       "cb_person_default_on_file\n",
       "N    1032\n",
       "Name: count, dtype: int64"
      ]
     },
     "execution_count": 13,
     "metadata": {},
     "output_type": "execute_result"
    }
   ],
   "source": [
    "# Venture seems to be a bit on the lower side\n",
    "df_A_grade['cb_person_default_on_file'].value_counts()\n",
    "\n"
   ]
  },
  {
   "cell_type": "code",
   "execution_count": 14,
   "id": "0a859a67",
   "metadata": {
    "execution": {
     "iopub.execute_input": "2024-10-24T13:13:27.036061Z",
     "iopub.status.busy": "2024-10-24T13:13:27.035450Z",
     "iopub.status.idle": "2024-10-24T13:13:27.302859Z",
     "shell.execute_reply": "2024-10-24T13:13:27.301647Z"
    },
    "papermill": {
     "duration": 0.282551,
     "end_time": "2024-10-24T13:13:27.305434",
     "exception": false,
     "start_time": "2024-10-24T13:13:27.022883",
     "status": "completed"
    },
    "tags": []
   },
   "outputs": [
    {
     "data": {
      "image/png": "[encoded data removed]",
      "text/plain": [
       "<Figure size 640x480 with 1 Axes>"
      ]
     },
     "metadata": {},
     "output_type": "display_data"
    }
   ],
   "source": [
    "# This is where there is no compromise no defaults\n",
    "# Let us create histogram of income\n",
    "# Create the histogram\n",
    "plt.hist(df_A_grade['person_income'], bins=20)  # Adjust bins as needed\n",
    "plt.xlabel('Income')\n",
    "plt.ylabel('Frequency')\n",
    "plt.title('Income Distribution')\n",
    "plt.show()\n"
   ]
  },
  {
   "cell_type": "code",
   "execution_count": 15,
   "id": "a34d31fd",
   "metadata": {
    "execution": {
     "iopub.execute_input": "2024-10-24T13:13:27.328274Z",
     "iopub.status.busy": "2024-10-24T13:13:27.327861Z",
     "iopub.status.idle": "2024-10-24T13:13:27.582580Z",
     "shell.execute_reply": "2024-10-24T13:13:27.581387Z"
    },
    "papermill": {
     "duration": 0.269163,
     "end_time": "2024-10-24T13:13:27.585136",
     "exception": false,
     "start_time": "2024-10-24T13:13:27.315973",
     "status": "completed"
    },
    "tags": []
   },
   "outputs": [
    {
     "data": {
      "image/png": "[encoded data removed]",
      "text/plain": [
       "<Figure size 640x480 with 1 Axes>"
      ]
     },
     "metadata": {},
     "output_type": "display_data"
    }
   ],
   "source": [
    "## Surprisingly it includes a lot of people below 50k annual income\n",
    "# I think that loan percent income is the key here\n",
    "# This is where there is no compromise no defaults\n",
    "# Let us create histogram of income\n",
    "# Create the histogram\n",
    "plt.hist(df_A_grade['loan_percent_income'], bins=20)  # Adjust bins as needed\n",
    "plt.xlabel('Income')\n",
    "plt.ylabel('Frequency')\n",
    "plt.title('Income Distribution')\n",
    "plt.show()"
   ]
  },
  {
   "cell_type": "code",
   "execution_count": 16,
   "id": "f7f05321",
   "metadata": {
    "execution": {
     "iopub.execute_input": "2024-10-24T13:13:27.610967Z",
     "iopub.status.busy": "2024-10-24T13:13:27.609957Z",
     "iopub.status.idle": "2024-10-24T13:13:27.621255Z",
     "shell.execute_reply": "2024-10-24T13:13:27.619907Z"
    },
    "papermill": {
     "duration": 0.02697,
     "end_time": "2024-10-24T13:13:27.623652",
     "exception": false,
     "start_time": "2024-10-24T13:13:27.596682",
     "status": "completed"
    },
    "tags": []
   },
   "outputs": [
    {
     "data": {
      "text/plain": [
       "cb_person_cred_hist_length\n",
       "4     201\n",
       "2     184\n",
       "3     177\n",
       "6      76\n",
       "8      69\n",
       "9      63\n",
       "7      54\n",
       "5      52\n",
       "10     48\n",
       "12     17\n",
       "13     17\n",
       "14     16\n",
       "17     15\n",
       "16     13\n",
       "11     12\n",
       "15      5\n",
       "27      3\n",
       "25      2\n",
       "19      2\n",
       "28      2\n",
       "30      1\n",
       "24      1\n",
       "21      1\n",
       "18      1\n",
       "Name: count, dtype: int64"
      ]
     },
     "execution_count": 16,
     "metadata": {},
     "output_type": "execute_result"
    }
   ],
   "source": [
    "## As expected the range is from 0 to 0.5, with majority being in the 0.3 to 0.4 range\n",
    "## Now let us check the credit history length\n",
    "df_A_grade['cb_person_cred_hist_length'].value_counts()"
   ]
  },
  {
   "cell_type": "code",
   "execution_count": 17,
   "id": "fef43b8b",
   "metadata": {
    "execution": {
     "iopub.execute_input": "2024-10-24T13:13:27.649034Z",
     "iopub.status.busy": "2024-10-24T13:13:27.647685Z",
     "iopub.status.idle": "2024-10-24T13:13:27.660753Z",
     "shell.execute_reply": "2024-10-24T13:13:27.659626Z"
    },
    "papermill": {
     "duration": 0.02805,
     "end_time": "2024-10-24T13:13:27.663461",
     "exception": false,
     "start_time": "2024-10-24T13:13:27.635411",
     "status": "completed"
    },
    "tags": []
   },
   "outputs": [
    {
     "data": {
      "text/plain": [
       "person_emp_length\n",
       "0.0     167\n",
       "2.0     133\n",
       "3.0     124\n",
       "4.0     114\n",
       "1.0     111\n",
       "5.0      92\n",
       "6.0      85\n",
       "7.0      64\n",
       "8.0      31\n",
       "9.0      23\n",
       "11.0     18\n",
       "12.0     17\n",
       "10.0     14\n",
       "14.0     14\n",
       "13.0      7\n",
       "15.0      5\n",
       "21.0      3\n",
       "18.0      2\n",
       "17.0      2\n",
       "27.0      1\n",
       "24.0      1\n",
       "16.0      1\n",
       "19.0      1\n",
       "23.0      1\n",
       "20.0      1\n",
       "Name: count, dtype: int64"
      ]
     },
     "execution_count": 17,
     "metadata": {},
     "output_type": "execute_result"
    }
   ],
   "source": [
    "#Here we see that the person needs to have couple of items in credit history \n",
    "\n",
    "df_A_grade['person_emp_length'].value_counts()\n",
    "\n",
    "# Consideing that most people are in the 20s and 30s this tallies well"
   ]
  },
  {
   "cell_type": "code",
   "execution_count": 18,
   "id": "678bb2ee",
   "metadata": {
    "execution": {
     "iopub.execute_input": "2024-10-24T13:13:27.687991Z",
     "iopub.status.busy": "2024-10-24T13:13:27.687551Z",
     "iopub.status.idle": "2024-10-24T13:13:27.698340Z",
     "shell.execute_reply": "2024-10-24T13:13:27.697147Z"
    },
    "papermill": {
     "duration": 0.025847,
     "end_time": "2024-10-24T13:13:27.700917",
     "exception": false,
     "start_time": "2024-10-24T13:13:27.675070",
     "status": "completed"
    },
    "tags": []
   },
   "outputs": [
    {
     "data": {
      "text/plain": [
       "(146, 13)"
      ]
     },
     "execution_count": 18,
     "metadata": {},
     "output_type": "execute_result"
    }
   ],
   "source": [
    "# Now coming back to people with mortgage, I think they will have high income and low\n",
    "# loan percent income\n",
    "df_A_mortgage = df_A_grade[df_A_grade['person_home_ownership']=='MORTGAGE']\n",
    "df_A_mortgage.shape"
   ]
  },
  {
   "cell_type": "code",
   "execution_count": 19,
   "id": "8064ea97",
   "metadata": {
    "execution": {
     "iopub.execute_input": "2024-10-24T13:13:27.725617Z",
     "iopub.status.busy": "2024-10-24T13:13:27.725185Z",
     "iopub.status.idle": "2024-10-24T13:13:28.009793Z",
     "shell.execute_reply": "2024-10-24T13:13:28.008400Z"
    },
    "papermill": {
     "duration": 0.29986,
     "end_time": "2024-10-24T13:13:28.012413",
     "exception": false,
     "start_time": "2024-10-24T13:13:27.712553",
     "status": "completed"
    },
    "tags": []
   },
   "outputs": [
    {
     "data": {
      "image/png": "[encoded data removed]",
      "text/plain": [
       "<Figure size 640x480 with 1 Axes>"
      ]
     },
     "metadata": {},
     "output_type": "display_data"
    }
   ],
   "source": [
    "plt.hist(df_A_mortgage['person_income'], bins=20)  # Adjust bins as needed\n",
    "plt.xlabel('Income')\n",
    "plt.ylabel('Frequency')\n",
    "plt.title('Income Distribution')\n",
    "plt.show()"
   ]
  },
  {
   "cell_type": "code",
   "execution_count": 20,
   "id": "9dd83136",
   "metadata": {
    "execution": {
     "iopub.execute_input": "2024-10-24T13:13:28.038155Z",
     "iopub.status.busy": "2024-10-24T13:13:28.037635Z",
     "iopub.status.idle": "2024-10-24T13:13:28.320258Z",
     "shell.execute_reply": "2024-10-24T13:13:28.318989Z"
    },
    "papermill": {
     "duration": 0.298558,
     "end_time": "2024-10-24T13:13:28.322810",
     "exception": false,
     "start_time": "2024-10-24T13:13:28.024252",
     "status": "completed"
    },
    "tags": []
   },
   "outputs": [
    {
     "data": {
      "image/png": "[encoded data removed]",
      "text/plain": [
       "<Figure size 640x480 with 1 Axes>"
      ]
     },
     "metadata": {},
     "output_type": "display_data"
    }
   ],
   "source": [
    "plt.hist(df_A_mortgage['loan_percent_income'], bins=20)  # Adjust bins as needed\n",
    "plt.xlabel('Income')\n",
    "plt.ylabel('Frequency')\n",
    "plt.title('Income Distribution')\n",
    "plt.show()"
   ]
  },
  {
   "cell_type": "code",
   "execution_count": 21,
   "id": "df20e1bc",
   "metadata": {
    "execution": {
     "iopub.execute_input": "2024-10-24T13:13:28.348751Z",
     "iopub.status.busy": "2024-10-24T13:13:28.348346Z",
     "iopub.status.idle": "2024-10-24T13:13:28.353469Z",
     "shell.execute_reply": "2024-10-24T13:13:28.352153Z"
    },
    "papermill": {
     "duration": 0.020996,
     "end_time": "2024-10-24T13:13:28.355970",
     "exception": false,
     "start_time": "2024-10-24T13:13:28.334974",
     "status": "completed"
    },
    "tags": []
   },
   "outputs": [],
   "source": [
    "## While the general loan percent income is in the range of 0.3 to 0.4\n",
    "## In case of people with mortgage the majority is from 0.01 to 0.2"
   ]
  },
  {
   "cell_type": "code",
   "execution_count": 22,
   "id": "f99a5d1d",
   "metadata": {
    "execution": {
     "iopub.execute_input": "2024-10-24T13:13:28.381771Z",
     "iopub.status.busy": "2024-10-24T13:13:28.381356Z",
     "iopub.status.idle": "2024-10-24T13:13:28.393236Z",
     "shell.execute_reply": "2024-10-24T13:13:28.391986Z"
    },
    "papermill": {
     "duration": 0.027881,
     "end_time": "2024-10-24T13:13:28.395853",
     "exception": false,
     "start_time": "2024-10-24T13:13:28.367972",
     "status": "completed"
    },
    "tags": []
   },
   "outputs": [],
   "source": [
    "X_TRAIN['cb_person_default_on_file'] = X_TRAIN['cb_person_default_on_file'].map({'Y': 1, 'N': 0})\n",
    "\n",
    "X_TEST['cb_person_default_on_file'] = X_TEST['cb_person_default_on_file'].map({'Y': 1, 'N': 0})"
   ]
  },
  {
   "cell_type": "code",
   "execution_count": null,
   "id": "2970b28f",
   "metadata": {
    "papermill": {
     "duration": 0.011494,
     "end_time": "2024-10-24T13:13:28.419380",
     "exception": false,
     "start_time": "2024-10-24T13:13:28.407886",
     "status": "completed"
    },
    "tags": []
   },
   "outputs": [],
   "source": []
  },
  {
   "cell_type": "code",
   "execution_count": null,
   "id": "c074136a",
   "metadata": {
    "papermill": {
     "duration": 0.011606,
     "end_time": "2024-10-24T13:13:28.442962",
     "exception": false,
     "start_time": "2024-10-24T13:13:28.431356",
     "status": "completed"
    },
    "tags": []
   },
   "outputs": [],
   "source": []
  },
  {
   "cell_type": "code",
   "execution_count": 23,
   "id": "c085ad47",
   "metadata": {
    "execution": {
     "iopub.execute_input": "2024-10-24T13:13:28.468537Z",
     "iopub.status.busy": "2024-10-24T13:13:28.468146Z",
     "iopub.status.idle": "2024-10-24T13:13:28.481875Z",
     "shell.execute_reply": "2024-10-24T13:13:28.480639Z"
    },
    "papermill": {
     "duration": 0.029728,
     "end_time": "2024-10-24T13:13:28.484425",
     "exception": false,
     "start_time": "2024-10-24T13:13:28.454697",
     "status": "completed"
    },
    "tags": []
   },
   "outputs": [
    {
     "name": "stdout",
     "output_type": "stream",
     "text": [
      "loan_grade\n",
      "A    0.000191\n",
      "B    0.000294\n",
      "C    0.499547\n",
      "D    0.511124\n",
      "E    0.502478\n",
      "F    0.543624\n",
      "G    0.545455\n",
      "Name: cb_person_default_on_file, dtype: float64\n"
     ]
    }
   ],
   "source": [
    "average_rates = df.groupby('loan_grade')['cb_person_default_on_file'].mean()\n",
    "print(average_rates)\n",
    "\n",
    "## If you have defaulted very less chance for A and B grade loans, hence less applications"
   ]
  },
  {
   "cell_type": "code",
   "execution_count": 24,
   "id": "8647ba21",
   "metadata": {
    "execution": {
     "iopub.execute_input": "2024-10-24T13:13:28.510140Z",
     "iopub.status.busy": "2024-10-24T13:13:28.509704Z",
     "iopub.status.idle": "2024-10-24T13:13:28.529182Z",
     "shell.execute_reply": "2024-10-24T13:13:28.527524Z"
    },
    "papermill": {
     "duration": 0.035217,
     "end_time": "2024-10-24T13:13:28.531680",
     "exception": false,
     "start_time": "2024-10-24T13:13:28.496463",
     "status": "completed"
    },
    "tags": []
   },
   "outputs": [
    {
     "name": "stdout",
     "output_type": "stream",
     "text": [
      "Average defaults for people below 40: 0.14802460501067055\n",
      "Average defaults for people above 40: 0.1553398058252427\n"
     ]
    }
   ],
   "source": [
    "average_below_40 = df[df['person_age'] < 40]['cb_person_default_on_file'].mean()\n",
    "average_above_40 = df[df['person_age'] >= 40]['cb_person_default_on_file'].mean()\n",
    "\n",
    "print(f\"Average defaults for people below 40: {average_below_40}\")\n",
    "print(f\"Average defaults for people above 40: {average_above_40}\")\n",
    "\n",
    "## Higher age means more time to default. Recency of default is not known  "
   ]
  },
  {
   "cell_type": "code",
   "execution_count": 25,
   "id": "7f5fe7fa",
   "metadata": {
    "execution": {
     "iopub.execute_input": "2024-10-24T13:13:28.558569Z",
     "iopub.status.busy": "2024-10-24T13:13:28.557415Z",
     "iopub.status.idle": "2024-10-24T13:13:28.571201Z",
     "shell.execute_reply": "2024-10-24T13:13:28.569965Z"
    },
    "papermill": {
     "duration": 0.029785,
     "end_time": "2024-10-24T13:13:28.573680",
     "exception": false,
     "start_time": "2024-10-24T13:13:28.543895",
     "status": "completed"
    },
    "tags": []
   },
   "outputs": [
    {
     "name": "stdout",
     "output_type": "stream",
     "text": [
      "loan_intent\n",
      "DEBTCONSOLIDATION    0.141575\n",
      "EDUCATION            0.152310\n",
      "HOMEIMPROVEMENT      0.171019\n",
      "MEDICAL              0.145692\n",
      "PERSONAL             0.147664\n",
      "VENTURE              0.139247\n",
      "Name: cb_person_default_on_file, dtype: float64\n"
     ]
    }
   ],
   "source": [
    "average_rates = df.groupby('loan_intent')['cb_person_default_on_file'].mean()\n",
    "print(average_rates)"
   ]
  },
  {
   "cell_type": "code",
   "execution_count": 26,
   "id": "952cd993",
   "metadata": {
    "execution": {
     "iopub.execute_input": "2024-10-24T13:13:28.600013Z",
     "iopub.status.busy": "2024-10-24T13:13:28.599558Z",
     "iopub.status.idle": "2024-10-24T13:13:28.612685Z",
     "shell.execute_reply": "2024-10-24T13:13:28.611424Z"
    },
    "papermill": {
     "duration": 0.029491,
     "end_time": "2024-10-24T13:13:28.615485",
     "exception": false,
     "start_time": "2024-10-24T13:13:28.585994",
     "status": "completed"
    },
    "tags": []
   },
   "outputs": [
    {
     "name": "stdout",
     "output_type": "stream",
     "text": [
      "loan_intent\n",
      "DEBTCONSOLIDATION    0.189313\n",
      "EDUCATION            0.107734\n",
      "HOMEIMPROVEMENT      0.173726\n",
      "MEDICAL              0.178251\n",
      "PERSONAL             0.132788\n",
      "VENTURE              0.092798\n",
      "Name: loan_status, dtype: float64\n"
     ]
    }
   ],
   "source": [
    "average_rates = df.groupby('loan_intent')['loan_status'].mean()\n",
    "print(average_rates)\n",
    "\n",
    "## Less support for venture and education"
   ]
  },
  {
   "cell_type": "code",
   "execution_count": 27,
   "id": "b7f849e6",
   "metadata": {
    "execution": {
     "iopub.execute_input": "2024-10-24T13:13:28.643280Z",
     "iopub.status.busy": "2024-10-24T13:13:28.642462Z",
     "iopub.status.idle": "2024-10-24T13:13:28.658513Z",
     "shell.execute_reply": "2024-10-24T13:13:28.657181Z"
    },
    "papermill": {
     "duration": 0.0321,
     "end_time": "2024-10-24T13:13:28.660915",
     "exception": false,
     "start_time": "2024-10-24T13:13:28.628815",
     "status": "completed"
    },
    "tags": []
   },
   "outputs": [
    {
     "name": "stdout",
     "output_type": "stream",
     "text": [
      "Average loan status for people below 4: 0.14810059190128716\n",
      "Average loan status for people above 4: 0.13554690424496518\n"
     ]
    }
   ],
   "source": [
    "\n",
    "\n",
    "df = X_TRAIN   \n",
    "average_below_4 = df[df['cb_person_cred_hist_length'] <= 4]['loan_status'].mean()\n",
    "average_above_4 = df[df['cb_person_cred_hist_length'] > 4]['loan_status'].mean()\n",
    "\n",
    "print(f\"Average loan status for people below 4: {average_below_4}\")\n",
    "print(f\"Average loan status for people above 4: {average_above_4}\")\n",
    "\n",
    "## One could attribute that to more time to default"
   ]
  },
  {
   "cell_type": "code",
   "execution_count": 28,
   "id": "31d711b0",
   "metadata": {
    "execution": {
     "iopub.execute_input": "2024-10-24T13:13:28.687681Z",
     "iopub.status.busy": "2024-10-24T13:13:28.687270Z",
     "iopub.status.idle": "2024-10-24T13:13:28.703071Z",
     "shell.execute_reply": "2024-10-24T13:13:28.701703Z"
    },
    "papermill": {
     "duration": 0.032233,
     "end_time": "2024-10-24T13:13:28.705454",
     "exception": false,
     "start_time": "2024-10-24T13:13:28.673221",
     "status": "completed"
    },
    "tags": []
   },
   "outputs": [
    {
     "name": "stdout",
     "output_type": "stream",
     "text": [
      "Average default for people below 4: 0.148570354827597\n",
      "Average default for people above 4: 0.14816201242794041\n"
     ]
    }
   ],
   "source": [
    "\n",
    "df = X_TRAIN   \n",
    "average_below_4 = df[df['cb_person_cred_hist_length'] <= 4]['cb_person_default_on_file'].mean()\n",
    "average_above_4 = df[df['cb_person_cred_hist_length'] > 4]['cb_person_default_on_file'].mean()\n",
    "\n",
    "print(f\"Average default for people below 4: {average_below_4}\")\n",
    "print(f\"Average default for people above 4: {average_above_4}\")\n",
    "\n",
    "## surprisingly same"
   ]
  },
  {
   "cell_type": "code",
   "execution_count": 29,
   "id": "46b69253",
   "metadata": {
    "execution": {
     "iopub.execute_input": "2024-10-24T13:13:28.731906Z",
     "iopub.status.busy": "2024-10-24T13:13:28.731533Z",
     "iopub.status.idle": "2024-10-24T13:13:28.746498Z",
     "shell.execute_reply": "2024-10-24T13:13:28.745353Z"
    },
    "papermill": {
     "duration": 0.031069,
     "end_time": "2024-10-24T13:13:28.749039",
     "exception": false,
     "start_time": "2024-10-24T13:13:28.717970",
     "status": "completed"
    },
    "tags": []
   },
   "outputs": [
    {
     "name": "stdout",
     "output_type": "stream",
     "text": [
      "Average default for people below 4: 0.16790123456790124\n",
      "Average default for people above 4: 0.124953095684803\n"
     ]
    }
   ],
   "source": [
    "\n",
    "df = X_TRAIN   \n",
    "average_below_4 = df[df['person_emp_length'] <= 4]['cb_person_default_on_file'].mean()\n",
    "average_above_4 = df[df['person_emp_length'] > 4]['cb_person_default_on_file'].mean()\n",
    "\n",
    "print(f\"Average default for people below 4: {average_below_4}\")\n",
    "print(f\"Average default for people above 4: {average_above_4}\")\n",
    "\n",
    "## People who have worked more less likely to default"
   ]
  },
  {
   "cell_type": "code",
   "execution_count": 30,
   "id": "13e12e89",
   "metadata": {
    "execution": {
     "iopub.execute_input": "2024-10-24T13:13:28.776265Z",
     "iopub.status.busy": "2024-10-24T13:13:28.775853Z",
     "iopub.status.idle": "2024-10-24T13:13:28.792910Z",
     "shell.execute_reply": "2024-10-24T13:13:28.791915Z"
    },
    "papermill": {
     "duration": 0.033834,
     "end_time": "2024-10-24T13:13:28.795447",
     "exception": false,
     "start_time": "2024-10-24T13:13:28.761613",
     "status": "completed"
    },
    "tags": []
   },
   "outputs": [],
   "source": [
    "X_TRAIN['cb_person_default_on_file'] = X_TRAIN['cb_person_default_on_file'].map({'Y': 1, 'N': 0})\n",
    "\n",
    "X_TEST['cb_person_default_on_file'] = X_TEST['cb_person_default_on_file'].map({'Y': 1, 'N': 0})"
   ]
  },
  {
   "cell_type": "code",
   "execution_count": 31,
   "id": "3b80e528",
   "metadata": {
    "execution": {
     "iopub.execute_input": "2024-10-24T13:13:28.822439Z",
     "iopub.status.busy": "2024-10-24T13:13:28.822034Z",
     "iopub.status.idle": "2024-10-24T13:13:28.838053Z",
     "shell.execute_reply": "2024-10-24T13:13:28.836664Z"
    },
    "papermill": {
     "duration": 0.032765,
     "end_time": "2024-10-24T13:13:28.840741",
     "exception": false,
     "start_time": "2024-10-24T13:13:28.807976",
     "status": "completed"
    },
    "tags": []
   },
   "outputs": [
    {
     "name": "stdout",
     "output_type": "stream",
     "text": [
      "Average loan status for people below 4: 0.17543366150961087\n",
      "Average loan status for people above 4: 0.10270168855534709\n"
     ]
    }
   ],
   "source": [
    "df = X_TRAIN   \n",
    "average_below_4 = df[df['person_emp_length'] <= 4]['loan_status'].mean()\n",
    "average_above_4 = df[df['person_emp_length'] > 4]['loan_status'].mean()\n",
    "\n",
    "print(f\"Average loan status for people below 4: {average_below_4}\")\n",
    "print(f\"Average loan status for people above 4: {average_above_4}\")\n",
    "\n",
    "## And yet less likely to get loans"
   ]
  },
  {
   "cell_type": "code",
   "execution_count": 32,
   "id": "42c95a75",
   "metadata": {
    "execution": {
     "iopub.execute_input": "2024-10-24T13:13:28.868346Z",
     "iopub.status.busy": "2024-10-24T13:13:28.867901Z",
     "iopub.status.idle": "2024-10-24T13:13:28.873028Z",
     "shell.execute_reply": "2024-10-24T13:13:28.871985Z"
    },
    "papermill": {
     "duration": 0.021966,
     "end_time": "2024-10-24T13:13:28.875295",
     "exception": false,
     "start_time": "2024-10-24T13:13:28.853329",
     "status": "completed"
    },
    "tags": []
   },
   "outputs": [],
   "source": [
    "# import seaborn as sns\n",
    "# import pandas as pd\n",
    "# import matplotlib.pyplot as plt\n",
    "\n",
    "# # # Assuming your DataFrame is called 'df' and has numerical features and 'loan_status'\n",
    "# # numerical_features = X_TRAIN.select_dtypes(['int64', 'float64']).columns.to_list()  # Select numerical columns\n",
    "\n",
    "# # # Create scatter plots for all combinations\n",
    "# # sns.pairplot(X_TRAIN, vars=numerical_features, hue='loan_status')\n",
    "# # plt.show()"
   ]
  },
  {
   "cell_type": "code",
   "execution_count": 33,
   "id": "67ebda26",
   "metadata": {
    "execution": {
     "iopub.execute_input": "2024-10-24T13:13:28.902286Z",
     "iopub.status.busy": "2024-10-24T13:13:28.901861Z",
     "iopub.status.idle": "2024-10-24T13:13:28.919233Z",
     "shell.execute_reply": "2024-10-24T13:13:28.917749Z"
    },
    "papermill": {
     "duration": 0.034023,
     "end_time": "2024-10-24T13:13:28.921864",
     "exception": false,
     "start_time": "2024-10-24T13:13:28.887841",
     "status": "completed"
    },
    "tags": []
   },
   "outputs": [
    {
     "name": "stdout",
     "output_type": "stream",
     "text": [
      "Average loan status for people below .4: 0.13287972437195936\n",
      "Average loan status for people above .4: 0.7618510158013544\n"
     ]
    }
   ],
   "source": [
    "## As loan percent income increases, so does chance of approval\n",
    "df = X_TRAIN   \n",
    "average_below_4 = df[df['loan_percent_income'] <= 0.4]['loan_status'].mean()\n",
    "average_above_4 = df[df['loan_percent_income'] > 0.4]['loan_status'].mean()\n",
    "\n",
    "print(f\"Average loan status for people below .4: {average_below_4}\")\n",
    "print(f\"Average loan status for people above .4: {average_above_4}\")"
   ]
  },
  {
   "cell_type": "code",
   "execution_count": 34,
   "id": "7592c67c",
   "metadata": {
    "execution": {
     "iopub.execute_input": "2024-10-24T13:13:28.948998Z",
     "iopub.status.busy": "2024-10-24T13:13:28.948576Z",
     "iopub.status.idle": "2024-10-24T13:13:28.986371Z",
     "shell.execute_reply": "2024-10-24T13:13:28.985266Z"
    },
    "papermill": {
     "duration": 0.054364,
     "end_time": "2024-10-24T13:13:28.988871",
     "exception": false,
     "start_time": "2024-10-24T13:13:28.934507",
     "status": "completed"
    },
    "tags": []
   },
   "outputs": [
    {
     "name": "stdout",
     "output_type": "stream",
     "text": [
      "Average loan status for people below 50000: 0.21792728792310906\n",
      "Average loan status for people above 50000: 0.0903067838110327\n",
      "Average loan amnt for people below 50000: 7106.1544086920185\n",
      "Average loan amnt for people above 50000: 10673.003802390896\n",
      "Average default for people below 50000: nan\n",
      "Average default amnt for people above 50000: nan\n"
     ]
    }
   ],
   "source": [
    "df = X_TRAIN   \n",
    "average_below_50 = df[df['person_income'] <= 50000]['loan_status'].mean()\n",
    "average_above_50 = df[df['person_income'] > 50000]['loan_status'].mean()\n",
    "\n",
    "print(f\"Average loan status for people below 50000: {average_below_50}\")\n",
    "print(f\"Average loan status for people above 50000: {average_above_50}\")\n",
    "df[df['person_income'] >= 50000]['loan_status'].count()\n",
    "\n",
    "average_below_50 = df[df['person_income'] <= 50000]['loan_amnt'].mean()\n",
    "average_above_50 = df[df['person_income'] > 50000]['loan_amnt'].mean()\n",
    "print(f\"Average loan amnt for people below 50000: {average_below_50}\")\n",
    "print(f\"Average loan amnt for people above 50000: {average_above_50}\")\n",
    "\n",
    "\n",
    "average_below_50 = df[df['person_income'] <= 50000]['cb_person_default_on_file'].mean()\n",
    "average_above_50 = df[df['person_income'] > 50000]['cb_person_default_on_file'].mean()\n",
    "print(f\"Average default for people below 50000: {average_below_50}\")\n",
    "print(f\"Average default amnt for people above 50000: {average_above_50}\")\n",
    "\n",
    "# People with higher income has very less chance of getting a loan\n",
    "# The loan amount of these people is on a higher side\n",
    "# people below 50 has more defaults as well"
   ]
  },
  {
   "cell_type": "code",
   "execution_count": null,
   "id": "fe9fc5c3",
   "metadata": {
    "papermill": {
     "duration": 0.012791,
     "end_time": "2024-10-24T13:13:29.015158",
     "exception": false,
     "start_time": "2024-10-24T13:13:29.002367",
     "status": "completed"
    },
    "tags": []
   },
   "outputs": [],
   "source": []
  },
  {
   "cell_type": "code",
   "execution_count": null,
   "id": "5a4ee4ad",
   "metadata": {
    "papermill": {
     "duration": 0.013132,
     "end_time": "2024-10-24T13:13:29.041338",
     "exception": false,
     "start_time": "2024-10-24T13:13:29.028206",
     "status": "completed"
    },
    "tags": []
   },
   "outputs": [],
   "source": []
  }
 ],
 "metadata": {
  "kaggle": {
   "accelerator": "none",
   "dataSources": [
    {
     "databundleVersionId": 9709193,
     "sourceId": 84894,
     "sourceType": "competition"
    },
    {
     "datasetId": 4675026,
     "sourceId": 7949759,
     "sourceType": "datasetVersion"
    }
   ],
   "dockerImageVersionId": 30786,
   "isGpuEnabled": false,
   "isInternetEnabled": true,
   "language": "python",
   "sourceType": "notebook"
  },
  "kernelspec": {
   "display_name": "Python 3",
   "language": "python",
   "name": "python3"
  },
  "language_info": {
   "codemirror_mode": {
    "name": "ipython",
    "version": 3
   },
   "file_extension": ".py",
   "mimetype": "text/x-python",
   "name": "python",
   "nbconvert_exporter": "python",
   "pygments_lexer": "ipython3",
   "version": "3.10.14"
  },
  "papermill": {
   "default_parameters": {},
   "duration": 9.559624,
   "end_time": "2024-10-24T13:13:29.676323",
   "environment_variables": {},
   "exception": null,
   "input_path": "__notebook__.ipynb",
   "output_path": "__notebook__.ipynb",
   "parameters": {},
   "start_time": "2024-10-24T13:13:20.116699",
   "version": "2.6.0"
  }
 },
 "nbformat": 4,
 "nbformat_minor": 5
}
