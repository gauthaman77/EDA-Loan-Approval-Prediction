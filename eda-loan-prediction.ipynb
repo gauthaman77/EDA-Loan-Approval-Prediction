{
 "cells": [
  {
   "cell_type": "code",
   "execution_count": 1,
   "id": "01757420",
   "metadata": {
    "_cell_guid": "b1076dfc-b9ad-4769-8c92-a6c4dae69d19",
    "_uuid": "8f2839f25d086af736a60e9eeb907d3b93b6e0e5",
    "execution": {
     "iopub.execute_input": "2024-10-24T15:20:51.408694Z",
     "iopub.status.busy": "2024-10-24T15:20:51.408268Z",
     "iopub.status.idle": "2024-10-24T15:20:52.315019Z",
     "shell.execute_reply": "2024-10-24T15:20:52.313904Z"
    },
    "papermill": {
     "duration": 0.926364,
     "end_time": "2024-10-24T15:20:52.317753",
     "exception": false,
     "start_time": "2024-10-24T15:20:51.391389",
     "status": "completed"
    },
    "tags": []
   },
   "outputs": [
    {
     "name": "stdout",
     "output_type": "stream",
     "text": [
      "/kaggle/input/loan-approval-prediction/credit_risk_dataset.csv\n",
      "/kaggle/input/playground-series-s4e10/sample_submission.csv\n",
      "/kaggle/input/playground-series-s4e10/train.csv\n",
      "/kaggle/input/playground-series-s4e10/test.csv\n"
     ]
    }
   ],
   "source": [
    "# This Python 3 environment comes with many helpful analytics libraries installed\n",
    "# It is defined by the kaggle/python Docker image: https://github.com/kaggle/docker-python\n",
    "# For example, here's several helpful packages to load\n",
    "\n",
    "import numpy as np # linear algebra\n",
    "import pandas as pd # data processing, CSV file I/O (e.g. pd.read_csv)\n",
    "\n",
    "# Input data files are available in the read-only \"../input/\" directory\n",
    "# For example, running this (by clicking run or pressing Shift+Enter) will list all files under the input directory\n",
    "\n",
    "import os\n",
    "for dirname, _, filenames in os.walk('/kaggle/input'):\n",
    "    for filename in filenames:\n",
    "        print(os.path.join(dirname, filename))\n",
    "\n",
    "# You can write up to 20GB to the current directory (/kaggle/working/) that gets preserved as output when you create a version using \"Save & Run All\" \n",
    "# You can also write temporary files to /kaggle/temp/, but they won't be saved outside of the current session"
   ]
  },
  {
   "cell_type": "code",
   "execution_count": 2,
   "id": "465fa30f",
   "metadata": {
    "execution": {
     "iopub.execute_input": "2024-10-24T15:20:52.347122Z",
     "iopub.status.busy": "2024-10-24T15:20:52.346143Z",
     "iopub.status.idle": "2024-10-24T15:20:52.720122Z",
     "shell.execute_reply": "2024-10-24T15:20:52.719030Z"
    },
    "papermill": {
     "duration": 0.391326,
     "end_time": "2024-10-24T15:20:52.722976",
     "exception": false,
     "start_time": "2024-10-24T15:20:52.331650",
     "status": "completed"
    },
    "tags": []
   },
   "outputs": [],
   "source": [
    "X_TRAIN = pd.read_csv('/kaggle/input/playground-series-s4e10/train.csv')\n",
    "X_TEST = pd.read_csv('/kaggle/input/playground-series-s4e10/test.csv')\n",
    "X_ORIG = pd.read_csv('/kaggle/input/loan-approval-prediction/credit_risk_dataset.csv')\n",
    "\n"
   ]
  },
  {
   "cell_type": "code",
   "execution_count": 3,
   "id": "145f2300",
   "metadata": {
    "execution": {
     "iopub.execute_input": "2024-10-24T15:20:52.752050Z",
     "iopub.status.busy": "2024-10-24T15:20:52.751621Z",
     "iopub.status.idle": "2024-10-24T15:20:52.807953Z",
     "shell.execute_reply": "2024-10-24T15:20:52.806879Z"
    },
    "papermill": {
     "duration": 0.073527,
     "end_time": "2024-10-24T15:20:52.810684",
     "exception": false,
     "start_time": "2024-10-24T15:20:52.737157",
     "status": "completed"
    },
    "tags": []
   },
   "outputs": [
    {
     "name": "stdout",
     "output_type": "stream",
     "text": [
      "<class 'pandas.core.frame.DataFrame'>\n",
      "RangeIndex: 58645 entries, 0 to 58644\n",
      "Data columns (total 13 columns):\n",
      " #   Column                      Non-Null Count  Dtype  \n",
      "---  ------                      --------------  -----  \n",
      " 0   id                          58645 non-null  int64  \n",
      " 1   person_age                  58645 non-null  int64  \n",
      " 2   person_income               58645 non-null  int64  \n",
      " 3   person_home_ownership       58645 non-null  object \n",
      " 4   person_emp_length           58645 non-null  float64\n",
      " 5   loan_intent                 58645 non-null  object \n",
      " 6   loan_grade                  58645 non-null  object \n",
      " 7   loan_amnt                   58645 non-null  int64  \n",
      " 8   loan_int_rate               58645 non-null  float64\n",
      " 9   loan_percent_income         58645 non-null  float64\n",
      " 10  cb_person_default_on_file   58645 non-null  object \n",
      " 11  cb_person_cred_hist_length  58645 non-null  int64  \n",
      " 12  loan_status                 58645 non-null  int64  \n",
      "dtypes: float64(3), int64(6), object(4)\n",
      "memory usage: 5.8+ MB\n"
     ]
    }
   ],
   "source": [
    "X_TRAIN.info()"
   ]
  },
  {
   "cell_type": "code",
   "execution_count": 4,
   "id": "38896c02",
   "metadata": {
    "execution": {
     "iopub.execute_input": "2024-10-24T15:20:52.839260Z",
     "iopub.status.busy": "2024-10-24T15:20:52.838854Z",
     "iopub.status.idle": "2024-10-24T15:20:52.853309Z",
     "shell.execute_reply": "2024-10-24T15:20:52.852215Z"
    },
    "papermill": {
     "duration": 0.03254,
     "end_time": "2024-10-24T15:20:52.856656",
     "exception": false,
     "start_time": "2024-10-24T15:20:52.824116",
     "status": "completed"
    },
    "tags": []
   },
   "outputs": [],
   "source": [
    "X_TRAIN['cb_person_default_on_file'] = X_TRAIN['cb_person_default_on_file'].map({'Y': 1, 'N': 0})\n",
    "\n",
    "X_TEST['cb_person_default_on_file'] = X_TEST['cb_person_default_on_file'].map({'Y': 1, 'N': 0})"
   ]
  },
  {
   "cell_type": "code",
   "execution_count": 5,
   "id": "b5b42ee5",
   "metadata": {
    "execution": {
     "iopub.execute_input": "2024-10-24T15:20:52.886912Z",
     "iopub.status.busy": "2024-10-24T15:20:52.886478Z",
     "iopub.status.idle": "2024-10-24T15:20:52.910384Z",
     "shell.execute_reply": "2024-10-24T15:20:52.909042Z"
    },
    "papermill": {
     "duration": 0.041415,
     "end_time": "2024-10-24T15:20:52.913093",
     "exception": false,
     "start_time": "2024-10-24T15:20:52.871678",
     "status": "completed"
    },
    "tags": []
   },
   "outputs": [
    {
     "name": "stdout",
     "output_type": "stream",
     "text": [
      "Average loan status for people below 50: 0.14190771349862258\n",
      "Average loan status for people above 50: 0.1911504424778761\n"
     ]
    },
    {
     "data": {
      "text/plain": [
       "2884"
      ]
     },
     "execution_count": 5,
     "metadata": {},
     "output_type": "execute_result"
    }
   ],
   "source": [
    "## Loan status on Age over 40\n",
    "df = X_TRAIN   \n",
    "average_below_50 = df[df['person_age'] < 50]['loan_status'].mean()\n",
    "average_above_50 = df[df['person_age'] >= 50]['loan_status'].mean()\n",
    "\n",
    "print(f\"Average loan status for people below 50: {average_below_50}\")\n",
    "print(f\"Average loan status for people above 50: {average_above_50}\")\n",
    "\n",
    "## Approval chances increases slightly with age\n",
    "df[df['person_age'] >= 40]['loan_status'].count()"
   ]
  },
  {
   "cell_type": "code",
   "execution_count": 6,
   "id": "997b38d2",
   "metadata": {
    "execution": {
     "iopub.execute_input": "2024-10-24T15:20:52.942453Z",
     "iopub.status.busy": "2024-10-24T15:20:52.941530Z",
     "iopub.status.idle": "2024-10-24T15:20:52.959184Z",
     "shell.execute_reply": "2024-10-24T15:20:52.958167Z"
    },
    "papermill": {
     "duration": 0.034941,
     "end_time": "2024-10-24T15:20:52.961588",
     "exception": false,
     "start_time": "2024-10-24T15:20:52.926647",
     "status": "completed"
    },
    "tags": []
   },
   "outputs": [
    {
     "name": "stdout",
     "output_type": "stream",
     "text": [
      "loan_grade\n",
      "A     7.335176\n",
      "B    11.034733\n",
      "C    13.510343\n",
      "D    15.404599\n",
      "E    16.930961\n",
      "F    18.610940\n",
      "G    20.327576\n",
      "Name: loan_int_rate, dtype: float64\n"
     ]
    }
   ],
   "source": [
    "average_rates = df.groupby('loan_grade')['loan_int_rate'].mean()\n",
    "print(average_rates)\n",
    "\n",
    "## interest rates rises fastly with loan grades"
   ]
  },
  {
   "cell_type": "code",
   "execution_count": 7,
   "id": "41e28f2d",
   "metadata": {
    "execution": {
     "iopub.execute_input": "2024-10-24T15:20:52.990574Z",
     "iopub.status.busy": "2024-10-24T15:20:52.990144Z",
     "iopub.status.idle": "2024-10-24T15:20:53.004563Z",
     "shell.execute_reply": "2024-10-24T15:20:53.003267Z"
    },
    "papermill": {
     "duration": 0.031997,
     "end_time": "2024-10-24T15:20:53.007188",
     "exception": false,
     "start_time": "2024-10-24T15:20:52.975191",
     "status": "completed"
    },
    "tags": []
   },
   "outputs": [
    {
     "name": "stdout",
     "output_type": "stream",
     "text": [
      "loan_grade\n",
      "A    0.049180\n",
      "B    0.102304\n",
      "C    0.135375\n",
      "D    0.593564\n",
      "E    0.625372\n",
      "F    0.610738\n",
      "G    0.818182\n",
      "Name: loan_status, dtype: float64\n"
     ]
    }
   ],
   "source": [
    "average_rates = df.groupby('loan_grade')['loan_status'].mean()\n",
    "print(average_rates)\n",
    "\n",
    "## chances of approval also increases with loan grade\n",
    "## Should be because higher interest rates would cover for higher default rates"
   ]
  },
  {
   "cell_type": "code",
   "execution_count": 8,
   "id": "589345be",
   "metadata": {
    "execution": {
     "iopub.execute_input": "2024-10-24T15:20:53.036961Z",
     "iopub.status.busy": "2024-10-24T15:20:53.036488Z",
     "iopub.status.idle": "2024-10-24T15:20:53.054246Z",
     "shell.execute_reply": "2024-10-24T15:20:53.053144Z"
    },
    "papermill": {
     "duration": 0.035864,
     "end_time": "2024-10-24T15:20:53.056867",
     "exception": false,
     "start_time": "2024-10-24T15:20:53.021003",
     "status": "completed"
    },
    "tags": []
   },
   "outputs": [
    {
     "data": {
      "text/plain": [
       "loan_grade\n",
       "A    20984\n",
       "B    20400\n",
       "C    11036\n",
       "D     5034\n",
       "E     1009\n",
       "F      149\n",
       "G       33\n",
       "Name: count, dtype: int64"
      ]
     },
     "execution_count": 8,
     "metadata": {},
     "output_type": "execute_result"
    }
   ],
   "source": [
    "df['loan_grade'].value_counts()\n",
    "\n",
    "# If loan grade is something customer applies for, everyone has very good chances from D\n",
    "# grade loans"
   ]
  },
  {
   "cell_type": "code",
   "execution_count": 9,
   "id": "906e4209",
   "metadata": {
    "execution": {
     "iopub.execute_input": "2024-10-24T15:20:53.086555Z",
     "iopub.status.busy": "2024-10-24T15:20:53.086120Z",
     "iopub.status.idle": "2024-10-24T15:20:53.107619Z",
     "shell.execute_reply": "2024-10-24T15:20:53.106415Z"
    },
    "papermill": {
     "duration": 0.039264,
     "end_time": "2024-10-24T15:20:53.110180",
     "exception": false,
     "start_time": "2024-10-24T15:20:53.070916",
     "status": "completed"
    },
    "tags": []
   },
   "outputs": [
    {
     "data": {
      "text/plain": [
       "(1032, 13)"
      ]
     },
     "execution_count": 9,
     "metadata": {},
     "output_type": "execute_result"
    }
   ],
   "source": [
    "# Let us check for the qualities of grade A loan approved people\n",
    "df_A_grade = df[(df['loan_grade']=='A') & (df['loan_status']==1)] \n",
    "df_A_grade.shape\n",
    "# There are more than 1000 people with such situation\n",
    "# Assumptions on such people\n",
    "# High income\n",
    "# Living rent or owned home\n",
    "# Have more work experience\n",
    "# Have not defaulted\n",
    "# loan percent income is less"
   ]
  },
  {
   "cell_type": "code",
   "execution_count": 10,
   "id": "cbea08ec",
   "metadata": {
    "execution": {
     "iopub.execute_input": "2024-10-24T15:20:53.140507Z",
     "iopub.status.busy": "2024-10-24T15:20:53.140082Z",
     "iopub.status.idle": "2024-10-24T15:20:53.149196Z",
     "shell.execute_reply": "2024-10-24T15:20:53.148098Z"
    },
    "papermill": {
     "duration": 0.02784,
     "end_time": "2024-10-24T15:20:53.152053",
     "exception": false,
     "start_time": "2024-10-24T15:20:53.124213",
     "status": "completed"
    },
    "tags": []
   },
   "outputs": [
    {
     "data": {
      "text/plain": [
       "person_home_ownership\n",
       "RENT        879\n",
       "MORTGAGE    146\n",
       "OWN           7\n",
       "Name: count, dtype: int64"
      ]
     },
     "execution_count": 10,
     "metadata": {},
     "output_type": "execute_result"
    }
   ],
   "source": [
    "df_A_grade['person_home_ownership'].value_counts()"
   ]
  },
  {
   "cell_type": "code",
   "execution_count": 11,
   "id": "8f256e92",
   "metadata": {
    "execution": {
     "iopub.execute_input": "2024-10-24T15:20:53.183991Z",
     "iopub.status.busy": "2024-10-24T15:20:53.183526Z",
     "iopub.status.idle": "2024-10-24T15:20:55.027031Z",
     "shell.execute_reply": "2024-10-24T15:20:55.025478Z"
    },
    "papermill": {
     "duration": 1.864269,
     "end_time": "2024-10-24T15:20:55.031229",
     "exception": false,
     "start_time": "2024-10-24T15:20:53.166960",
     "status": "completed"
    },
    "tags": []
   },
   "outputs": [
    {
     "data": {
      "image/png": "[encoded data removed]",
      "text/plain": [
       "<Figure size 600x600 with 1 Axes>"
      ]
     },
     "metadata": {},
     "output_type": "display_data"
    }
   ],
   "source": [
    "import matplotlib.pyplot as plt\n",
    "import seaborn as sns\n",
    "\n",
    "# Sample data\n",
    "data = [879, 146, 7]\n",
    "labels = ['RENT', 'MORTGAGE', 'OWN']\n",
    "\n",
    "# Create the pie chart\n",
    "plt.figure(figsize=(6, 6))  # Adjust figure size if needed\n",
    "sns.set_palette('pastel')  # Set color palette\n",
    "plt.pie(data, labels=labels, autopct='%1.1f%%', startangle=90)\n",
    "plt.title('Home Ownership')\n",
    "plt.show()"
   ]
  },
  {
   "cell_type": "code",
   "execution_count": 12,
   "id": "3d6d0a4f",
   "metadata": {
    "execution": {
     "iopub.execute_input": "2024-10-24T15:20:55.074431Z",
     "iopub.status.busy": "2024-10-24T15:20:55.073409Z",
     "iopub.status.idle": "2024-10-24T15:20:55.082785Z",
     "shell.execute_reply": "2024-10-24T15:20:55.081789Z"
    },
    "papermill": {
     "duration": 0.028348,
     "end_time": "2024-10-24T15:20:55.085402",
     "exception": false,
     "start_time": "2024-10-24T15:20:55.057054",
     "status": "completed"
    },
    "tags": []
   },
   "outputs": [
    {
     "data": {
      "text/plain": [
       "loan_intent\n",
       "MEDICAL              227\n",
       "EDUCATION            206\n",
       "PERSONAL             189\n",
       "DEBTCONSOLIDATION    184\n",
       "HOMEIMPROVEMENT      124\n",
       "VENTURE              102\n",
       "Name: count, dtype: int64"
      ]
     },
     "execution_count": 12,
     "metadata": {},
     "output_type": "execute_result"
    }
   ],
   "source": [
    "# Surprisingly there are people with mortgage in this and less of people owning home\n",
    "# We will look further into it in just some time\n",
    "# Next up what are the purposes\n",
    "df_A_grade['loan_intent'].value_counts()"
   ]
  },
  {
   "cell_type": "code",
   "execution_count": 13,
   "id": "44c649f4",
   "metadata": {
    "execution": {
     "iopub.execute_input": "2024-10-24T15:20:55.117412Z",
     "iopub.status.busy": "2024-10-24T15:20:55.116605Z",
     "iopub.status.idle": "2024-10-24T15:20:55.320601Z",
     "shell.execute_reply": "2024-10-24T15:20:55.318962Z"
    },
    "papermill": {
     "duration": 0.224775,
     "end_time": "2024-10-24T15:20:55.325198",
     "exception": false,
     "start_time": "2024-10-24T15:20:55.100423",
     "status": "completed"
    },
    "tags": []
   },
   "outputs": [
    {
     "data": {
      "image/png": "[encoded data removed]",
      "text/plain": [
       "<Figure size 600x600 with 1 Axes>"
      ]
     },
     "metadata": {},
     "output_type": "display_data"
    }
   ],
   "source": [
    "names = ['MEDICAL', 'EDUCATION', 'PERSONAL', 'DEBTCONSOLIDATION', 'HOMEIMPROVEMENT', 'VENTURE']\n",
    "counts = [227, 206, 189, 184, 124, 102]\n",
    "\n",
    "# Create the pie chart\n",
    "plt.figure(figsize=(6, 6))  # Adjust figure size if needed\n",
    "sns.set_palette('pastel')  # Set color palette\n",
    "plt.pie(counts, labels=names, autopct='%1.1f%%', startangle=90)\n",
    "plt.title('Home Ownership')\n",
    "plt.show()"
   ]
  },
  {
   "cell_type": "code",
   "execution_count": 14,
   "id": "c591f938",
   "metadata": {
    "execution": {
     "iopub.execute_input": "2024-10-24T15:20:55.362913Z",
     "iopub.status.busy": "2024-10-24T15:20:55.362439Z",
     "iopub.status.idle": "2024-10-24T15:20:55.372510Z",
     "shell.execute_reply": "2024-10-24T15:20:55.371515Z"
    },
    "papermill": {
     "duration": 0.029471,
     "end_time": "2024-10-24T15:20:55.375182",
     "exception": false,
     "start_time": "2024-10-24T15:20:55.345711",
     "status": "completed"
    },
    "tags": []
   },
   "outputs": [
    {
     "data": {
      "text/plain": [
       "cb_person_default_on_file\n",
       "0    1032\n",
       "Name: count, dtype: int64"
      ]
     },
     "execution_count": 14,
     "metadata": {},
     "output_type": "execute_result"
    }
   ],
   "source": [
    "# Venture seems to be a bit on the lower side\n",
    "df_A_grade['cb_person_default_on_file'].value_counts()\n",
    "\n"
   ]
  },
  {
   "cell_type": "code",
   "execution_count": 15,
   "id": "f4a993b6",
   "metadata": {
    "execution": {
     "iopub.execute_input": "2024-10-24T15:20:55.408392Z",
     "iopub.status.busy": "2024-10-24T15:20:55.407980Z",
     "iopub.status.idle": "2024-10-24T15:20:55.713061Z",
     "shell.execute_reply": "2024-10-24T15:20:55.711800Z"
    },
    "papermill": {
     "duration": 0.324987,
     "end_time": "2024-10-24T15:20:55.716028",
     "exception": false,
     "start_time": "2024-10-24T15:20:55.391041",
     "status": "completed"
    },
    "tags": []
   },
   "outputs": [
    {
     "data": {
      "image/png": "[encoded data removed]",
      "text/plain": [
       "<Figure size 640x480 with 1 Axes>"
      ]
     },
     "metadata": {},
     "output_type": "display_data"
    }
   ],
   "source": [
    "# This is where there is no compromise no defaults\n",
    "# Let us create histogram of income\n",
    "# Create the histogram\n",
    "plt.hist(df_A_grade['person_income'], bins=20)  # Adjust bins as needed\n",
    "plt.xlabel('Income')\n",
    "plt.ylabel('Frequency')\n",
    "plt.title('Income Distribution')\n",
    "plt.show()\n"
   ]
  },
  {
   "cell_type": "code",
   "execution_count": 16,
   "id": "a872dca9",
   "metadata": {
    "execution": {
     "iopub.execute_input": "2024-10-24T15:20:55.750923Z",
     "iopub.status.busy": "2024-10-24T15:20:55.750435Z",
     "iopub.status.idle": "2024-10-24T15:20:56.048973Z",
     "shell.execute_reply": "2024-10-24T15:20:56.047800Z"
    },
    "papermill": {
     "duration": 0.318774,
     "end_time": "2024-10-24T15:20:56.051452",
     "exception": false,
     "start_time": "2024-10-24T15:20:55.732678",
     "status": "completed"
    },
    "tags": []
   },
   "outputs": [
    {
     "data": {
      "image/png": "[encoded data removed]",
      "text/plain": [
       "<Figure size 640x480 with 1 Axes>"
      ]
     },
     "metadata": {},
     "output_type": "display_data"
    }
   ],
   "source": [
    "## Surprisingly it includes a lot of people below 50k annual income\n",
    "# I think that loan percent income is the key here\n",
    "# This is where there is no compromise no defaults\n",
    "# Let us create histogram of income\n",
    "# Create the histogram\n",
    "plt.hist(df_A_grade['loan_percent_income'], bins=20)  # Adjust bins as needed\n",
    "plt.xlabel('Income')\n",
    "plt.ylabel('Frequency')\n",
    "plt.title('Income Distribution')\n",
    "plt.show()"
   ]
  },
  {
   "cell_type": "code",
   "execution_count": 17,
   "id": "4b9d63af",
   "metadata": {
    "execution": {
     "iopub.execute_input": "2024-10-24T15:20:56.086500Z",
     "iopub.status.busy": "2024-10-24T15:20:56.086069Z",
     "iopub.status.idle": "2024-10-24T15:20:56.095944Z",
     "shell.execute_reply": "2024-10-24T15:20:56.094593Z"
    },
    "papermill": {
     "duration": 0.030655,
     "end_time": "2024-10-24T15:20:56.098663",
     "exception": false,
     "start_time": "2024-10-24T15:20:56.068008",
     "status": "completed"
    },
    "tags": []
   },
   "outputs": [
    {
     "data": {
      "text/plain": [
       "cb_person_cred_hist_length\n",
       "4     201\n",
       "2     184\n",
       "3     177\n",
       "6      76\n",
       "8      69\n",
       "9      63\n",
       "7      54\n",
       "5      52\n",
       "10     48\n",
       "12     17\n",
       "13     17\n",
       "14     16\n",
       "17     15\n",
       "16     13\n",
       "11     12\n",
       "15      5\n",
       "27      3\n",
       "25      2\n",
       "19      2\n",
       "28      2\n",
       "30      1\n",
       "24      1\n",
       "21      1\n",
       "18      1\n",
       "Name: count, dtype: int64"
      ]
     },
     "execution_count": 17,
     "metadata": {},
     "output_type": "execute_result"
    }
   ],
   "source": [
    "## As expected the range is from 0 to 0.5, with majority being in the 0.3 to 0.4 range\n",
    "## Now let us check the credit history length\n",
    "df_A_grade['cb_person_cred_hist_length'].value_counts()"
   ]
  },
  {
   "cell_type": "code",
   "execution_count": 18,
   "id": "36b00b90",
   "metadata": {
    "execution": {
     "iopub.execute_input": "2024-10-24T15:20:56.134480Z",
     "iopub.status.busy": "2024-10-24T15:20:56.134035Z",
     "iopub.status.idle": "2024-10-24T15:20:56.146906Z",
     "shell.execute_reply": "2024-10-24T15:20:56.145717Z"
    },
    "papermill": {
     "duration": 0.034215,
     "end_time": "2024-10-24T15:20:56.149470",
     "exception": false,
     "start_time": "2024-10-24T15:20:56.115255",
     "status": "completed"
    },
    "tags": []
   },
   "outputs": [
    {
     "data": {
      "text/plain": [
       "person_emp_length\n",
       "0.0     167\n",
       "2.0     133\n",
       "3.0     124\n",
       "4.0     114\n",
       "1.0     111\n",
       "5.0      92\n",
       "6.0      85\n",
       "7.0      64\n",
       "8.0      31\n",
       "9.0      23\n",
       "11.0     18\n",
       "12.0     17\n",
       "10.0     14\n",
       "14.0     14\n",
       "13.0      7\n",
       "15.0      5\n",
       "21.0      3\n",
       "18.0      2\n",
       "17.0      2\n",
       "27.0      1\n",
       "24.0      1\n",
       "16.0      1\n",
       "19.0      1\n",
       "23.0      1\n",
       "20.0      1\n",
       "Name: count, dtype: int64"
      ]
     },
     "execution_count": 18,
     "metadata": {},
     "output_type": "execute_result"
    }
   ],
   "source": [
    "#Here we see that the person needs to have couple of items in credit history \n",
    "\n",
    "df_A_grade['person_emp_length'].value_counts()\n",
    "\n",
    "# Consideing that most people are in the 20s and 30s this tallies well"
   ]
  },
  {
   "cell_type": "code",
   "execution_count": 19,
   "id": "0795dc61",
   "metadata": {
    "execution": {
     "iopub.execute_input": "2024-10-24T15:20:56.185654Z",
     "iopub.status.busy": "2024-10-24T15:20:56.185223Z",
     "iopub.status.idle": "2024-10-24T15:20:56.194619Z",
     "shell.execute_reply": "2024-10-24T15:20:56.193571Z"
    },
    "papermill": {
     "duration": 0.030756,
     "end_time": "2024-10-24T15:20:56.197101",
     "exception": false,
     "start_time": "2024-10-24T15:20:56.166345",
     "status": "completed"
    },
    "tags": []
   },
   "outputs": [
    {
     "data": {
      "text/plain": [
       "(146, 13)"
      ]
     },
     "execution_count": 19,
     "metadata": {},
     "output_type": "execute_result"
    }
   ],
   "source": [
    "# Now coming back to people with mortgage, I think they will have high income and low\n",
    "# loan percent income\n",
    "df_A_mortgage = df_A_grade[df_A_grade['person_home_ownership']=='MORTGAGE']\n",
    "df_A_mortgage.shape"
   ]
  },
  {
   "cell_type": "code",
   "execution_count": 20,
   "id": "7779d1bd",
   "metadata": {
    "execution": {
     "iopub.execute_input": "2024-10-24T15:20:56.232716Z",
     "iopub.status.busy": "2024-10-24T15:20:56.232313Z",
     "iopub.status.idle": "2024-10-24T15:20:56.554396Z",
     "shell.execute_reply": "2024-10-24T15:20:56.553225Z"
    },
    "papermill": {
     "duration": 0.343293,
     "end_time": "2024-10-24T15:20:56.557246",
     "exception": false,
     "start_time": "2024-10-24T15:20:56.213953",
     "status": "completed"
    },
    "tags": []
   },
   "outputs": [
    {
     "data": {
      "image/png": "[encoded data removed]",
      "text/plain": [
       "<Figure size 640x480 with 1 Axes>"
      ]
     },
     "metadata": {},
     "output_type": "display_data"
    }
   ],
   "source": [
    "plt.hist(df_A_mortgage['person_income'], bins=20)  # Adjust bins as needed\n",
    "plt.xlabel('Income')\n",
    "plt.ylabel('Frequency')\n",
    "plt.title('Income Distribution')\n",
    "plt.show()"
   ]
  },
  {
   "cell_type": "code",
   "execution_count": 21,
   "id": "70573f56",
   "metadata": {
    "execution": {
     "iopub.execute_input": "2024-10-24T15:20:56.595673Z",
     "iopub.status.busy": "2024-10-24T15:20:56.595229Z",
     "iopub.status.idle": "2024-10-24T15:20:56.875486Z",
     "shell.execute_reply": "2024-10-24T15:20:56.872237Z"
    },
    "papermill": {
     "duration": 0.30422,
     "end_time": "2024-10-24T15:20:56.879931",
     "exception": false,
     "start_time": "2024-10-24T15:20:56.575711",
     "status": "completed"
    },
    "tags": []
   },
   "outputs": [
    {
     "data": {
      "image/png": "[encoded data removed]",
      "text/plain": [
       "<Figure size 640x480 with 1 Axes>"
      ]
     },
     "metadata": {},
     "output_type": "display_data"
    }
   ],
   "source": [
    "plt.hist(df_A_mortgage['loan_percent_income'], bins=20)  # Adjust bins as needed\n",
    "plt.xlabel('Income')\n",
    "plt.ylabel('Frequency')\n",
    "plt.title('Income Distribution')\n",
    "plt.show()"
   ]
  },
  {
   "cell_type": "code",
   "execution_count": 22,
   "id": "6d97080c",
   "metadata": {
    "execution": {
     "iopub.execute_input": "2024-10-24T15:20:56.920590Z",
     "iopub.status.busy": "2024-10-24T15:20:56.920164Z",
     "iopub.status.idle": "2024-10-24T15:20:56.925122Z",
     "shell.execute_reply": "2024-10-24T15:20:56.923989Z"
    },
    "papermill": {
     "duration": 0.027015,
     "end_time": "2024-10-24T15:20:56.927573",
     "exception": false,
     "start_time": "2024-10-24T15:20:56.900558",
     "status": "completed"
    },
    "tags": []
   },
   "outputs": [],
   "source": [
    "## While the general loan percent income is in the range of 0.3 to 0.4\n",
    "## In case of people with mortgage the majority is from 0.01 to 0.2"
   ]
  },
  {
   "cell_type": "code",
   "execution_count": 23,
   "id": "6955fbc8",
   "metadata": {
    "execution": {
     "iopub.execute_input": "2024-10-24T15:20:56.964949Z",
     "iopub.status.busy": "2024-10-24T15:20:56.964482Z",
     "iopub.status.idle": "2024-10-24T15:20:56.990187Z",
     "shell.execute_reply": "2024-10-24T15:20:56.988791Z"
    },
    "papermill": {
     "duration": 0.048079,
     "end_time": "2024-10-24T15:20:56.993370",
     "exception": false,
     "start_time": "2024-10-24T15:20:56.945291",
     "status": "completed"
    },
    "tags": []
   },
   "outputs": [
    {
     "data": {
      "text/plain": [
       "(19952, 13)"
      ]
     },
     "execution_count": 23,
     "metadata": {},
     "output_type": "execute_result"
    }
   ],
   "source": [
    "# Let us check people who have rejected A grade loans\n",
    "df_not_A_grade = df[(df['loan_grade']=='A') & (df['loan_status']==0)] \n",
    "df_not_A_grade.shape"
   ]
  },
  {
   "cell_type": "code",
   "execution_count": 24,
   "id": "027fb496",
   "metadata": {
    "execution": {
     "iopub.execute_input": "2024-10-24T15:20:57.045295Z",
     "iopub.status.busy": "2024-10-24T15:20:57.043976Z",
     "iopub.status.idle": "2024-10-24T15:20:57.055836Z",
     "shell.execute_reply": "2024-10-24T15:20:57.054625Z"
    },
    "papermill": {
     "duration": 0.03952,
     "end_time": "2024-10-24T15:20:57.058849",
     "exception": false,
     "start_time": "2024-10-24T15:20:57.019329",
     "status": "completed"
    },
    "tags": []
   },
   "outputs": [
    {
     "data": {
      "text/plain": [
       "cb_person_default_on_file\n",
       "0    19948\n",
       "1        4\n",
       "Name: count, dtype: int64"
      ]
     },
     "execution_count": 24,
     "metadata": {},
     "output_type": "execute_result"
    }
   ],
   "source": [
    "# Assumptions here would be people will have either defaults\n",
    "# High loan to income percent\n",
    "# More house in mortgage\n",
    "# Let us start with defaults\n",
    "df_not_A_grade['cb_person_default_on_file'].value_counts()"
   ]
  },
  {
   "cell_type": "code",
   "execution_count": 25,
   "id": "39ec6a33",
   "metadata": {
    "execution": {
     "iopub.execute_input": "2024-10-24T15:20:57.111440Z",
     "iopub.status.busy": "2024-10-24T15:20:57.110566Z",
     "iopub.status.idle": "2024-10-24T15:20:57.442501Z",
     "shell.execute_reply": "2024-10-24T15:20:57.441372Z"
    },
    "papermill": {
     "duration": 0.358774,
     "end_time": "2024-10-24T15:20:57.444968",
     "exception": false,
     "start_time": "2024-10-24T15:20:57.086194",
     "status": "completed"
    },
    "tags": []
   },
   "outputs": [
    {
     "data": {
      "image/png": "[encoded data removed]",
      "text/plain": [
       "<Figure size 640x480 with 1 Axes>"
      ]
     },
     "metadata": {},
     "output_type": "display_data"
    }
   ],
   "source": [
    "plt.hist(df_not_A_grade['person_income'], bins=20)  # Adjust bins as needed\n",
    "plt.xlabel('Income')\n",
    "plt.ylabel('Frequency')\n",
    "plt.title('Income Distribution')\n",
    "plt.show()"
   ]
  },
  {
   "cell_type": "code",
   "execution_count": 26,
   "id": "19e7d36c",
   "metadata": {
    "execution": {
     "iopub.execute_input": "2024-10-24T15:20:57.484335Z",
     "iopub.status.busy": "2024-10-24T15:20:57.483897Z",
     "iopub.status.idle": "2024-10-24T15:20:57.747830Z",
     "shell.execute_reply": "2024-10-24T15:20:57.746616Z"
    },
    "papermill": {
     "duration": 0.286142,
     "end_time": "2024-10-24T15:20:57.750192",
     "exception": false,
     "start_time": "2024-10-24T15:20:57.464050",
     "status": "completed"
    },
    "tags": []
   },
   "outputs": [
    {
     "data": {
      "image/png": "[encoded data removed]",
      "text/plain": [
       "<Figure size 640x480 with 1 Axes>"
      ]
     },
     "metadata": {},
     "output_type": "display_data"
    }
   ],
   "source": [
    "# Very low income is a characteristic feature for them\n",
    "# As a consequece we might see higher income to loan ratio\n",
    "plt.hist(df_not_A_grade['loan_percent_income'], bins=20)  # Adjust bins as needed\n",
    "plt.xlabel('Income')\n",
    "plt.ylabel('Frequency')\n",
    "plt.title('Income Distribution')\n",
    "plt.show()"
   ]
  },
  {
   "cell_type": "code",
   "execution_count": null,
   "id": "141022a7",
   "metadata": {
    "papermill": {
     "duration": 0.018591,
     "end_time": "2024-10-24T15:20:57.787693",
     "exception": false,
     "start_time": "2024-10-24T15:20:57.769102",
     "status": "completed"
    },
    "tags": []
   },
   "outputs": [],
   "source": []
  },
  {
   "cell_type": "code",
   "execution_count": null,
   "id": "b0b30b16",
   "metadata": {
    "papermill": {
     "duration": 0.01851,
     "end_time": "2024-10-24T15:20:57.824953",
     "exception": false,
     "start_time": "2024-10-24T15:20:57.806443",
     "status": "completed"
    },
    "tags": []
   },
   "outputs": [],
   "source": []
  },
  {
   "cell_type": "code",
   "execution_count": 27,
   "id": "4ef17bcd",
   "metadata": {
    "execution": {
     "iopub.execute_input": "2024-10-24T15:20:57.864591Z",
     "iopub.status.busy": "2024-10-24T15:20:57.864148Z",
     "iopub.status.idle": "2024-10-24T15:20:57.880207Z",
     "shell.execute_reply": "2024-10-24T15:20:57.878544Z"
    },
    "papermill": {
     "duration": 0.03914,
     "end_time": "2024-10-24T15:20:57.882945",
     "exception": false,
     "start_time": "2024-10-24T15:20:57.843805",
     "status": "completed"
    },
    "tags": []
   },
   "outputs": [
    {
     "name": "stdout",
     "output_type": "stream",
     "text": [
      "loan_grade\n",
      "A    0.000191\n",
      "B    0.000294\n",
      "C    0.499547\n",
      "D    0.511124\n",
      "E    0.502478\n",
      "F    0.543624\n",
      "G    0.545455\n",
      "Name: cb_person_default_on_file, dtype: float64\n"
     ]
    }
   ],
   "source": [
    "average_rates = df.groupby('loan_grade')['cb_person_default_on_file'].mean()\n",
    "print(average_rates)\n",
    "\n",
    "## If you have defaulted very less chance for A and B grade loans, hence less applications"
   ]
  },
  {
   "cell_type": "code",
   "execution_count": 28,
   "id": "e1dd2905",
   "metadata": {
    "execution": {
     "iopub.execute_input": "2024-10-24T15:20:57.923083Z",
     "iopub.status.busy": "2024-10-24T15:20:57.922633Z",
     "iopub.status.idle": "2024-10-24T15:20:57.940650Z",
     "shell.execute_reply": "2024-10-24T15:20:57.939562Z"
    },
    "papermill": {
     "duration": 0.040872,
     "end_time": "2024-10-24T15:20:57.943213",
     "exception": false,
     "start_time": "2024-10-24T15:20:57.902341",
     "status": "completed"
    },
    "tags": []
   },
   "outputs": [
    {
     "name": "stdout",
     "output_type": "stream",
     "text": [
      "Average defaults for people below 40: 0.14802460501067055\n",
      "Average defaults for people above 40: 0.1553398058252427\n"
     ]
    }
   ],
   "source": [
    "average_below_40 = df[df['person_age'] < 40]['cb_person_default_on_file'].mean()\n",
    "average_above_40 = df[df['person_age'] >= 40]['cb_person_default_on_file'].mean()\n",
    "\n",
    "print(f\"Average defaults for people below 40: {average_below_40}\")\n",
    "print(f\"Average defaults for people above 40: {average_above_40}\")\n",
    "\n",
    "## Higher age means more time to default. Recency of default is not known  "
   ]
  },
  {
   "cell_type": "code",
   "execution_count": 29,
   "id": "e89665ee",
   "metadata": {
    "execution": {
     "iopub.execute_input": "2024-10-24T15:20:57.983199Z",
     "iopub.status.busy": "2024-10-24T15:20:57.982795Z",
     "iopub.status.idle": "2024-10-24T15:20:57.998795Z",
     "shell.execute_reply": "2024-10-24T15:20:57.997478Z"
    },
    "papermill": {
     "duration": 0.039001,
     "end_time": "2024-10-24T15:20:58.001312",
     "exception": false,
     "start_time": "2024-10-24T15:20:57.962311",
     "status": "completed"
    },
    "tags": []
   },
   "outputs": [
    {
     "name": "stdout",
     "output_type": "stream",
     "text": [
      "loan_intent\n",
      "DEBTCONSOLIDATION    0.141575\n",
      "EDUCATION            0.152310\n",
      "HOMEIMPROVEMENT      0.171019\n",
      "MEDICAL              0.145692\n",
      "PERSONAL             0.147664\n",
      "VENTURE              0.139247\n",
      "Name: cb_person_default_on_file, dtype: float64\n"
     ]
    }
   ],
   "source": [
    "average_rates = df.groupby('loan_intent')['cb_person_default_on_file'].mean()\n",
    "print(average_rates)"
   ]
  },
  {
   "cell_type": "code",
   "execution_count": 30,
   "id": "b3566331",
   "metadata": {
    "execution": {
     "iopub.execute_input": "2024-10-24T15:20:58.042053Z",
     "iopub.status.busy": "2024-10-24T15:20:58.041600Z",
     "iopub.status.idle": "2024-10-24T15:20:58.056717Z",
     "shell.execute_reply": "2024-10-24T15:20:58.055452Z"
    },
    "papermill": {
     "duration": 0.038727,
     "end_time": "2024-10-24T15:20:58.059386",
     "exception": false,
     "start_time": "2024-10-24T15:20:58.020659",
     "status": "completed"
    },
    "tags": []
   },
   "outputs": [
    {
     "name": "stdout",
     "output_type": "stream",
     "text": [
      "loan_intent\n",
      "DEBTCONSOLIDATION    0.189313\n",
      "EDUCATION            0.107734\n",
      "HOMEIMPROVEMENT      0.173726\n",
      "MEDICAL              0.178251\n",
      "PERSONAL             0.132788\n",
      "VENTURE              0.092798\n",
      "Name: loan_status, dtype: float64\n"
     ]
    }
   ],
   "source": [
    "average_rates = df.groupby('loan_intent')['loan_status'].mean()\n",
    "print(average_rates)\n",
    "\n",
    "## Less support for venture and education"
   ]
  },
  {
   "cell_type": "code",
   "execution_count": 31,
   "id": "3e5b3ad5",
   "metadata": {
    "execution": {
     "iopub.execute_input": "2024-10-24T15:20:58.100655Z",
     "iopub.status.busy": "2024-10-24T15:20:58.100192Z",
     "iopub.status.idle": "2024-10-24T15:20:58.117060Z",
     "shell.execute_reply": "2024-10-24T15:20:58.115798Z"
    },
    "papermill": {
     "duration": 0.041041,
     "end_time": "2024-10-24T15:20:58.119906",
     "exception": false,
     "start_time": "2024-10-24T15:20:58.078865",
     "status": "completed"
    },
    "tags": []
   },
   "outputs": [
    {
     "name": "stdout",
     "output_type": "stream",
     "text": [
      "Average loan status for people below 4: 0.14810059190128716\n",
      "Average loan status for people above 4: 0.13554690424496518\n"
     ]
    }
   ],
   "source": [
    "\n",
    "\n",
    "df = X_TRAIN   \n",
    "average_below_4 = df[df['cb_person_cred_hist_length'] <= 4]['loan_status'].mean()\n",
    "average_above_4 = df[df['cb_person_cred_hist_length'] > 4]['loan_status'].mean()\n",
    "\n",
    "print(f\"Average loan status for people below 4: {average_below_4}\")\n",
    "print(f\"Average loan status for people above 4: {average_above_4}\")\n",
    "\n",
    "## One could attribute that to more time to default"
   ]
  },
  {
   "cell_type": "code",
   "execution_count": 32,
   "id": "1f418578",
   "metadata": {
    "execution": {
     "iopub.execute_input": "2024-10-24T15:20:58.160964Z",
     "iopub.status.busy": "2024-10-24T15:20:58.160521Z",
     "iopub.status.idle": "2024-10-24T15:20:58.175459Z",
     "shell.execute_reply": "2024-10-24T15:20:58.174336Z"
    },
    "papermill": {
     "duration": 0.038595,
     "end_time": "2024-10-24T15:20:58.178179",
     "exception": false,
     "start_time": "2024-10-24T15:20:58.139584",
     "status": "completed"
    },
    "tags": []
   },
   "outputs": [
    {
     "name": "stdout",
     "output_type": "stream",
     "text": [
      "Average default for people below 4: 0.148570354827597\n",
      "Average default for people above 4: 0.14816201242794041\n"
     ]
    }
   ],
   "source": [
    "\n",
    "df = X_TRAIN   \n",
    "average_below_4 = df[df['cb_person_cred_hist_length'] <= 4]['cb_person_default_on_file'].mean()\n",
    "average_above_4 = df[df['cb_person_cred_hist_length'] > 4]['cb_person_default_on_file'].mean()\n",
    "\n",
    "print(f\"Average default for people below 4: {average_below_4}\")\n",
    "print(f\"Average default for people above 4: {average_above_4}\")\n",
    "\n",
    "## surprisingly same"
   ]
  },
  {
   "cell_type": "code",
   "execution_count": 33,
   "id": "e7dd9490",
   "metadata": {
    "execution": {
     "iopub.execute_input": "2024-10-24T15:20:58.218776Z",
     "iopub.status.busy": "2024-10-24T15:20:58.218322Z",
     "iopub.status.idle": "2024-10-24T15:20:58.233644Z",
     "shell.execute_reply": "2024-10-24T15:20:58.232547Z"
    },
    "papermill": {
     "duration": 0.038845,
     "end_time": "2024-10-24T15:20:58.236386",
     "exception": false,
     "start_time": "2024-10-24T15:20:58.197541",
     "status": "completed"
    },
    "tags": []
   },
   "outputs": [
    {
     "name": "stdout",
     "output_type": "stream",
     "text": [
      "Average default for people below 4: 0.16790123456790124\n",
      "Average default for people above 4: 0.124953095684803\n"
     ]
    }
   ],
   "source": [
    "\n",
    "df = X_TRAIN   \n",
    "average_below_4 = df[df['person_emp_length'] <= 4]['cb_person_default_on_file'].mean()\n",
    "average_above_4 = df[df['person_emp_length'] > 4]['cb_person_default_on_file'].mean()\n",
    "\n",
    "print(f\"Average default for people below 4: {average_below_4}\")\n",
    "print(f\"Average default for people above 4: {average_above_4}\")\n",
    "\n",
    "## People who have worked more less likely to default"
   ]
  },
  {
   "cell_type": "code",
   "execution_count": 34,
   "id": "a4c66dab",
   "metadata": {
    "execution": {
     "iopub.execute_input": "2024-10-24T15:20:58.277784Z",
     "iopub.status.busy": "2024-10-24T15:20:58.277296Z",
     "iopub.status.idle": "2024-10-24T15:20:58.295101Z",
     "shell.execute_reply": "2024-10-24T15:20:58.294052Z"
    },
    "papermill": {
     "duration": 0.041454,
     "end_time": "2024-10-24T15:20:58.297671",
     "exception": false,
     "start_time": "2024-10-24T15:20:58.256217",
     "status": "completed"
    },
    "tags": []
   },
   "outputs": [],
   "source": [
    "X_TRAIN['cb_person_default_on_file'] = X_TRAIN['cb_person_default_on_file'].map({'Y': 1, 'N': 0})\n",
    "\n",
    "X_TEST['cb_person_default_on_file'] = X_TEST['cb_person_default_on_file'].map({'Y': 1, 'N': 0})"
   ]
  },
  {
   "cell_type": "code",
   "execution_count": 35,
   "id": "a83818e3",
   "metadata": {
    "execution": {
     "iopub.execute_input": "2024-10-24T15:20:58.340718Z",
     "iopub.status.busy": "2024-10-24T15:20:58.340313Z",
     "iopub.status.idle": "2024-10-24T15:20:58.356306Z",
     "shell.execute_reply": "2024-10-24T15:20:58.355110Z"
    },
    "papermill": {
     "duration": 0.040748,
     "end_time": "2024-10-24T15:20:58.359178",
     "exception": false,
     "start_time": "2024-10-24T15:20:58.318430",
     "status": "completed"
    },
    "tags": []
   },
   "outputs": [
    {
     "name": "stdout",
     "output_type": "stream",
     "text": [
      "Average loan status for people below 4: 0.17543366150961087\n",
      "Average loan status for people above 4: 0.10270168855534709\n"
     ]
    }
   ],
   "source": [
    "df = X_TRAIN   \n",
    "average_below_4 = df[df['person_emp_length'] <= 4]['loan_status'].mean()\n",
    "average_above_4 = df[df['person_emp_length'] > 4]['loan_status'].mean()\n",
    "\n",
    "print(f\"Average loan status for people below 4: {average_below_4}\")\n",
    "print(f\"Average loan status for people above 4: {average_above_4}\")\n",
    "\n",
    "## And yet less likely to get loans"
   ]
  },
  {
   "cell_type": "code",
   "execution_count": 36,
   "id": "ff303a08",
   "metadata": {
    "execution": {
     "iopub.execute_input": "2024-10-24T15:20:58.400344Z",
     "iopub.status.busy": "2024-10-24T15:20:58.399912Z",
     "iopub.status.idle": "2024-10-24T15:20:58.404884Z",
     "shell.execute_reply": "2024-10-24T15:20:58.403783Z"
    },
    "papermill": {
     "duration": 0.028434,
     "end_time": "2024-10-24T15:20:58.407305",
     "exception": false,
     "start_time": "2024-10-24T15:20:58.378871",
     "status": "completed"
    },
    "tags": []
   },
   "outputs": [],
   "source": [
    "# import seaborn as sns\n",
    "# import pandas as pd\n",
    "# import matplotlib.pyplot as plt\n",
    "\n",
    "# # # Assuming your DataFrame is called 'df' and has numerical features and 'loan_status'\n",
    "# # numerical_features = X_TRAIN.select_dtypes(['int64', 'float64']).columns.to_list()  # Select numerical columns\n",
    "\n",
    "# # # Create scatter plots for all combinations\n",
    "# # sns.pairplot(X_TRAIN, vars=numerical_features, hue='loan_status')\n",
    "# # plt.show()"
   ]
  },
  {
   "cell_type": "code",
   "execution_count": 37,
   "id": "95038ebd",
   "metadata": {
    "execution": {
     "iopub.execute_input": "2024-10-24T15:20:58.448378Z",
     "iopub.status.busy": "2024-10-24T15:20:58.447973Z",
     "iopub.status.idle": "2024-10-24T15:20:58.465344Z",
     "shell.execute_reply": "2024-10-24T15:20:58.464087Z"
    },
    "papermill": {
     "duration": 0.041039,
     "end_time": "2024-10-24T15:20:58.467921",
     "exception": false,
     "start_time": "2024-10-24T15:20:58.426882",
     "status": "completed"
    },
    "tags": []
   },
   "outputs": [
    {
     "name": "stdout",
     "output_type": "stream",
     "text": [
      "Average loan status for people below .4: 0.13287972437195936\n",
      "Average loan status for people above .4: 0.7618510158013544\n"
     ]
    }
   ],
   "source": [
    "## As loan percent income increases, so does chance of approval\n",
    "df = X_TRAIN   \n",
    "average_below_4 = df[df['loan_percent_income'] <= 0.4]['loan_status'].mean()\n",
    "average_above_4 = df[df['loan_percent_income'] > 0.4]['loan_status'].mean()\n",
    "\n",
    "print(f\"Average loan status for people below .4: {average_below_4}\")\n",
    "print(f\"Average loan status for people above .4: {average_above_4}\")"
   ]
  },
  {
   "cell_type": "code",
   "execution_count": 38,
   "id": "9383445c",
   "metadata": {
    "execution": {
     "iopub.execute_input": "2024-10-24T15:20:58.509894Z",
     "iopub.status.busy": "2024-10-24T15:20:58.509403Z",
     "iopub.status.idle": "2024-10-24T15:20:58.549141Z",
     "shell.execute_reply": "2024-10-24T15:20:58.547934Z"
    },
    "papermill": {
     "duration": 0.064,
     "end_time": "2024-10-24T15:20:58.551955",
     "exception": false,
     "start_time": "2024-10-24T15:20:58.487955",
     "status": "completed"
    },
    "tags": []
   },
   "outputs": [
    {
     "name": "stdout",
     "output_type": "stream",
     "text": [
      "Average loan status for people below 50000: 0.21792728792310906\n",
      "Average loan status for people above 50000: 0.0903067838110327\n",
      "Average loan amnt for people below 50000: 7106.1544086920185\n",
      "Average loan amnt for people above 50000: 10673.003802390896\n",
      "Average default for people below 50000: nan\n",
      "Average default amnt for people above 50000: nan\n"
     ]
    }
   ],
   "source": [
    "df = X_TRAIN   \n",
    "average_below_50 = df[df['person_income'] <= 50000]['loan_status'].mean()\n",
    "average_above_50 = df[df['person_income'] > 50000]['loan_status'].mean()\n",
    "\n",
    "print(f\"Average loan status for people below 50000: {average_below_50}\")\n",
    "print(f\"Average loan status for people above 50000: {average_above_50}\")\n",
    "df[df['person_income'] >= 50000]['loan_status'].count()\n",
    "\n",
    "average_below_50 = df[df['person_income'] <= 50000]['loan_amnt'].mean()\n",
    "average_above_50 = df[df['person_income'] > 50000]['loan_amnt'].mean()\n",
    "print(f\"Average loan amnt for people below 50000: {average_below_50}\")\n",
    "print(f\"Average loan amnt for people above 50000: {average_above_50}\")\n",
    "\n",
    "\n",
    "average_below_50 = df[df['person_income'] <= 50000]['cb_person_default_on_file'].mean()\n",
    "average_above_50 = df[df['person_income'] > 50000]['cb_person_default_on_file'].mean()\n",
    "print(f\"Average default for people below 50000: {average_below_50}\")\n",
    "print(f\"Average default amnt for people above 50000: {average_above_50}\")\n",
    "\n",
    "# People with higher income has very less chance of getting a loan\n",
    "# The loan amount of these people is on a higher side\n",
    "# people below 50 has more defaults as well"
   ]
  },
  {
   "cell_type": "code",
   "execution_count": null,
   "id": "389fc536",
   "metadata": {
    "papermill": {
     "duration": 0.019615,
     "end_time": "2024-10-24T15:20:58.591443",
     "exception": false,
     "start_time": "2024-10-24T15:20:58.571828",
     "status": "completed"
    },
    "tags": []
   },
   "outputs": [],
   "source": []
  },
  {
   "cell_type": "code",
   "execution_count": null,
   "id": "9999e48a",
   "metadata": {
    "papermill": {
     "duration": 0.01949,
     "end_time": "2024-10-24T15:20:58.630730",
     "exception": false,
     "start_time": "2024-10-24T15:20:58.611240",
     "status": "completed"
    },
    "tags": []
   },
   "outputs": [],
   "source": []
  }
 ],
 "metadata": {
  "kaggle": {
   "accelerator": "none",
   "dataSources": [
    {
     "databundleVersionId": 9709193,
     "sourceId": 84894,
     "sourceType": "competition"
    },
    {
     "datasetId": 4675026,
     "sourceId": 7949759,
     "sourceType": "datasetVersion"
    }
   ],
   "dockerImageVersionId": 30786,
   "isGpuEnabled": false,
   "isInternetEnabled": true,
   "language": "python",
   "sourceType": "notebook"
  },
  "kernelspec": {
   "display_name": "Python 3",
   "language": "python",
   "name": "python3"
  },
  "language_info": {
   "codemirror_mode": {
    "name": "ipython",
    "version": 3
   },
   "file_extension": ".py",
   "mimetype": "text/x-python",
   "name": "python",
   "nbconvert_exporter": "python",
   "pygments_lexer": "ipython3",
   "version": "3.10.14"
  },
  "papermill": {
   "default_parameters": {},
   "duration": 10.892453,
   "end_time": "2024-10-24T15:20:59.272405",
   "environment_variables": {},
   "exception": null,
   "input_path": "__notebook__.ipynb",
   "output_path": "__notebook__.ipynb",
   "parameters": {},
   "start_time": "2024-10-24T15:20:48.379952",
   "version": "2.6.0"
  }
 },
 "nbformat": 4,
 "nbformat_minor": 5
}
