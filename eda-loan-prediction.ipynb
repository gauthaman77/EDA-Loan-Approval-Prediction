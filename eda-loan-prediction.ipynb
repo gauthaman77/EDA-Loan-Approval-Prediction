{
 "cells": [
  {
   "cell_type": "code",
   "execution_count": 1,
   "id": "5a7246fb",
   "metadata": {
    "_cell_guid": "b1076dfc-b9ad-4769-8c92-a6c4dae69d19",
    "_uuid": "8f2839f25d086af736a60e9eeb907d3b93b6e0e5",
    "execution": {
     "iopub.execute_input": "2024-10-25T13:01:45.687093Z",
     "iopub.status.busy": "2024-10-25T13:01:45.686639Z",
     "iopub.status.idle": "2024-10-25T13:01:46.622637Z",
     "shell.execute_reply": "2024-10-25T13:01:46.621420Z"
    },
    "papermill": {
     "duration": 0.958945,
     "end_time": "2024-10-25T13:01:46.625490",
     "exception": false,
     "start_time": "2024-10-25T13:01:45.666545",
     "status": "completed"
    },
    "tags": []
   },
   "outputs": [
    {
     "name": "stdout",
     "output_type": "stream",
     "text": [
      "/kaggle/input/playground-series-s4e10/sample_submission.csv\n",
      "/kaggle/input/playground-series-s4e10/train.csv\n",
      "/kaggle/input/playground-series-s4e10/test.csv\n",
      "/kaggle/input/loan-approval-prediction/credit_risk_dataset.csv\n"
     ]
    }
   ],
   "source": [
    "# This Python 3 environment comes with many helpful analytics libraries installed\n",
    "# It is defined by the kaggle/python Docker image: https://github.com/kaggle/docker-python\n",
    "# For example, here's several helpful packages to load\n",
    "\n",
    "import numpy as np # linear algebra\n",
    "import pandas as pd # data processing, CSV file I/O (e.g. pd.read_csv)\n",
    "\n",
    "# Input data files are available in the read-only \"../input/\" directory\n",
    "# For example, running this (by clicking run or pressing Shift+Enter) will list all files under the input directory\n",
    "\n",
    "import os\n",
    "for dirname, _, filenames in os.walk('/kaggle/input'):\n",
    "    for filename in filenames:\n",
    "        print(os.path.join(dirname, filename))\n",
    "\n",
    "# You can write up to 20GB to the current directory (/kaggle/working/) that gets preserved as output when you create a version using \"Save & Run All\" \n",
    "# You can also write temporary files to /kaggle/temp/, but they won't be saved outside of the current session"
   ]
  },
  {
   "cell_type": "code",
   "execution_count": 2,
   "id": "967c62a5",
   "metadata": {
    "execution": {
     "iopub.execute_input": "2024-10-25T13:01:46.662408Z",
     "iopub.status.busy": "2024-10-25T13:01:46.661814Z",
     "iopub.status.idle": "2024-10-25T13:01:47.022555Z",
     "shell.execute_reply": "2024-10-25T13:01:47.021572Z"
    },
    "papermill": {
     "duration": 0.382589,
     "end_time": "2024-10-25T13:01:47.025252",
     "exception": false,
     "start_time": "2024-10-25T13:01:46.642663",
     "status": "completed"
    },
    "tags": []
   },
   "outputs": [],
   "source": [
    "X_TRAIN = pd.read_csv('/kaggle/input/playground-series-s4e10/train.csv')\n",
    "X_TEST = pd.read_csv('/kaggle/input/playground-series-s4e10/test.csv')\n",
    "X_ORIG = pd.read_csv('/kaggle/input/loan-approval-prediction/credit_risk_dataset.csv')\n",
    "\n"
   ]
  },
  {
   "cell_type": "code",
   "execution_count": 3,
   "id": "4c7e4067",
   "metadata": {
    "execution": {
     "iopub.execute_input": "2024-10-25T13:01:47.060882Z",
     "iopub.status.busy": "2024-10-25T13:01:47.060415Z",
     "iopub.status.idle": "2024-10-25T13:01:47.117619Z",
     "shell.execute_reply": "2024-10-25T13:01:47.116211Z"
    },
    "papermill": {
     "duration": 0.07867,
     "end_time": "2024-10-25T13:01:47.120875",
     "exception": false,
     "start_time": "2024-10-25T13:01:47.042205",
     "status": "completed"
    },
    "tags": []
   },
   "outputs": [
    {
     "name": "stdout",
     "output_type": "stream",
     "text": [
      "<class 'pandas.core.frame.DataFrame'>\n",
      "RangeIndex: 58645 entries, 0 to 58644\n",
      "Data columns (total 13 columns):\n",
      " #   Column                      Non-Null Count  Dtype  \n",
      "---  ------                      --------------  -----  \n",
      " 0   id                          58645 non-null  int64  \n",
      " 1   person_age                  58645 non-null  int64  \n",
      " 2   person_income               58645 non-null  int64  \n",
      " 3   person_home_ownership       58645 non-null  object \n",
      " 4   person_emp_length           58645 non-null  float64\n",
      " 5   loan_intent                 58645 non-null  object \n",
      " 6   loan_grade                  58645 non-null  object \n",
      " 7   loan_amnt                   58645 non-null  int64  \n",
      " 8   loan_int_rate               58645 non-null  float64\n",
      " 9   loan_percent_income         58645 non-null  float64\n",
      " 10  cb_person_default_on_file   58645 non-null  object \n",
      " 11  cb_person_cred_hist_length  58645 non-null  int64  \n",
      " 12  loan_status                 58645 non-null  int64  \n",
      "dtypes: float64(3), int64(6), object(4)\n",
      "memory usage: 5.8+ MB\n"
     ]
    }
   ],
   "source": [
    "X_TRAIN.info()"
   ]
  },
  {
   "cell_type": "code",
   "execution_count": 4,
   "id": "bab0b9f2",
   "metadata": {
    "execution": {
     "iopub.execute_input": "2024-10-25T13:01:47.157371Z",
     "iopub.status.busy": "2024-10-25T13:01:47.156372Z",
     "iopub.status.idle": "2024-10-25T13:01:47.171281Z",
     "shell.execute_reply": "2024-10-25T13:01:47.170129Z"
    },
    "papermill": {
     "duration": 0.035644,
     "end_time": "2024-10-25T13:01:47.174039",
     "exception": false,
     "start_time": "2024-10-25T13:01:47.138395",
     "status": "completed"
    },
    "tags": []
   },
   "outputs": [],
   "source": [
    "X_TRAIN['cb_person_default_on_file'] = X_TRAIN['cb_person_default_on_file'].map({'Y': 1, 'N': 0})\n",
    "\n",
    "X_TEST['cb_person_default_on_file'] = X_TEST['cb_person_default_on_file'].map({'Y': 1, 'N': 0})"
   ]
  },
  {
   "cell_type": "code",
   "execution_count": 5,
   "id": "ac06938e",
   "metadata": {
    "execution": {
     "iopub.execute_input": "2024-10-25T13:01:47.210284Z",
     "iopub.status.busy": "2024-10-25T13:01:47.209305Z",
     "iopub.status.idle": "2024-10-25T13:01:47.233863Z",
     "shell.execute_reply": "2024-10-25T13:01:47.232780Z"
    },
    "papermill": {
     "duration": 0.045101,
     "end_time": "2024-10-25T13:01:47.236225",
     "exception": false,
     "start_time": "2024-10-25T13:01:47.191124",
     "status": "completed"
    },
    "tags": []
   },
   "outputs": [
    {
     "name": "stdout",
     "output_type": "stream",
     "text": [
      "Average loan status for people below 50: 0.14190771349862258\n",
      "Average loan status for people above 50: 0.1911504424778761\n"
     ]
    },
    {
     "data": {
      "text/plain": [
       "2884"
      ]
     },
     "execution_count": 5,
     "metadata": {},
     "output_type": "execute_result"
    }
   ],
   "source": [
    "## Loan status on Age over 40\n",
    "df = X_TRAIN   \n",
    "average_below_50 = df[df['person_age'] < 50]['loan_status'].mean()\n",
    "average_above_50 = df[df['person_age'] >= 50]['loan_status'].mean()\n",
    "\n",
    "print(f\"Average loan status for people below 50: {average_below_50}\")\n",
    "print(f\"Average loan status for people above 50: {average_above_50}\")\n",
    "\n",
    "## Approval chances increases slightly with age\n",
    "df[df['person_age'] >= 40]['loan_status'].count()"
   ]
  },
  {
   "cell_type": "code",
   "execution_count": 6,
   "id": "340ba1c7",
   "metadata": {
    "execution": {
     "iopub.execute_input": "2024-10-25T13:01:47.272840Z",
     "iopub.status.busy": "2024-10-25T13:01:47.271890Z",
     "iopub.status.idle": "2024-10-25T13:01:47.288222Z",
     "shell.execute_reply": "2024-10-25T13:01:47.286943Z"
    },
    "papermill": {
     "duration": 0.03749,
     "end_time": "2024-10-25T13:01:47.290845",
     "exception": false,
     "start_time": "2024-10-25T13:01:47.253355",
     "status": "completed"
    },
    "tags": []
   },
   "outputs": [
    {
     "name": "stdout",
     "output_type": "stream",
     "text": [
      "loan_grade\n",
      "A     7.335176\n",
      "B    11.034733\n",
      "C    13.510343\n",
      "D    15.404599\n",
      "E    16.930961\n",
      "F    18.610940\n",
      "G    20.327576\n",
      "Name: loan_int_rate, dtype: float64\n"
     ]
    }
   ],
   "source": [
    "average_rates = df.groupby('loan_grade')['loan_int_rate'].mean()\n",
    "print(average_rates)\n",
    "\n",
    "## interest rates rises fastly with loan grades"
   ]
  },
  {
   "cell_type": "code",
   "execution_count": 7,
   "id": "de473de3",
   "metadata": {
    "execution": {
     "iopub.execute_input": "2024-10-25T13:01:47.327943Z",
     "iopub.status.busy": "2024-10-25T13:01:47.327109Z",
     "iopub.status.idle": "2024-10-25T13:01:47.342219Z",
     "shell.execute_reply": "2024-10-25T13:01:47.340890Z"
    },
    "papermill": {
     "duration": 0.036444,
     "end_time": "2024-10-25T13:01:47.344763",
     "exception": false,
     "start_time": "2024-10-25T13:01:47.308319",
     "status": "completed"
    },
    "tags": []
   },
   "outputs": [
    {
     "name": "stdout",
     "output_type": "stream",
     "text": [
      "loan_grade\n",
      "A    0.049180\n",
      "B    0.102304\n",
      "C    0.135375\n",
      "D    0.593564\n",
      "E    0.625372\n",
      "F    0.610738\n",
      "G    0.818182\n",
      "Name: loan_status, dtype: float64\n"
     ]
    }
   ],
   "source": [
    "average_rates = df.groupby('loan_grade')['loan_status'].mean()\n",
    "print(average_rates)\n",
    "\n",
    "## chances of approval also increases with loan grade\n",
    "## Should be because higher interest rates would cover for higher default rates"
   ]
  },
  {
   "cell_type": "code",
   "execution_count": 8,
   "id": "68036db9",
   "metadata": {
    "execution": {
     "iopub.execute_input": "2024-10-25T13:01:47.381577Z",
     "iopub.status.busy": "2024-10-25T13:01:47.381159Z",
     "iopub.status.idle": "2024-10-25T13:01:47.398678Z",
     "shell.execute_reply": "2024-10-25T13:01:47.397578Z"
    },
    "papermill": {
     "duration": 0.038859,
     "end_time": "2024-10-25T13:01:47.401179",
     "exception": false,
     "start_time": "2024-10-25T13:01:47.362320",
     "status": "completed"
    },
    "tags": []
   },
   "outputs": [
    {
     "data": {
      "text/plain": [
       "loan_grade\n",
       "A    20984\n",
       "B    20400\n",
       "C    11036\n",
       "D     5034\n",
       "E     1009\n",
       "F      149\n",
       "G       33\n",
       "Name: count, dtype: int64"
      ]
     },
     "execution_count": 8,
     "metadata": {},
     "output_type": "execute_result"
    }
   ],
   "source": [
    "df['loan_grade'].value_counts()\n",
    "\n",
    "# If loan grade is something customer applies for, everyone has very good chances from D\n",
    "# grade loans"
   ]
  },
  {
   "cell_type": "code",
   "execution_count": 9,
   "id": "b4dbfc9d",
   "metadata": {
    "execution": {
     "iopub.execute_input": "2024-10-25T13:01:47.439227Z",
     "iopub.status.busy": "2024-10-25T13:01:47.438805Z",
     "iopub.status.idle": "2024-10-25T13:01:47.460806Z",
     "shell.execute_reply": "2024-10-25T13:01:47.459588Z"
    },
    "papermill": {
     "duration": 0.04364,
     "end_time": "2024-10-25T13:01:47.463216",
     "exception": false,
     "start_time": "2024-10-25T13:01:47.419576",
     "status": "completed"
    },
    "tags": []
   },
   "outputs": [
    {
     "data": {
      "text/plain": [
       "(1032, 13)"
      ]
     },
     "execution_count": 9,
     "metadata": {},
     "output_type": "execute_result"
    }
   ],
   "source": [
    "# Let us check for the qualities of grade A loan approved people\n",
    "df_A_grade = df[(df['loan_grade']=='A') & (df['loan_status']==1)] \n",
    "df_A_grade.shape\n",
    "# There are more than 1000 people with such situation\n",
    "# Assumptions on such people\n",
    "# High income\n",
    "# Living rent or owned home\n",
    "# Have more work experience\n",
    "# Have not defaulted\n",
    "# loan percent income is less"
   ]
  },
  {
   "cell_type": "code",
   "execution_count": 10,
   "id": "e196a72f",
   "metadata": {
    "execution": {
     "iopub.execute_input": "2024-10-25T13:01:47.500988Z",
     "iopub.status.busy": "2024-10-25T13:01:47.500248Z",
     "iopub.status.idle": "2024-10-25T13:01:47.509780Z",
     "shell.execute_reply": "2024-10-25T13:01:47.508706Z"
    },
    "papermill": {
     "duration": 0.031035,
     "end_time": "2024-10-25T13:01:47.512111",
     "exception": false,
     "start_time": "2024-10-25T13:01:47.481076",
     "status": "completed"
    },
    "tags": []
   },
   "outputs": [
    {
     "data": {
      "text/plain": [
       "person_home_ownership\n",
       "RENT        879\n",
       "MORTGAGE    146\n",
       "OWN           7\n",
       "Name: count, dtype: int64"
      ]
     },
     "execution_count": 10,
     "metadata": {},
     "output_type": "execute_result"
    }
   ],
   "source": [
    "df_A_grade['person_home_ownership'].value_counts()"
   ]
  },
  {
   "cell_type": "code",
   "execution_count": 11,
   "id": "037a75eb",
   "metadata": {
    "execution": {
     "iopub.execute_input": "2024-10-25T13:01:47.550712Z",
     "iopub.status.busy": "2024-10-25T13:01:47.549667Z",
     "iopub.status.idle": "2024-10-25T13:01:49.528492Z",
     "shell.execute_reply": "2024-10-25T13:01:49.527182Z"
    },
    "papermill": {
     "duration": 2.000954,
     "end_time": "2024-10-25T13:01:49.531122",
     "exception": false,
     "start_time": "2024-10-25T13:01:47.530168",
     "status": "completed"
    },
    "tags": []
   },
   "outputs": [
    {
     "data": {
      "image/png": "[encoded data removed]",
      "text/plain": [
       "<Figure size 600x600 with 1 Axes>"
      ]
     },
     "metadata": {},
     "output_type": "display_data"
    }
   ],
   "source": [
    "import matplotlib.pyplot as plt\n",
    "import seaborn as sns\n",
    "\n",
    "# Sample data\n",
    "data = [879, 146, 7]\n",
    "labels = ['RENT', 'MORTGAGE', 'OWN']\n",
    "\n",
    "# Create the pie chart\n",
    "plt.figure(figsize=(6, 6))  # Adjust figure size if needed\n",
    "sns.set_palette('pastel')  # Set color palette\n",
    "plt.pie(data, labels=labels, autopct='%1.1f%%', startangle=90)\n",
    "plt.title('Home Ownership')\n",
    "plt.show()"
   ]
  },
  {
   "cell_type": "code",
   "execution_count": 12,
   "id": "a42e110b",
   "metadata": {
    "execution": {
     "iopub.execute_input": "2024-10-25T13:01:49.569932Z",
     "iopub.status.busy": "2024-10-25T13:01:49.569338Z",
     "iopub.status.idle": "2024-10-25T13:01:49.579681Z",
     "shell.execute_reply": "2024-10-25T13:01:49.578557Z"
    },
    "papermill": {
     "duration": 0.032873,
     "end_time": "2024-10-25T13:01:49.582571",
     "exception": false,
     "start_time": "2024-10-25T13:01:49.549698",
     "status": "completed"
    },
    "tags": []
   },
   "outputs": [
    {
     "data": {
      "text/plain": [
       "loan_intent\n",
       "MEDICAL              227\n",
       "EDUCATION            206\n",
       "PERSONAL             189\n",
       "DEBTCONSOLIDATION    184\n",
       "HOMEIMPROVEMENT      124\n",
       "VENTURE              102\n",
       "Name: count, dtype: int64"
      ]
     },
     "execution_count": 12,
     "metadata": {},
     "output_type": "execute_result"
    }
   ],
   "source": [
    "# Surprisingly there are people with mortgage in this and less of people owning home\n",
    "# We will look further into it in just some time\n",
    "# Next up what are the purposes\n",
    "df_A_grade['loan_intent'].value_counts()"
   ]
  },
  {
   "cell_type": "code",
   "execution_count": 13,
   "id": "514fdc30",
   "metadata": {
    "execution": {
     "iopub.execute_input": "2024-10-25T13:01:49.622581Z",
     "iopub.status.busy": "2024-10-25T13:01:49.622142Z",
     "iopub.status.idle": "2024-10-25T13:01:49.778737Z",
     "shell.execute_reply": "2024-10-25T13:01:49.777466Z"
    },
    "papermill": {
     "duration": 0.18081,
     "end_time": "2024-10-25T13:01:49.782552",
     "exception": false,
     "start_time": "2024-10-25T13:01:49.601742",
     "status": "completed"
    },
    "tags": []
   },
   "outputs": [
    {
     "data": {
      "image/png": "[encoded data removed]",
      "text/plain": [
       "<Figure size 600x600 with 1 Axes>"
      ]
     },
     "metadata": {},
     "output_type": "display_data"
    }
   ],
   "source": [
    "names = ['MEDICAL', 'EDUCATION', 'PERSONAL', 'DEBTCONSOLIDATION', 'HOMEIMPROVEMENT', 'VENTURE']\n",
    "counts = [227, 206, 189, 184, 124, 102]\n",
    "\n",
    "# Create the pie chart\n",
    "plt.figure(figsize=(6, 6))  # Adjust figure size if needed\n",
    "sns.set_palette('pastel')  # Set color palette\n",
    "plt.pie(counts, labels=names, autopct='%1.1f%%', startangle=90)\n",
    "plt.title('Home Ownership')\n",
    "plt.show()"
   ]
  },
  {
   "cell_type": "code",
   "execution_count": 14,
   "id": "a6cf50f8",
   "metadata": {
    "execution": {
     "iopub.execute_input": "2024-10-25T13:01:49.823218Z",
     "iopub.status.busy": "2024-10-25T13:01:49.822771Z",
     "iopub.status.idle": "2024-10-25T13:01:49.833483Z",
     "shell.execute_reply": "2024-10-25T13:01:49.832300Z"
    },
    "papermill": {
     "duration": 0.034221,
     "end_time": "2024-10-25T13:01:49.836129",
     "exception": false,
     "start_time": "2024-10-25T13:01:49.801908",
     "status": "completed"
    },
    "tags": []
   },
   "outputs": [
    {
     "data": {
      "text/plain": [
       "cb_person_default_on_file\n",
       "0    1032\n",
       "Name: count, dtype: int64"
      ]
     },
     "execution_count": 14,
     "metadata": {},
     "output_type": "execute_result"
    }
   ],
   "source": [
    "# Venture seems to be a bit on the lower side\n",
    "df_A_grade['cb_person_default_on_file'].value_counts()\n",
    "\n"
   ]
  },
  {
   "cell_type": "code",
   "execution_count": 15,
   "id": "b83cf286",
   "metadata": {
    "execution": {
     "iopub.execute_input": "2024-10-25T13:01:49.877169Z",
     "iopub.status.busy": "2024-10-25T13:01:49.876397Z",
     "iopub.status.idle": "2024-10-25T13:01:50.181644Z",
     "shell.execute_reply": "2024-10-25T13:01:50.180241Z"
    },
    "papermill": {
     "duration": 0.328801,
     "end_time": "2024-10-25T13:01:50.184371",
     "exception": false,
     "start_time": "2024-10-25T13:01:49.855570",
     "status": "completed"
    },
    "tags": []
   },
   "outputs": [
    {
     "data": {
      "image/png": "[encoded data removed]",
      "text/plain": [
       "<Figure size 640x480 with 1 Axes>"
      ]
     },
     "metadata": {},
     "output_type": "display_data"
    }
   ],
   "source": [
    "# This is where there is no compromise no defaults\n",
    "# Let us create histogram of income\n",
    "# Create the histogram\n",
    "plt.hist(df_A_grade['person_income'], bins=20)  # Adjust bins as needed\n",
    "plt.xlabel('Income')\n",
    "plt.ylabel('Frequency')\n",
    "plt.title('Income Distribution')\n",
    "plt.show()\n"
   ]
  },
  {
   "cell_type": "code",
   "execution_count": 16,
   "id": "1402015d",
   "metadata": {
    "execution": {
     "iopub.execute_input": "2024-10-25T13:01:50.226759Z",
     "iopub.status.busy": "2024-10-25T13:01:50.226344Z",
     "iopub.status.idle": "2024-10-25T13:01:50.524262Z",
     "shell.execute_reply": "2024-10-25T13:01:50.523024Z"
    },
    "papermill": {
     "duration": 0.321766,
     "end_time": "2024-10-25T13:01:50.526766",
     "exception": false,
     "start_time": "2024-10-25T13:01:50.205000",
     "status": "completed"
    },
    "tags": []
   },
   "outputs": [
    {
     "data": {
      "image/png": "[encoded data removed]",
      "text/plain": [
       "<Figure size 640x480 with 1 Axes>"
      ]
     },
     "metadata": {},
     "output_type": "display_data"
    }
   ],
   "source": [
    "## Surprisingly it includes a lot of people below 50k annual income\n",
    "# I think that loan percent income is the key here\n",
    "# This is where there is no compromise no defaults\n",
    "# Let us create histogram of income\n",
    "# Create the histogram\n",
    "plt.hist(df_A_grade['loan_percent_income'], bins=20)  # Adjust bins as needed\n",
    "plt.xlabel('Income')\n",
    "plt.ylabel('Frequency')\n",
    "plt.title('Income Distribution')\n",
    "plt.show()"
   ]
  },
  {
   "cell_type": "code",
   "execution_count": 17,
   "id": "007c360e",
   "metadata": {
    "execution": {
     "iopub.execute_input": "2024-10-25T13:01:50.569224Z",
     "iopub.status.busy": "2024-10-25T13:01:50.568673Z",
     "iopub.status.idle": "2024-10-25T13:01:50.578743Z",
     "shell.execute_reply": "2024-10-25T13:01:50.577606Z"
    },
    "papermill": {
     "duration": 0.033683,
     "end_time": "2024-10-25T13:01:50.581080",
     "exception": false,
     "start_time": "2024-10-25T13:01:50.547397",
     "status": "completed"
    },
    "tags": []
   },
   "outputs": [
    {
     "data": {
      "text/plain": [
       "cb_person_cred_hist_length\n",
       "4     201\n",
       "2     184\n",
       "3     177\n",
       "6      76\n",
       "8      69\n",
       "9      63\n",
       "7      54\n",
       "5      52\n",
       "10     48\n",
       "12     17\n",
       "13     17\n",
       "14     16\n",
       "17     15\n",
       "16     13\n",
       "11     12\n",
       "15      5\n",
       "27      3\n",
       "25      2\n",
       "19      2\n",
       "28      2\n",
       "30      1\n",
       "24      1\n",
       "21      1\n",
       "18      1\n",
       "Name: count, dtype: int64"
      ]
     },
     "execution_count": 17,
     "metadata": {},
     "output_type": "execute_result"
    }
   ],
   "source": [
    "## As expected the range is from 0 to 0.5, with majority being in the 0.3 to 0.4 range\n",
    "## Now let us check the credit history length\n",
    "df_A_grade['cb_person_cred_hist_length'].value_counts()"
   ]
  },
  {
   "cell_type": "code",
   "execution_count": 18,
   "id": "2b07155e",
   "metadata": {
    "execution": {
     "iopub.execute_input": "2024-10-25T13:01:50.624878Z",
     "iopub.status.busy": "2024-10-25T13:01:50.623938Z",
     "iopub.status.idle": "2024-10-25T13:01:50.636944Z",
     "shell.execute_reply": "2024-10-25T13:01:50.635815Z"
    },
    "papermill": {
     "duration": 0.037006,
     "end_time": "2024-10-25T13:01:50.639285",
     "exception": false,
     "start_time": "2024-10-25T13:01:50.602279",
     "status": "completed"
    },
    "tags": []
   },
   "outputs": [
    {
     "data": {
      "text/plain": [
       "person_emp_length\n",
       "0.0     167\n",
       "2.0     133\n",
       "3.0     124\n",
       "4.0     114\n",
       "1.0     111\n",
       "5.0      92\n",
       "6.0      85\n",
       "7.0      64\n",
       "8.0      31\n",
       "9.0      23\n",
       "11.0     18\n",
       "12.0     17\n",
       "10.0     14\n",
       "14.0     14\n",
       "13.0      7\n",
       "15.0      5\n",
       "21.0      3\n",
       "18.0      2\n",
       "17.0      2\n",
       "27.0      1\n",
       "24.0      1\n",
       "16.0      1\n",
       "19.0      1\n",
       "23.0      1\n",
       "20.0      1\n",
       "Name: count, dtype: int64"
      ]
     },
     "execution_count": 18,
     "metadata": {},
     "output_type": "execute_result"
    }
   ],
   "source": [
    "#Here we see that the person needs to have couple of items in credit history \n",
    "\n",
    "df_A_grade['person_emp_length'].value_counts()\n",
    "\n",
    "# Consideing that most people are in the 20s and 30s this tallies well"
   ]
  },
  {
   "cell_type": "code",
   "execution_count": 19,
   "id": "e99fbb89",
   "metadata": {
    "execution": {
     "iopub.execute_input": "2024-10-25T13:01:50.682864Z",
     "iopub.status.busy": "2024-10-25T13:01:50.681828Z",
     "iopub.status.idle": "2024-10-25T13:01:50.690999Z",
     "shell.execute_reply": "2024-10-25T13:01:50.689677Z"
    },
    "papermill": {
     "duration": 0.033584,
     "end_time": "2024-10-25T13:01:50.693775",
     "exception": false,
     "start_time": "2024-10-25T13:01:50.660191",
     "status": "completed"
    },
    "tags": []
   },
   "outputs": [
    {
     "data": {
      "text/plain": [
       "(146, 13)"
      ]
     },
     "execution_count": 19,
     "metadata": {},
     "output_type": "execute_result"
    }
   ],
   "source": [
    "# Now coming back to people with mortgage, I think they will have high income and low\n",
    "# loan percent income\n",
    "df_A_mortgage = df_A_grade[df_A_grade['person_home_ownership']=='MORTGAGE']\n",
    "df_A_mortgage.shape"
   ]
  },
  {
   "cell_type": "code",
   "execution_count": 20,
   "id": "b15ad478",
   "metadata": {
    "execution": {
     "iopub.execute_input": "2024-10-25T13:01:50.737619Z",
     "iopub.status.busy": "2024-10-25T13:01:50.737221Z",
     "iopub.status.idle": "2024-10-25T13:01:51.007785Z",
     "shell.execute_reply": "2024-10-25T13:01:51.006585Z"
    },
    "papermill": {
     "duration": 0.29551,
     "end_time": "2024-10-25T13:01:51.010465",
     "exception": false,
     "start_time": "2024-10-25T13:01:50.714955",
     "status": "completed"
    },
    "tags": []
   },
   "outputs": [
    {
     "data": {
      "image/png": "[encoded data removed]",
      "text/plain": [
       "<Figure size 640x480 with 1 Axes>"
      ]
     },
     "metadata": {},
     "output_type": "display_data"
    }
   ],
   "source": [
    "plt.hist(df_A_mortgage['person_income'], bins=20)  # Adjust bins as needed\n",
    "plt.xlabel('Income')\n",
    "plt.ylabel('Frequency')\n",
    "plt.title('Income Distribution')\n",
    "plt.show()"
   ]
  },
  {
   "cell_type": "code",
   "execution_count": 21,
   "id": "7dff1b17",
   "metadata": {
    "execution": {
     "iopub.execute_input": "2024-10-25T13:01:51.054073Z",
     "iopub.status.busy": "2024-10-25T13:01:51.053593Z",
     "iopub.status.idle": "2024-10-25T13:01:51.327313Z",
     "shell.execute_reply": "2024-10-25T13:01:51.326229Z"
    },
    "papermill": {
     "duration": 0.298525,
     "end_time": "2024-10-25T13:01:51.329938",
     "exception": false,
     "start_time": "2024-10-25T13:01:51.031413",
     "status": "completed"
    },
    "tags": []
   },
   "outputs": [
    {
     "data": {
      "image/png": "[encoded data removed]",
      "text/plain": [
       "<Figure size 640x480 with 1 Axes>"
      ]
     },
     "metadata": {},
     "output_type": "display_data"
    }
   ],
   "source": [
    "plt.hist(df_A_mortgage['loan_percent_income'], bins=20)  # Adjust bins as needed\n",
    "plt.xlabel('Income')\n",
    "plt.ylabel('Frequency')\n",
    "plt.title('Income Distribution')\n",
    "plt.show()"
   ]
  },
  {
   "cell_type": "code",
   "execution_count": 22,
   "id": "cc2efcca",
   "metadata": {
    "execution": {
     "iopub.execute_input": "2024-10-25T13:01:51.374930Z",
     "iopub.status.busy": "2024-10-25T13:01:51.374495Z",
     "iopub.status.idle": "2024-10-25T13:01:51.379667Z",
     "shell.execute_reply": "2024-10-25T13:01:51.378532Z"
    },
    "papermill": {
     "duration": 0.030754,
     "end_time": "2024-10-25T13:01:51.382213",
     "exception": false,
     "start_time": "2024-10-25T13:01:51.351459",
     "status": "completed"
    },
    "tags": []
   },
   "outputs": [],
   "source": [
    "## While the general loan percent income is in the range of 0.3 to 0.4\n",
    "## In case of people with mortgage the majority is from 0.01 to 0.2"
   ]
  },
  {
   "cell_type": "code",
   "execution_count": 23,
   "id": "7986763b",
   "metadata": {
    "execution": {
     "iopub.execute_input": "2024-10-25T13:01:51.426501Z",
     "iopub.status.busy": "2024-10-25T13:01:51.426107Z",
     "iopub.status.idle": "2024-10-25T13:01:51.449131Z",
     "shell.execute_reply": "2024-10-25T13:01:51.447688Z"
    },
    "papermill": {
     "duration": 0.04827,
     "end_time": "2024-10-25T13:01:51.451771",
     "exception": false,
     "start_time": "2024-10-25T13:01:51.403501",
     "status": "completed"
    },
    "tags": []
   },
   "outputs": [
    {
     "data": {
      "text/plain": [
       "(19952, 13)"
      ]
     },
     "execution_count": 23,
     "metadata": {},
     "output_type": "execute_result"
    }
   ],
   "source": [
    "# Let us check people who have rejected A grade loans\n",
    "df_not_A_grade = df[(df['loan_grade']=='A') & (df['loan_status']==0)] \n",
    "df_not_A_grade.shape"
   ]
  },
  {
   "cell_type": "code",
   "execution_count": 24,
   "id": "90d1587e",
   "metadata": {
    "execution": {
     "iopub.execute_input": "2024-10-25T13:01:51.497754Z",
     "iopub.status.busy": "2024-10-25T13:01:51.497286Z",
     "iopub.status.idle": "2024-10-25T13:01:51.506797Z",
     "shell.execute_reply": "2024-10-25T13:01:51.505676Z"
    },
    "papermill": {
     "duration": 0.035371,
     "end_time": "2024-10-25T13:01:51.509312",
     "exception": false,
     "start_time": "2024-10-25T13:01:51.473941",
     "status": "completed"
    },
    "tags": []
   },
   "outputs": [
    {
     "data": {
      "text/plain": [
       "cb_person_default_on_file\n",
       "0    19948\n",
       "1        4\n",
       "Name: count, dtype: int64"
      ]
     },
     "execution_count": 24,
     "metadata": {},
     "output_type": "execute_result"
    }
   ],
   "source": [
    "# Assumptions here would be people will have either defaults\n",
    "# High loan to income percent\n",
    "# More house in mortgage\n",
    "# Let us start with defaults\n",
    "df_not_A_grade['cb_person_default_on_file'].value_counts()"
   ]
  },
  {
   "cell_type": "code",
   "execution_count": 25,
   "id": "49f9a4dc",
   "metadata": {
    "execution": {
     "iopub.execute_input": "2024-10-25T13:01:51.554788Z",
     "iopub.status.busy": "2024-10-25T13:01:51.554326Z",
     "iopub.status.idle": "2024-10-25T13:01:51.840403Z",
     "shell.execute_reply": "2024-10-25T13:01:51.839155Z"
    },
    "papermill": {
     "duration": 0.311901,
     "end_time": "2024-10-25T13:01:51.842967",
     "exception": false,
     "start_time": "2024-10-25T13:01:51.531066",
     "status": "completed"
    },
    "tags": []
   },
   "outputs": [
    {
     "data": {
      "image/png": "[encoded data removed]",
      "text/plain": [
       "<Figure size 640x480 with 1 Axes>"
      ]
     },
     "metadata": {},
     "output_type": "display_data"
    }
   ],
   "source": [
    "plt.hist(df_not_A_grade['person_income'], bins=20)  # Adjust bins as needed\n",
    "plt.xlabel('Income')\n",
    "plt.ylabel('Frequency')\n",
    "plt.title('Income Distribution')\n",
    "plt.show()"
   ]
  },
  {
   "cell_type": "code",
   "execution_count": 26,
   "id": "43abf3b4",
   "metadata": {
    "execution": {
     "iopub.execute_input": "2024-10-25T13:01:51.889833Z",
     "iopub.status.busy": "2024-10-25T13:01:51.889039Z",
     "iopub.status.idle": "2024-10-25T13:01:52.170795Z",
     "shell.execute_reply": "2024-10-25T13:01:52.169669Z"
    },
    "papermill": {
     "duration": 0.307882,
     "end_time": "2024-10-25T13:01:52.173235",
     "exception": false,
     "start_time": "2024-10-25T13:01:51.865353",
     "status": "completed"
    },
    "tags": []
   },
   "outputs": [
    {
     "data": {
      "image/png": "[encoded data removed]",
      "text/plain": [
       "<Figure size 640x480 with 1 Axes>"
      ]
     },
     "metadata": {},
     "output_type": "display_data"
    }
   ],
   "source": [
    "# Very low income is a characteristic feature for them\n",
    "# As a consequece we might see higher income to loan ratio\n",
    "plt.hist(df_not_A_grade['loan_percent_income'], bins=20)  # Adjust bins as needed\n",
    "plt.xlabel('Income')\n",
    "plt.ylabel('Frequency')\n",
    "plt.title('Income Distribution')\n",
    "plt.show()"
   ]
  },
  {
   "cell_type": "code",
   "execution_count": 27,
   "id": "9619056f",
   "metadata": {
    "execution": {
     "iopub.execute_input": "2024-10-25T13:01:52.220770Z",
     "iopub.status.busy": "2024-10-25T13:01:52.220303Z",
     "iopub.status.idle": "2024-10-25T13:01:52.252953Z",
     "shell.execute_reply": "2024-10-25T13:01:52.251641Z"
    },
    "papermill": {
     "duration": 0.06096,
     "end_time": "2024-10-25T13:01:52.256901",
     "exception": false,
     "start_time": "2024-10-25T13:01:52.195941",
     "status": "completed"
    },
    "tags": []
   },
   "outputs": [],
   "source": [
    "## So people in this category, even though have lower loan_percent_income, due to their low salaries\n",
    "# they were rejected\n",
    "\n",
    "## We will now see other end of this\n",
    "## people with F and G loans\n",
    "\n",
    "df_FG_grade = df[((df['loan_grade']=='F') |(df['loan_grade']=='G')) & (df['loan_status']==1)] "
   ]
  },
  {
   "cell_type": "code",
   "execution_count": 28,
   "id": "57954621",
   "metadata": {
    "execution": {
     "iopub.execute_input": "2024-10-25T13:01:52.318405Z",
     "iopub.status.busy": "2024-10-25T13:01:52.317502Z",
     "iopub.status.idle": "2024-10-25T13:01:52.326909Z",
     "shell.execute_reply": "2024-10-25T13:01:52.325582Z"
    },
    "papermill": {
     "duration": 0.043114,
     "end_time": "2024-10-25T13:01:52.330858",
     "exception": false,
     "start_time": "2024-10-25T13:01:52.287744",
     "status": "completed"
    },
    "tags": []
   },
   "outputs": [
    {
     "data": {
      "text/plain": [
       "(118, 13)"
      ]
     },
     "execution_count": 28,
     "metadata": {},
     "output_type": "execute_result"
    }
   ],
   "source": [
    "df_FG_grade.shape\n",
    "# One would assume that everyone has defaulted\n",
    "\n"
   ]
  },
  {
   "cell_type": "code",
   "execution_count": 29,
   "id": "852360fd",
   "metadata": {
    "execution": {
     "iopub.execute_input": "2024-10-25T13:01:52.382181Z",
     "iopub.status.busy": "2024-10-25T13:01:52.381701Z",
     "iopub.status.idle": "2024-10-25T13:01:52.390853Z",
     "shell.execute_reply": "2024-10-25T13:01:52.389760Z"
    },
    "papermill": {
     "duration": 0.035729,
     "end_time": "2024-10-25T13:01:52.393239",
     "exception": false,
     "start_time": "2024-10-25T13:01:52.357510",
     "status": "completed"
    },
    "tags": []
   },
   "outputs": [
    {
     "data": {
      "text/plain": [
       "cb_person_default_on_file\n",
       "1    68\n",
       "0    50\n",
       "Name: count, dtype: int64"
      ]
     },
     "execution_count": 29,
     "metadata": {},
     "output_type": "execute_result"
    }
   ],
   "source": [
    "df_FG_grade['cb_person_default_on_file'].value_counts()"
   ]
  },
  {
   "cell_type": "code",
   "execution_count": 30,
   "id": "00f5570f",
   "metadata": {
    "execution": {
     "iopub.execute_input": "2024-10-25T13:01:52.441390Z",
     "iopub.status.busy": "2024-10-25T13:01:52.440351Z",
     "iopub.status.idle": "2024-10-25T13:01:52.449527Z",
     "shell.execute_reply": "2024-10-25T13:01:52.448532Z"
    },
    "papermill": {
     "duration": 0.035653,
     "end_time": "2024-10-25T13:01:52.451830",
     "exception": false,
     "start_time": "2024-10-25T13:01:52.416177",
     "status": "completed"
    },
    "tags": []
   },
   "outputs": [
    {
     "data": {
      "text/plain": [
       "person_home_ownership\n",
       "RENT        99\n",
       "MORTGAGE    16\n",
       "OWN          2\n",
       "OTHER        1\n",
       "Name: count, dtype: int64"
      ]
     },
     "execution_count": 30,
     "metadata": {},
     "output_type": "execute_result"
    }
   ],
   "source": [
    "# There are people who have not defaulted and yet they are here, we will look into that\n",
    "# For housing a mortgage majority is expected\n",
    "df_FG_grade['person_home_ownership'].value_counts()"
   ]
  },
  {
   "cell_type": "code",
   "execution_count": 31,
   "id": "eaffa910",
   "metadata": {
    "execution": {
     "iopub.execute_input": "2024-10-25T13:01:52.507696Z",
     "iopub.status.busy": "2024-10-25T13:01:52.506602Z",
     "iopub.status.idle": "2024-10-25T13:01:52.697631Z",
     "shell.execute_reply": "2024-10-25T13:01:52.696173Z"
    },
    "papermill": {
     "duration": 0.222891,
     "end_time": "2024-10-25T13:01:52.702570",
     "exception": false,
     "start_time": "2024-10-25T13:01:52.479679",
     "status": "completed"
    },
    "tags": []
   },
   "outputs": [
    {
     "data": {
      "image/png": "[encoded data removed]",
      "text/plain": [
       "<Figure size 600x600 with 1 Axes>"
      ]
     },
     "metadata": {},
     "output_type": "display_data"
    }
   ],
   "source": [
    "data = [99, 16, 2, 1]\n",
    "labels = ['RENT', 'MORTGAGE', 'OWN', 'OTHER']\n",
    "\n",
    "# Create the pie chart\n",
    "plt.figure(figsize=(6, 6))  # Adjust figure size if needed\n",
    "sns.set_palette('pastel')  # Set color palette\n",
    "plt.pie(data, labels=labels, autopct='%1.1f%%', startangle=0, \n",
    "        textprops={'fontsize': 8})  # Adjust text properties here\n",
    "plt.title('Home Ownership')\n",
    "plt.show()"
   ]
  },
  {
   "cell_type": "code",
   "execution_count": 32,
   "id": "8427efc4",
   "metadata": {
    "execution": {
     "iopub.execute_input": "2024-10-25T13:01:52.771643Z",
     "iopub.status.busy": "2024-10-25T13:01:52.770736Z",
     "iopub.status.idle": "2024-10-25T13:01:53.097093Z",
     "shell.execute_reply": "2024-10-25T13:01:53.095895Z"
    },
    "papermill": {
     "duration": 0.35365,
     "end_time": "2024-10-25T13:01:53.099518",
     "exception": false,
     "start_time": "2024-10-25T13:01:52.745868",
     "status": "completed"
    },
    "tags": []
   },
   "outputs": [
    {
     "data": {
      "image/png": "[encoded data removed]",
      "text/plain": [
       "<Figure size 640x480 with 1 Axes>"
      ]
     },
     "metadata": {},
     "output_type": "display_data"
    }
   ],
   "source": [
    "plt.hist(df_FG_grade['person_income'], bins=20)  # Adjust bins as needed\n",
    "plt.xlabel('Income')\n",
    "plt.ylabel('Frequency')\n",
    "plt.title('Income Distribution')\n",
    "plt.show()"
   ]
  },
  {
   "cell_type": "code",
   "execution_count": 33,
   "id": "6d33179e",
   "metadata": {
    "execution": {
     "iopub.execute_input": "2024-10-25T13:01:53.151794Z",
     "iopub.status.busy": "2024-10-25T13:01:53.150698Z",
     "iopub.status.idle": "2024-10-25T13:01:53.454149Z",
     "shell.execute_reply": "2024-10-25T13:01:53.452902Z"
    },
    "papermill": {
     "duration": 0.333423,
     "end_time": "2024-10-25T13:01:53.456888",
     "exception": false,
     "start_time": "2024-10-25T13:01:53.123465",
     "status": "completed"
    },
    "tags": []
   },
   "outputs": [
    {
     "data": {
      "image/png": "[encoded data removed]",
      "text/plain": [
       "<Figure size 640x480 with 1 Axes>"
      ]
     },
     "metadata": {},
     "output_type": "display_data"
    }
   ],
   "source": [
    "plt.hist(df_FG_grade['loan_percent_income'], bins=20)  # Adjust bins as needed\n",
    "plt.xlabel('Income')\n",
    "plt.ylabel('Frequency')\n",
    "plt.title('Income Distribution')\n",
    "plt.show()"
   ]
  },
  {
   "cell_type": "code",
   "execution_count": 34,
   "id": "4345a1f3",
   "metadata": {
    "execution": {
     "iopub.execute_input": "2024-10-25T13:01:53.509700Z",
     "iopub.status.busy": "2024-10-25T13:01:53.509290Z",
     "iopub.status.idle": "2024-10-25T13:01:53.519557Z",
     "shell.execute_reply": "2024-10-25T13:01:53.518262Z"
    },
    "papermill": {
     "duration": 0.041036,
     "end_time": "2024-10-25T13:01:53.522221",
     "exception": false,
     "start_time": "2024-10-25T13:01:53.481185",
     "status": "completed"
    },
    "tags": []
   },
   "outputs": [
    {
     "data": {
      "text/plain": [
       "cb_person_cred_hist_length\n",
       "4     31\n",
       "3     19\n",
       "2     18\n",
       "9      7\n",
       "6      6\n",
       "14     5\n",
       "7      5\n",
       "8      5\n",
       "5      5\n",
       "10     3\n",
       "12     3\n",
       "11     2\n",
       "15     2\n",
       "13     1\n",
       "28     1\n",
       "17     1\n",
       "21     1\n",
       "19     1\n",
       "16     1\n",
       "20     1\n",
       "Name: count, dtype: int64"
      ]
     },
     "execution_count": 34,
     "metadata": {},
     "output_type": "execute_result"
    }
   ],
   "source": [
    "# It is all over the place from 0.1 to 0.5\n",
    "# I am wondering if some of these people could apply for higher \n",
    "# level loans(they may or maynot have been assigned this)\n",
    "# May be all of them have 0 credit length\n",
    "df_FG_grade['cb_person_cred_hist_length'].value_counts()\n"
   ]
  },
  {
   "cell_type": "code",
   "execution_count": 35,
   "id": "dd847bbd",
   "metadata": {
    "execution": {
     "iopub.execute_input": "2024-10-25T13:01:53.574403Z",
     "iopub.status.busy": "2024-10-25T13:01:53.573951Z",
     "iopub.status.idle": "2024-10-25T13:01:53.579012Z",
     "shell.execute_reply": "2024-10-25T13:01:53.577894Z"
    },
    "papermill": {
     "duration": 0.0333,
     "end_time": "2024-10-25T13:01:53.581494",
     "exception": false,
     "start_time": "2024-10-25T13:01:53.548194",
     "status": "completed"
    },
    "tags": []
   },
   "outputs": [],
   "source": [
    "## Even that is not the case\n",
    "## The rejected people should score badly in some of the above criterions  "
   ]
  },
  {
   "cell_type": "code",
   "execution_count": 36,
   "id": "ea717121",
   "metadata": {
    "execution": {
     "iopub.execute_input": "2024-10-25T13:01:53.631917Z",
     "iopub.status.busy": "2024-10-25T13:01:53.631485Z",
     "iopub.status.idle": "2024-10-25T13:01:53.662517Z",
     "shell.execute_reply": "2024-10-25T13:01:53.661504Z"
    },
    "papermill": {
     "duration": 0.059367,
     "end_time": "2024-10-25T13:01:53.665289",
     "exception": false,
     "start_time": "2024-10-25T13:01:53.605922",
     "status": "completed"
    },
    "tags": []
   },
   "outputs": [],
   "source": [
    "df_not_FG_grade = df[((df['loan_grade']=='F') |(df['loan_grade']=='G')) & (df['loan_status']==0)] "
   ]
  },
  {
   "cell_type": "code",
   "execution_count": 37,
   "id": "3c8a34db",
   "metadata": {
    "execution": {
     "iopub.execute_input": "2024-10-25T13:01:53.715548Z",
     "iopub.status.busy": "2024-10-25T13:01:53.715123Z",
     "iopub.status.idle": "2024-10-25T13:01:53.724267Z",
     "shell.execute_reply": "2024-10-25T13:01:53.723061Z"
    },
    "papermill": {
     "duration": 0.037027,
     "end_time": "2024-10-25T13:01:53.726648",
     "exception": false,
     "start_time": "2024-10-25T13:01:53.689621",
     "status": "completed"
    },
    "tags": []
   },
   "outputs": [
    {
     "data": {
      "text/plain": [
       "cb_person_default_on_file\n",
       "0    33\n",
       "1    31\n",
       "Name: count, dtype: int64"
      ]
     },
     "execution_count": 37,
     "metadata": {},
     "output_type": "execute_result"
    }
   ],
   "source": [
    "df_not_FG_grade['cb_person_default_on_file'].value_counts()"
   ]
  },
  {
   "cell_type": "code",
   "execution_count": 38,
   "id": "4abef9e9",
   "metadata": {
    "execution": {
     "iopub.execute_input": "2024-10-25T13:01:53.777111Z",
     "iopub.status.busy": "2024-10-25T13:01:53.776648Z",
     "iopub.status.idle": "2024-10-25T13:01:54.087325Z",
     "shell.execute_reply": "2024-10-25T13:01:54.086109Z"
    },
    "papermill": {
     "duration": 0.338999,
     "end_time": "2024-10-25T13:01:54.090017",
     "exception": false,
     "start_time": "2024-10-25T13:01:53.751018",
     "status": "completed"
    },
    "tags": []
   },
   "outputs": [
    {
     "data": {
      "image/png": "[encoded data removed]",
      "text/plain": [
       "<Figure size 640x480 with 1 Axes>"
      ]
     },
     "metadata": {},
     "output_type": "display_data"
    }
   ],
   "source": [
    "plt.hist(df_not_FG_grade['person_income'], bins=20)  # Adjust bins as needed\n",
    "plt.xlabel('Income')\n",
    "plt.ylabel('Frequency')\n",
    "plt.title('Income Distribution')\n",
    "plt.show()"
   ]
  },
  {
   "cell_type": "code",
   "execution_count": 39,
   "id": "266cc839",
   "metadata": {
    "execution": {
     "iopub.execute_input": "2024-10-25T13:01:54.141911Z",
     "iopub.status.busy": "2024-10-25T13:01:54.140895Z",
     "iopub.status.idle": "2024-10-25T13:01:54.147983Z",
     "shell.execute_reply": "2024-10-25T13:01:54.146774Z"
    },
    "papermill": {
     "duration": 0.03587,
     "end_time": "2024-10-25T13:01:54.150653",
     "exception": false,
     "start_time": "2024-10-25T13:01:54.114783",
     "status": "completed"
    },
    "tags": []
   },
   "outputs": [],
   "source": [
    "# There are 33 people who have not defaulted and still not considered eligible for loan\n",
    "# They have moderate to high salary as well\n",
    "# What about percent of loan?"
   ]
  },
  {
   "cell_type": "code",
   "execution_count": 40,
   "id": "b06df5ea",
   "metadata": {
    "execution": {
     "iopub.execute_input": "2024-10-25T13:01:54.204012Z",
     "iopub.status.busy": "2024-10-25T13:01:54.202677Z",
     "iopub.status.idle": "2024-10-25T13:01:54.512139Z",
     "shell.execute_reply": "2024-10-25T13:01:54.511008Z"
    },
    "papermill": {
     "duration": 0.338743,
     "end_time": "2024-10-25T13:01:54.514978",
     "exception": false,
     "start_time": "2024-10-25T13:01:54.176235",
     "status": "completed"
    },
    "tags": []
   },
   "outputs": [
    {
     "data": {
      "image/png": "[encoded data removed]",
      "text/plain": [
       "<Figure size 640x480 with 1 Axes>"
      ]
     },
     "metadata": {},
     "output_type": "display_data"
    }
   ],
   "source": [
    "plt.hist(df_not_FG_grade['loan_percent_income'], bins=20)  # Adjust bins as needed\n",
    "plt.xlabel('Income')\n",
    "plt.ylabel('Frequency')\n",
    "plt.title('Income Distribution')\n",
    "plt.show()"
   ]
  },
  {
   "cell_type": "code",
   "execution_count": 41,
   "id": "05fdc20b",
   "metadata": {
    "execution": {
     "iopub.execute_input": "2024-10-25T13:01:54.567831Z",
     "iopub.status.busy": "2024-10-25T13:01:54.567387Z",
     "iopub.status.idle": "2024-10-25T13:01:54.572526Z",
     "shell.execute_reply": "2024-10-25T13:01:54.571369Z"
    },
    "papermill": {
     "duration": 0.034476,
     "end_time": "2024-10-25T13:01:54.575150",
     "exception": false,
     "start_time": "2024-10-25T13:01:54.540674",
     "status": "completed"
    },
    "tags": []
   },
   "outputs": [],
   "source": [
    "## That is also below 0.5"
   ]
  },
  {
   "cell_type": "code",
   "execution_count": 42,
   "id": "d01e377b",
   "metadata": {
    "execution": {
     "iopub.execute_input": "2024-10-25T13:01:54.628467Z",
     "iopub.status.busy": "2024-10-25T13:01:54.626964Z",
     "iopub.status.idle": "2024-10-25T13:01:54.642633Z",
     "shell.execute_reply": "2024-10-25T13:01:54.641333Z"
    },
    "papermill": {
     "duration": 0.044772,
     "end_time": "2024-10-25T13:01:54.645117",
     "exception": false,
     "start_time": "2024-10-25T13:01:54.600345",
     "status": "completed"
    },
    "tags": []
   },
   "outputs": [
    {
     "name": "stdout",
     "output_type": "stream",
     "text": [
      "loan_grade\n",
      "A    0.000191\n",
      "B    0.000294\n",
      "C    0.499547\n",
      "D    0.511124\n",
      "E    0.502478\n",
      "F    0.543624\n",
      "G    0.545455\n",
      "Name: cb_person_default_on_file, dtype: float64\n"
     ]
    }
   ],
   "source": [
    "average_rates = df.groupby('loan_grade')['cb_person_default_on_file'].mean()\n",
    "print(average_rates)\n",
    "\n",
    "## If you have defaulted very less chance for A and B grade loans, hence less applications"
   ]
  },
  {
   "cell_type": "code",
   "execution_count": 43,
   "id": "92619028",
   "metadata": {
    "execution": {
     "iopub.execute_input": "2024-10-25T13:01:54.698833Z",
     "iopub.status.busy": "2024-10-25T13:01:54.698373Z",
     "iopub.status.idle": "2024-10-25T13:01:54.717235Z",
     "shell.execute_reply": "2024-10-25T13:01:54.716024Z"
    },
    "papermill": {
     "duration": 0.049093,
     "end_time": "2024-10-25T13:01:54.719784",
     "exception": false,
     "start_time": "2024-10-25T13:01:54.670691",
     "status": "completed"
    },
    "tags": []
   },
   "outputs": [
    {
     "name": "stdout",
     "output_type": "stream",
     "text": [
      "Average defaults for people below 40: 0.14802460501067055\n",
      "Average defaults for people above 40: 0.1553398058252427\n"
     ]
    }
   ],
   "source": [
    "average_below_40 = df[df['person_age'] < 40]['cb_person_default_on_file'].mean()\n",
    "average_above_40 = df[df['person_age'] >= 40]['cb_person_default_on_file'].mean()\n",
    "\n",
    "print(f\"Average defaults for people below 40: {average_below_40}\")\n",
    "print(f\"Average defaults for people above 40: {average_above_40}\")\n",
    "\n",
    "## Higher age means more time to default. Recency of default is not known  "
   ]
  },
  {
   "cell_type": "code",
   "execution_count": 44,
   "id": "b500629f",
   "metadata": {
    "execution": {
     "iopub.execute_input": "2024-10-25T13:01:54.772486Z",
     "iopub.status.busy": "2024-10-25T13:01:54.772058Z",
     "iopub.status.idle": "2024-10-25T13:01:54.788265Z",
     "shell.execute_reply": "2024-10-25T13:01:54.786875Z"
    },
    "papermill": {
     "duration": 0.045485,
     "end_time": "2024-10-25T13:01:54.790663",
     "exception": false,
     "start_time": "2024-10-25T13:01:54.745178",
     "status": "completed"
    },
    "tags": []
   },
   "outputs": [
    {
     "name": "stdout",
     "output_type": "stream",
     "text": [
      "loan_intent\n",
      "DEBTCONSOLIDATION    0.141575\n",
      "EDUCATION            0.152310\n",
      "HOMEIMPROVEMENT      0.171019\n",
      "MEDICAL              0.145692\n",
      "PERSONAL             0.147664\n",
      "VENTURE              0.139247\n",
      "Name: cb_person_default_on_file, dtype: float64\n"
     ]
    }
   ],
   "source": [
    "average_rates = df.groupby('loan_intent')['cb_person_default_on_file'].mean()\n",
    "print(average_rates)"
   ]
  },
  {
   "cell_type": "code",
   "execution_count": 45,
   "id": "fc602bd9",
   "metadata": {
    "execution": {
     "iopub.execute_input": "2024-10-25T13:01:54.844108Z",
     "iopub.status.busy": "2024-10-25T13:01:54.843628Z",
     "iopub.status.idle": "2024-10-25T13:01:54.858918Z",
     "shell.execute_reply": "2024-10-25T13:01:54.857709Z"
    },
    "papermill": {
     "duration": 0.045453,
     "end_time": "2024-10-25T13:01:54.861698",
     "exception": false,
     "start_time": "2024-10-25T13:01:54.816245",
     "status": "completed"
    },
    "tags": []
   },
   "outputs": [
    {
     "name": "stdout",
     "output_type": "stream",
     "text": [
      "loan_intent\n",
      "DEBTCONSOLIDATION    0.189313\n",
      "EDUCATION            0.107734\n",
      "HOMEIMPROVEMENT      0.173726\n",
      "MEDICAL              0.178251\n",
      "PERSONAL             0.132788\n",
      "VENTURE              0.092798\n",
      "Name: loan_status, dtype: float64\n"
     ]
    }
   ],
   "source": [
    "average_rates = df.groupby('loan_intent')['loan_status'].mean()\n",
    "print(average_rates)\n",
    "\n",
    "## Less support for venture and education"
   ]
  },
  {
   "cell_type": "code",
   "execution_count": 46,
   "id": "cf67af96",
   "metadata": {
    "execution": {
     "iopub.execute_input": "2024-10-25T13:01:54.914628Z",
     "iopub.status.busy": "2024-10-25T13:01:54.914196Z",
     "iopub.status.idle": "2024-10-25T13:01:54.931069Z",
     "shell.execute_reply": "2024-10-25T13:01:54.929308Z"
    },
    "papermill": {
     "duration": 0.046115,
     "end_time": "2024-10-25T13:01:54.933604",
     "exception": false,
     "start_time": "2024-10-25T13:01:54.887489",
     "status": "completed"
    },
    "tags": []
   },
   "outputs": [
    {
     "name": "stdout",
     "output_type": "stream",
     "text": [
      "Average loan status for people below 4: 0.14810059190128716\n",
      "Average loan status for people above 4: 0.13554690424496518\n"
     ]
    }
   ],
   "source": [
    "\n",
    "\n",
    "df = X_TRAIN   \n",
    "average_below_4 = df[df['cb_person_cred_hist_length'] <= 4]['loan_status'].mean()\n",
    "average_above_4 = df[df['cb_person_cred_hist_length'] > 4]['loan_status'].mean()\n",
    "\n",
    "print(f\"Average loan status for people below 4: {average_below_4}\")\n",
    "print(f\"Average loan status for people above 4: {average_above_4}\")\n",
    "\n",
    "## One could attribute that to more time to default"
   ]
  },
  {
   "cell_type": "code",
   "execution_count": 47,
   "id": "4b23467b",
   "metadata": {
    "execution": {
     "iopub.execute_input": "2024-10-25T13:01:54.988286Z",
     "iopub.status.busy": "2024-10-25T13:01:54.987295Z",
     "iopub.status.idle": "2024-10-25T13:01:55.001385Z",
     "shell.execute_reply": "2024-10-25T13:01:55.000360Z"
    },
    "papermill": {
     "duration": 0.043989,
     "end_time": "2024-10-25T13:01:55.003873",
     "exception": false,
     "start_time": "2024-10-25T13:01:54.959884",
     "status": "completed"
    },
    "tags": []
   },
   "outputs": [
    {
     "name": "stdout",
     "output_type": "stream",
     "text": [
      "Average default for people below 4: 0.148570354827597\n",
      "Average default for people above 4: 0.14816201242794041\n"
     ]
    }
   ],
   "source": [
    "\n",
    "df = X_TRAIN   \n",
    "average_below_4 = df[df['cb_person_cred_hist_length'] <= 4]['cb_person_default_on_file'].mean()\n",
    "average_above_4 = df[df['cb_person_cred_hist_length'] > 4]['cb_person_default_on_file'].mean()\n",
    "\n",
    "print(f\"Average default for people below 4: {average_below_4}\")\n",
    "print(f\"Average default for people above 4: {average_above_4}\")\n",
    "\n",
    "## surprisingly same"
   ]
  },
  {
   "cell_type": "code",
   "execution_count": 48,
   "id": "16b4fb95",
   "metadata": {
    "execution": {
     "iopub.execute_input": "2024-10-25T13:01:55.057416Z",
     "iopub.status.busy": "2024-10-25T13:01:55.056981Z",
     "iopub.status.idle": "2024-10-25T13:01:55.072965Z",
     "shell.execute_reply": "2024-10-25T13:01:55.071736Z"
    },
    "papermill": {
     "duration": 0.045962,
     "end_time": "2024-10-25T13:01:55.075734",
     "exception": false,
     "start_time": "2024-10-25T13:01:55.029772",
     "status": "completed"
    },
    "tags": []
   },
   "outputs": [
    {
     "name": "stdout",
     "output_type": "stream",
     "text": [
      "Average default for people below 4: 0.16790123456790124\n",
      "Average default for people above 4: 0.124953095684803\n"
     ]
    }
   ],
   "source": [
    "\n",
    "df = X_TRAIN   \n",
    "average_below_4 = df[df['person_emp_length'] <= 4]['cb_person_default_on_file'].mean()\n",
    "average_above_4 = df[df['person_emp_length'] > 4]['cb_person_default_on_file'].mean()\n",
    "\n",
    "print(f\"Average default for people below 4: {average_below_4}\")\n",
    "print(f\"Average default for people above 4: {average_above_4}\")\n",
    "\n",
    "## People who have worked more less likely to default"
   ]
  },
  {
   "cell_type": "code",
   "execution_count": 49,
   "id": "bd958237",
   "metadata": {
    "execution": {
     "iopub.execute_input": "2024-10-25T13:01:55.130186Z",
     "iopub.status.busy": "2024-10-25T13:01:55.129015Z",
     "iopub.status.idle": "2024-10-25T13:01:55.153480Z",
     "shell.execute_reply": "2024-10-25T13:01:55.152284Z"
    },
    "papermill": {
     "duration": 0.054636,
     "end_time": "2024-10-25T13:01:55.156424",
     "exception": false,
     "start_time": "2024-10-25T13:01:55.101788",
     "status": "completed"
    },
    "tags": []
   },
   "outputs": [],
   "source": [
    "X_TRAIN['cb_person_default_on_file'] = X_TRAIN['cb_person_default_on_file'].map({'Y': 1, 'N': 0})\n",
    "\n",
    "X_TEST['cb_person_default_on_file'] = X_TEST['cb_person_default_on_file'].map({'Y': 1, 'N': 0})"
   ]
  },
  {
   "cell_type": "code",
   "execution_count": 50,
   "id": "a7a7c4c3",
   "metadata": {
    "execution": {
     "iopub.execute_input": "2024-10-25T13:01:55.210937Z",
     "iopub.status.busy": "2024-10-25T13:01:55.209642Z",
     "iopub.status.idle": "2024-10-25T13:01:55.225619Z",
     "shell.execute_reply": "2024-10-25T13:01:55.224299Z"
    },
    "papermill": {
     "duration": 0.045807,
     "end_time": "2024-10-25T13:01:55.228074",
     "exception": false,
     "start_time": "2024-10-25T13:01:55.182267",
     "status": "completed"
    },
    "tags": []
   },
   "outputs": [
    {
     "name": "stdout",
     "output_type": "stream",
     "text": [
      "Average loan status for people below 4: 0.17543366150961087\n",
      "Average loan status for people above 4: 0.10270168855534709\n"
     ]
    }
   ],
   "source": [
    "df = X_TRAIN   \n",
    "average_below_4 = df[df['person_emp_length'] <= 4]['loan_status'].mean()\n",
    "average_above_4 = df[df['person_emp_length'] > 4]['loan_status'].mean()\n",
    "\n",
    "print(f\"Average loan status for people below 4: {average_below_4}\")\n",
    "print(f\"Average loan status for people above 4: {average_above_4}\")\n",
    "\n",
    "## And yet less likely to get loans"
   ]
  },
  {
   "cell_type": "code",
   "execution_count": 51,
   "id": "e60be49d",
   "metadata": {
    "execution": {
     "iopub.execute_input": "2024-10-25T13:01:55.282383Z",
     "iopub.status.busy": "2024-10-25T13:01:55.281942Z",
     "iopub.status.idle": "2024-10-25T13:01:55.287274Z",
     "shell.execute_reply": "2024-10-25T13:01:55.285994Z"
    },
    "papermill": {
     "duration": 0.035509,
     "end_time": "2024-10-25T13:01:55.289654",
     "exception": false,
     "start_time": "2024-10-25T13:01:55.254145",
     "status": "completed"
    },
    "tags": []
   },
   "outputs": [],
   "source": [
    "# import seaborn as sns\n",
    "# import pandas as pd\n",
    "# import matplotlib.pyplot as plt\n",
    "\n",
    "# # # Assuming your DataFrame is called 'df' and has numerical features and 'loan_status'\n",
    "# # numerical_features = X_TRAIN.select_dtypes(['int64', 'float64']).columns.to_list()  # Select numerical columns\n",
    "\n",
    "# # # Create scatter plots for all combinations\n",
    "# # sns.pairplot(X_TRAIN, vars=numerical_features, hue='loan_status')\n",
    "# # plt.show()"
   ]
  },
  {
   "cell_type": "code",
   "execution_count": 52,
   "id": "4af1f0de",
   "metadata": {
    "execution": {
     "iopub.execute_input": "2024-10-25T13:01:55.343701Z",
     "iopub.status.busy": "2024-10-25T13:01:55.343306Z",
     "iopub.status.idle": "2024-10-25T13:01:55.362231Z",
     "shell.execute_reply": "2024-10-25T13:01:55.360804Z"
    },
    "papermill": {
     "duration": 0.049181,
     "end_time": "2024-10-25T13:01:55.364939",
     "exception": false,
     "start_time": "2024-10-25T13:01:55.315758",
     "status": "completed"
    },
    "tags": []
   },
   "outputs": [
    {
     "name": "stdout",
     "output_type": "stream",
     "text": [
      "Average loan status for people below .4: 0.13287972437195936\n",
      "Average loan status for people above .4: 0.7618510158013544\n"
     ]
    }
   ],
   "source": [
    "## As loan percent income increases, so does chance of approval\n",
    "df = X_TRAIN   \n",
    "average_below_4 = df[df['loan_percent_income'] <= 0.4]['loan_status'].mean()\n",
    "average_above_4 = df[df['loan_percent_income'] > 0.4]['loan_status'].mean()\n",
    "\n",
    "print(f\"Average loan status for people below .4: {average_below_4}\")\n",
    "print(f\"Average loan status for people above .4: {average_above_4}\")"
   ]
  },
  {
   "cell_type": "code",
   "execution_count": 53,
   "id": "21299219",
   "metadata": {
    "execution": {
     "iopub.execute_input": "2024-10-25T13:01:55.418624Z",
     "iopub.status.busy": "2024-10-25T13:01:55.418194Z",
     "iopub.status.idle": "2024-10-25T13:01:55.456088Z",
     "shell.execute_reply": "2024-10-25T13:01:55.454882Z"
    },
    "papermill": {
     "duration": 0.067858,
     "end_time": "2024-10-25T13:01:55.458828",
     "exception": false,
     "start_time": "2024-10-25T13:01:55.390970",
     "status": "completed"
    },
    "tags": []
   },
   "outputs": [
    {
     "name": "stdout",
     "output_type": "stream",
     "text": [
      "Average loan status for people below 50000: 0.21792728792310906\n",
      "Average loan status for people above 50000: 0.0903067838110327\n",
      "Average loan amnt for people below 50000: 7106.1544086920185\n",
      "Average loan amnt for people above 50000: 10673.003802390896\n",
      "Average default for people below 50000: nan\n",
      "Average default amnt for people above 50000: nan\n"
     ]
    }
   ],
   "source": [
    "df = X_TRAIN   \n",
    "average_below_50 = df[df['person_income'] <= 50000]['loan_status'].mean()\n",
    "average_above_50 = df[df['person_income'] > 50000]['loan_status'].mean()\n",
    "\n",
    "print(f\"Average loan status for people below 50000: {average_below_50}\")\n",
    "print(f\"Average loan status for people above 50000: {average_above_50}\")\n",
    "df[df['person_income'] >= 50000]['loan_status'].count()\n",
    "\n",
    "average_below_50 = df[df['person_income'] <= 50000]['loan_amnt'].mean()\n",
    "average_above_50 = df[df['person_income'] > 50000]['loan_amnt'].mean()\n",
    "print(f\"Average loan amnt for people below 50000: {average_below_50}\")\n",
    "print(f\"Average loan amnt for people above 50000: {average_above_50}\")\n",
    "\n",
    "\n",
    "average_below_50 = df[df['person_income'] <= 50000]['cb_person_default_on_file'].mean()\n",
    "average_above_50 = df[df['person_income'] > 50000]['cb_person_default_on_file'].mean()\n",
    "print(f\"Average default for people below 50000: {average_below_50}\")\n",
    "print(f\"Average default amnt for people above 50000: {average_above_50}\")\n",
    "\n",
    "# People with higher income has very less chance of getting a loan\n",
    "# The loan amount of these people is on a higher side\n",
    "# people below 50 has more defaults as well"
   ]
  },
  {
   "cell_type": "code",
   "execution_count": null,
   "id": "86755cf3",
   "metadata": {
    "papermill": {
     "duration": 0.026223,
     "end_time": "2024-10-25T13:01:55.511379",
     "exception": false,
     "start_time": "2024-10-25T13:01:55.485156",
     "status": "completed"
    },
    "tags": []
   },
   "outputs": [],
   "source": []
  },
  {
   "cell_type": "code",
   "execution_count": null,
   "id": "620d9a35",
   "metadata": {
    "papermill": {
     "duration": 0.02613,
     "end_time": "2024-10-25T13:01:55.563882",
     "exception": false,
     "start_time": "2024-10-25T13:01:55.537752",
     "status": "completed"
    },
    "tags": []
   },
   "outputs": [],
   "source": []
  }
 ],
 "metadata": {
  "kaggle": {
   "accelerator": "none",
   "dataSources": [
    {
     "databundleVersionId": 9709193,
     "sourceId": 84894,
     "sourceType": "competition"
    },
    {
     "datasetId": 4675026,
     "sourceId": 7949759,
     "sourceType": "datasetVersion"
    }
   ],
   "dockerImageVersionId": 30786,
   "isGpuEnabled": false,
   "isInternetEnabled": true,
   "language": "python",
   "sourceType": "notebook"
  },
  "kernelspec": {
   "display_name": "Python 3",
   "language": "python",
   "name": "python3"
  },
  "language_info": {
   "codemirror_mode": {
    "name": "ipython",
    "version": 3
   },
   "file_extension": ".py",
   "mimetype": "text/x-python",
   "name": "python",
   "nbconvert_exporter": "python",
   "pygments_lexer": "ipython3",
   "version": "3.10.14"
  },
  "papermill": {
   "default_parameters": {},
   "duration": 13.612659,
   "end_time": "2024-10-25T13:01:56.213402",
   "environment_variables": {},
   "exception": null,
   "input_path": "__notebook__.ipynb",
   "output_path": "__notebook__.ipynb",
   "parameters": {},
   "start_time": "2024-10-25T13:01:42.600743",
   "version": "2.6.0"
  }
 },
 "nbformat": 4,
 "nbformat_minor": 5
}
