{
 "cells": [
  {
   "cell_type": "code",
   "execution_count": 1,
   "id": "27f8e116",
   "metadata": {
    "_cell_guid": "b1076dfc-b9ad-4769-8c92-a6c4dae69d19",
    "_uuid": "8f2839f25d086af736a60e9eeb907d3b93b6e0e5",
    "execution": {
     "iopub.execute_input": "2024-10-26T04:12:47.342677Z",
     "iopub.status.busy": "2024-10-26T04:12:47.342276Z",
     "iopub.status.idle": "2024-10-26T04:12:48.232704Z",
     "shell.execute_reply": "2024-10-26T04:12:48.231556Z"
    },
    "papermill": {
     "duration": 0.907395,
     "end_time": "2024-10-26T04:12:48.235630",
     "exception": false,
     "start_time": "2024-10-26T04:12:47.328235",
     "status": "completed"
    },
    "tags": []
   },
   "outputs": [
    {
     "name": "stdout",
     "output_type": "stream",
     "text": [
      "/kaggle/input/playground-series-s4e10/sample_submission.csv\n",
      "/kaggle/input/playground-series-s4e10/train.csv\n",
      "/kaggle/input/playground-series-s4e10/test.csv\n",
      "/kaggle/input/loan-approval-prediction/credit_risk_dataset.csv\n"
     ]
    }
   ],
   "source": [
    "# This Python 3 environment comes with many helpful analytics libraries installed\n",
    "# It is defined by the kaggle/python Docker image: https://github.com/kaggle/docker-python\n",
    "# For example, here's several helpful packages to load\n",
    "\n",
    "import numpy as np # linear algebra\n",
    "import pandas as pd # data processing, CSV file I/O (e.g. pd.read_csv)\n",
    "\n",
    "# Input data files are available in the read-only \"../input/\" directory\n",
    "# For example, running this (by clicking run or pressing Shift+Enter) will list all files under the input directory\n",
    "\n",
    "import os\n",
    "for dirname, _, filenames in os.walk('/kaggle/input'):\n",
    "    for filename in filenames:\n",
    "        print(os.path.join(dirname, filename))\n",
    "\n",
    "# You can write up to 20GB to the current directory (/kaggle/working/) that gets preserved as output when you create a version using \"Save & Run All\" \n",
    "# You can also write temporary files to /kaggle/temp/, but they won't be saved outside of the current session"
   ]
  },
  {
   "cell_type": "code",
   "execution_count": 2,
   "id": "5a9e29bb",
   "metadata": {
    "execution": {
     "iopub.execute_input": "2024-10-26T04:12:48.262812Z",
     "iopub.status.busy": "2024-10-26T04:12:48.262276Z",
     "iopub.status.idle": "2024-10-26T04:12:48.573461Z",
     "shell.execute_reply": "2024-10-26T04:12:48.572467Z"
    },
    "papermill": {
     "duration": 0.327763,
     "end_time": "2024-10-26T04:12:48.575940",
     "exception": false,
     "start_time": "2024-10-26T04:12:48.248177",
     "status": "completed"
    },
    "tags": []
   },
   "outputs": [],
   "source": [
    "X_TRAIN = pd.read_csv('/kaggle/input/playground-series-s4e10/train.csv')\n",
    "X_TEST = pd.read_csv('/kaggle/input/playground-series-s4e10/test.csv')\n",
    "X_ORIG = pd.read_csv('/kaggle/input/loan-approval-prediction/credit_risk_dataset.csv')\n",
    "\n"
   ]
  },
  {
   "cell_type": "code",
   "execution_count": 3,
   "id": "529edae7",
   "metadata": {
    "execution": {
     "iopub.execute_input": "2024-10-26T04:12:48.601603Z",
     "iopub.status.busy": "2024-10-26T04:12:48.600809Z",
     "iopub.status.idle": "2024-10-26T04:12:48.642049Z",
     "shell.execute_reply": "2024-10-26T04:12:48.640898Z"
    },
    "papermill": {
     "duration": 0.056708,
     "end_time": "2024-10-26T04:12:48.644639",
     "exception": false,
     "start_time": "2024-10-26T04:12:48.587931",
     "status": "completed"
    },
    "tags": []
   },
   "outputs": [
    {
     "name": "stdout",
     "output_type": "stream",
     "text": [
      "<class 'pandas.core.frame.DataFrame'>\n",
      "RangeIndex: 58645 entries, 0 to 58644\n",
      "Data columns (total 13 columns):\n",
      " #   Column                      Non-Null Count  Dtype  \n",
      "---  ------                      --------------  -----  \n",
      " 0   id                          58645 non-null  int64  \n",
      " 1   person_age                  58645 non-null  int64  \n",
      " 2   person_income               58645 non-null  int64  \n",
      " 3   person_home_ownership       58645 non-null  object \n",
      " 4   person_emp_length           58645 non-null  float64\n",
      " 5   loan_intent                 58645 non-null  object \n",
      " 6   loan_grade                  58645 non-null  object \n",
      " 7   loan_amnt                   58645 non-null  int64  \n",
      " 8   loan_int_rate               58645 non-null  float64\n",
      " 9   loan_percent_income         58645 non-null  float64\n",
      " 10  cb_person_default_on_file   58645 non-null  object \n",
      " 11  cb_person_cred_hist_length  58645 non-null  int64  \n",
      " 12  loan_status                 58645 non-null  int64  \n",
      "dtypes: float64(3), int64(6), object(4)\n",
      "memory usage: 5.8+ MB\n"
     ]
    }
   ],
   "source": [
    "X_TRAIN.info()"
   ]
  },
  {
   "cell_type": "code",
   "execution_count": 4,
   "id": "6f525975",
   "metadata": {
    "execution": {
     "iopub.execute_input": "2024-10-26T04:12:48.671594Z",
     "iopub.status.busy": "2024-10-26T04:12:48.671194Z",
     "iopub.status.idle": "2024-10-26T04:12:48.683292Z",
     "shell.execute_reply": "2024-10-26T04:12:48.682232Z"
    },
    "papermill": {
     "duration": 0.029358,
     "end_time": "2024-10-26T04:12:48.686036",
     "exception": false,
     "start_time": "2024-10-26T04:12:48.656678",
     "status": "completed"
    },
    "tags": []
   },
   "outputs": [],
   "source": [
    "X_TRAIN['cb_person_default_on_file'] = X_TRAIN['cb_person_default_on_file'].map({'Y': 1, 'N': 0})\n",
    "\n",
    "X_TEST['cb_person_default_on_file'] = X_TEST['cb_person_default_on_file'].map({'Y': 1, 'N': 0})"
   ]
  },
  {
   "cell_type": "code",
   "execution_count": 5,
   "id": "8b5bbfd2",
   "metadata": {
    "execution": {
     "iopub.execute_input": "2024-10-26T04:12:48.711503Z",
     "iopub.status.busy": "2024-10-26T04:12:48.711122Z",
     "iopub.status.idle": "2024-10-26T04:12:48.733434Z",
     "shell.execute_reply": "2024-10-26T04:12:48.732353Z"
    },
    "papermill": {
     "duration": 0.037723,
     "end_time": "2024-10-26T04:12:48.735668",
     "exception": false,
     "start_time": "2024-10-26T04:12:48.697945",
     "status": "completed"
    },
    "tags": []
   },
   "outputs": [
    {
     "name": "stdout",
     "output_type": "stream",
     "text": [
      "Average loan status for people below 50: 0.14190771349862258\n",
      "Average loan status for people above 50: 0.1911504424778761\n"
     ]
    },
    {
     "data": {
      "text/plain": [
       "2884"
      ]
     },
     "execution_count": 5,
     "metadata": {},
     "output_type": "execute_result"
    }
   ],
   "source": [
    "## Loan status on Age over 40\n",
    "df = X_TRAIN   \n",
    "average_below_50 = df[df['person_age'] < 50]['loan_status'].mean()\n",
    "average_above_50 = df[df['person_age'] >= 50]['loan_status'].mean()\n",
    "\n",
    "print(f\"Average loan status for people below 50: {average_below_50}\")\n",
    "print(f\"Average loan status for people above 50: {average_above_50}\")\n",
    "\n",
    "## Approval chances increases slightly with age\n",
    "df[df['person_age'] >= 40]['loan_status'].count()"
   ]
  },
  {
   "cell_type": "code",
   "execution_count": 6,
   "id": "e3e98057",
   "metadata": {
    "execution": {
     "iopub.execute_input": "2024-10-26T04:12:48.761560Z",
     "iopub.status.busy": "2024-10-26T04:12:48.761156Z",
     "iopub.status.idle": "2024-10-26T04:12:48.776470Z",
     "shell.execute_reply": "2024-10-26T04:12:48.775342Z"
    },
    "papermill": {
     "duration": 0.03123,
     "end_time": "2024-10-26T04:12:48.778980",
     "exception": false,
     "start_time": "2024-10-26T04:12:48.747750",
     "status": "completed"
    },
    "tags": []
   },
   "outputs": [
    {
     "name": "stdout",
     "output_type": "stream",
     "text": [
      "loan_grade\n",
      "A     7.335176\n",
      "B    11.034733\n",
      "C    13.510343\n",
      "D    15.404599\n",
      "E    16.930961\n",
      "F    18.610940\n",
      "G    20.327576\n",
      "Name: loan_int_rate, dtype: float64\n"
     ]
    }
   ],
   "source": [
    "average_rates = df.groupby('loan_grade')['loan_int_rate'].mean()\n",
    "print(average_rates)\n",
    "\n",
    "## interest rates rises fastly with loan grades"
   ]
  },
  {
   "cell_type": "code",
   "execution_count": 7,
   "id": "fd73b0cd",
   "metadata": {
    "execution": {
     "iopub.execute_input": "2024-10-26T04:12:48.804941Z",
     "iopub.status.busy": "2024-10-26T04:12:48.804559Z",
     "iopub.status.idle": "2024-10-26T04:12:48.816280Z",
     "shell.execute_reply": "2024-10-26T04:12:48.815166Z"
    },
    "papermill": {
     "duration": 0.027565,
     "end_time": "2024-10-26T04:12:48.818695",
     "exception": false,
     "start_time": "2024-10-26T04:12:48.791130",
     "status": "completed"
    },
    "tags": []
   },
   "outputs": [
    {
     "name": "stdout",
     "output_type": "stream",
     "text": [
      "loan_grade\n",
      "A    0.049180\n",
      "B    0.102304\n",
      "C    0.135375\n",
      "D    0.593564\n",
      "E    0.625372\n",
      "F    0.610738\n",
      "G    0.818182\n",
      "Name: loan_status, dtype: float64\n"
     ]
    }
   ],
   "source": [
    "average_rates = df.groupby('loan_grade')['loan_status'].mean()\n",
    "print(average_rates)\n",
    "\n",
    "## chances of approval also increases with loan grade\n",
    "## Should be because higher interest rates would cover for higher default rates"
   ]
  },
  {
   "cell_type": "code",
   "execution_count": 8,
   "id": "5e66c431",
   "metadata": {
    "execution": {
     "iopub.execute_input": "2024-10-26T04:12:48.844964Z",
     "iopub.status.busy": "2024-10-26T04:12:48.844550Z",
     "iopub.status.idle": "2024-10-26T04:12:48.856272Z",
     "shell.execute_reply": "2024-10-26T04:12:48.855142Z"
    },
    "papermill": {
     "duration": 0.027559,
     "end_time": "2024-10-26T04:12:48.858602",
     "exception": false,
     "start_time": "2024-10-26T04:12:48.831043",
     "status": "completed"
    },
    "tags": []
   },
   "outputs": [
    {
     "data": {
      "text/plain": [
       "loan_grade\n",
       "A    20984\n",
       "B    20400\n",
       "C    11036\n",
       "D     5034\n",
       "E     1009\n",
       "F      149\n",
       "G       33\n",
       "Name: count, dtype: int64"
      ]
     },
     "execution_count": 8,
     "metadata": {},
     "output_type": "execute_result"
    }
   ],
   "source": [
    "df['loan_grade'].value_counts()\n",
    "\n",
    "# If loan grade is something customer applies for, everyone has very good chances from D\n",
    "# grade loans"
   ]
  },
  {
   "cell_type": "code",
   "execution_count": 9,
   "id": "42bc76bd",
   "metadata": {
    "execution": {
     "iopub.execute_input": "2024-10-26T04:12:48.885386Z",
     "iopub.status.busy": "2024-10-26T04:12:48.884955Z",
     "iopub.status.idle": "2024-10-26T04:12:48.899991Z",
     "shell.execute_reply": "2024-10-26T04:12:48.898952Z"
    },
    "papermill": {
     "duration": 0.031277,
     "end_time": "2024-10-26T04:12:48.902413",
     "exception": false,
     "start_time": "2024-10-26T04:12:48.871136",
     "status": "completed"
    },
    "tags": []
   },
   "outputs": [
    {
     "data": {
      "text/plain": [
       "(1032, 13)"
      ]
     },
     "execution_count": 9,
     "metadata": {},
     "output_type": "execute_result"
    }
   ],
   "source": [
    "# Let us check for the qualities of grade A loan approved people\n",
    "df_A_grade = df[(df['loan_grade']=='A') & (df['loan_status']==1)] \n",
    "df_A_grade.shape\n",
    "# There are more than 1000 people with such situation\n",
    "# Assumptions on such people\n",
    "# High income\n",
    "# Living rent or owned home\n",
    "# Have more work experience\n",
    "# Have not defaulted\n",
    "# loan percent income is less"
   ]
  },
  {
   "cell_type": "code",
   "execution_count": 10,
   "id": "cbf5e40e",
   "metadata": {
    "execution": {
     "iopub.execute_input": "2024-10-26T04:12:48.929210Z",
     "iopub.status.busy": "2024-10-26T04:12:48.928696Z",
     "iopub.status.idle": "2024-10-26T04:12:48.937905Z",
     "shell.execute_reply": "2024-10-26T04:12:48.936664Z"
    },
    "papermill": {
     "duration": 0.025487,
     "end_time": "2024-10-26T04:12:48.940300",
     "exception": false,
     "start_time": "2024-10-26T04:12:48.914813",
     "status": "completed"
    },
    "tags": []
   },
   "outputs": [
    {
     "data": {
      "text/plain": [
       "person_home_ownership\n",
       "RENT        879\n",
       "MORTGAGE    146\n",
       "OWN           7\n",
       "Name: count, dtype: int64"
      ]
     },
     "execution_count": 10,
     "metadata": {},
     "output_type": "execute_result"
    }
   ],
   "source": [
    "df_A_grade['person_home_ownership'].value_counts()"
   ]
  },
  {
   "cell_type": "code",
   "execution_count": 11,
   "id": "69d1c666",
   "metadata": {
    "execution": {
     "iopub.execute_input": "2024-10-26T04:12:48.967513Z",
     "iopub.status.busy": "2024-10-26T04:12:48.967057Z",
     "iopub.status.idle": "2024-10-26T04:12:50.819908Z",
     "shell.execute_reply": "2024-10-26T04:12:50.818615Z"
    },
    "papermill": {
     "duration": 1.8704,
     "end_time": "2024-10-26T04:12:50.823431",
     "exception": false,
     "start_time": "2024-10-26T04:12:48.953031",
     "status": "completed"
    },
    "tags": []
   },
   "outputs": [
    {
     "data": {
      "image/png": "[encoded data removed]",
      "text/plain": [
       "<Figure size 600x600 with 1 Axes>"
      ]
     },
     "metadata": {},
     "output_type": "display_data"
    }
   ],
   "source": [
    "import matplotlib.pyplot as plt\n",
    "import seaborn as sns\n",
    "\n",
    "# Sample data\n",
    "data = [879, 146, 7]\n",
    "labels = ['RENT', 'MORTGAGE', 'OWN']\n",
    "\n",
    "# Create the pie chart\n",
    "plt.figure(figsize=(6, 6))  # Adjust figure size if needed\n",
    "sns.set_palette('pastel')  # Set color palette\n",
    "plt.pie(data, labels=labels, autopct='%1.1f%%', startangle=90)\n",
    "plt.title('Home Ownership')\n",
    "plt.show()"
   ]
  },
  {
   "cell_type": "code",
   "execution_count": 12,
   "id": "e44c5800",
   "metadata": {
    "execution": {
     "iopub.execute_input": "2024-10-26T04:12:50.867114Z",
     "iopub.status.busy": "2024-10-26T04:12:50.866557Z",
     "iopub.status.idle": "2024-10-26T04:12:50.875785Z",
     "shell.execute_reply": "2024-10-26T04:12:50.874639Z"
    },
    "papermill": {
     "duration": 0.032453,
     "end_time": "2024-10-26T04:12:50.878142",
     "exception": false,
     "start_time": "2024-10-26T04:12:50.845689",
     "status": "completed"
    },
    "tags": []
   },
   "outputs": [
    {
     "data": {
      "text/plain": [
       "loan_intent\n",
       "MEDICAL              227\n",
       "EDUCATION            206\n",
       "PERSONAL             189\n",
       "DEBTCONSOLIDATION    184\n",
       "HOMEIMPROVEMENT      124\n",
       "VENTURE              102\n",
       "Name: count, dtype: int64"
      ]
     },
     "execution_count": 12,
     "metadata": {},
     "output_type": "execute_result"
    }
   ],
   "source": [
    "# Surprisingly there are people with mortgage in this and less of people owning home\n",
    "# We will look further into it in just some time\n",
    "# Next up what are the purposes\n",
    "df_A_grade['loan_intent'].value_counts()"
   ]
  },
  {
   "cell_type": "code",
   "execution_count": 13,
   "id": "3028727e",
   "metadata": {
    "execution": {
     "iopub.execute_input": "2024-10-26T04:12:50.906316Z",
     "iopub.status.busy": "2024-10-26T04:12:50.905910Z",
     "iopub.status.idle": "2024-10-26T04:12:51.086954Z",
     "shell.execute_reply": "2024-10-26T04:12:51.085778Z"
    },
    "papermill": {
     "duration": 0.199722,
     "end_time": "2024-10-26T04:12:51.091149",
     "exception": false,
     "start_time": "2024-10-26T04:12:50.891427",
     "status": "completed"
    },
    "tags": []
   },
   "outputs": [
    {
     "data": {
      "image/png": "[encoded data removed]",
      "text/plain": [
       "<Figure size 600x600 with 1 Axes>"
      ]
     },
     "metadata": {},
     "output_type": "display_data"
    }
   ],
   "source": [
    "names = ['MEDICAL', 'EDUCATION', 'PERSONAL', 'DEBTCONSOLIDATION', 'HOMEIMPROVEMENT', 'VENTURE']\n",
    "counts = [227, 206, 189, 184, 124, 102]\n",
    "\n",
    "# Create the pie chart\n",
    "plt.figure(figsize=(6, 6))  # Adjust figure size if needed\n",
    "sns.set_palette('pastel')  # Set color palette\n",
    "plt.pie(counts, labels=names, autopct='%1.1f%%', startangle=90)\n",
    "plt.title('Home Ownership')\n",
    "plt.show()"
   ]
  },
  {
   "cell_type": "code",
   "execution_count": 14,
   "id": "1e279176",
   "metadata": {
    "execution": {
     "iopub.execute_input": "2024-10-26T04:12:51.132360Z",
     "iopub.status.busy": "2024-10-26T04:12:51.131671Z",
     "iopub.status.idle": "2024-10-26T04:12:51.142488Z",
     "shell.execute_reply": "2024-10-26T04:12:51.141345Z"
    },
    "papermill": {
     "duration": 0.030574,
     "end_time": "2024-10-26T04:12:51.144746",
     "exception": false,
     "start_time": "2024-10-26T04:12:51.114172",
     "status": "completed"
    },
    "tags": []
   },
   "outputs": [
    {
     "data": {
      "text/plain": [
       "cb_person_default_on_file\n",
       "0    1032\n",
       "Name: count, dtype: int64"
      ]
     },
     "execution_count": 14,
     "metadata": {},
     "output_type": "execute_result"
    }
   ],
   "source": [
    "# Venture seems to be a bit on the lower side\n",
    "df_A_grade['cb_person_default_on_file'].value_counts()\n",
    "\n"
   ]
  },
  {
   "cell_type": "code",
   "execution_count": 15,
   "id": "b797bbe9",
   "metadata": {
    "execution": {
     "iopub.execute_input": "2024-10-26T04:12:51.174979Z",
     "iopub.status.busy": "2024-10-26T04:12:51.173956Z",
     "iopub.status.idle": "2024-10-26T04:12:51.395259Z",
     "shell.execute_reply": "2024-10-26T04:12:51.394169Z"
    },
    "papermill": {
     "duration": 0.238787,
     "end_time": "2024-10-26T04:12:51.397513",
     "exception": false,
     "start_time": "2024-10-26T04:12:51.158726",
     "status": "completed"
    },
    "tags": []
   },
   "outputs": [
    {
     "data": {
      "image/png": "[encoded data removed]",
      "text/plain": [
       "<Figure size 640x480 with 1 Axes>"
      ]
     },
     "metadata": {},
     "output_type": "display_data"
    }
   ],
   "source": [
    "# This is where there is no compromise, no defaults\n",
    "# Let us create histogram of income\n",
    "# Create the histogram\n",
    "plt.hist(df_A_grade['person_income'], bins=20)  # Adjust bins as needed\n",
    "plt.xlabel('Income')\n",
    "plt.ylabel('Frequency')\n",
    "plt.title('Income Distribution')\n",
    "plt.show()\n"
   ]
  },
  {
   "cell_type": "code",
   "execution_count": 16,
   "id": "abae97e1",
   "metadata": {
    "execution": {
     "iopub.execute_input": "2024-10-26T04:12:51.427656Z",
     "iopub.status.busy": "2024-10-26T04:12:51.427275Z",
     "iopub.status.idle": "2024-10-26T04:12:51.645647Z",
     "shell.execute_reply": "2024-10-26T04:12:51.644532Z"
    },
    "papermill": {
     "duration": 0.236311,
     "end_time": "2024-10-26T04:12:51.647981",
     "exception": false,
     "start_time": "2024-10-26T04:12:51.411670",
     "status": "completed"
    },
    "tags": []
   },
   "outputs": [
    {
     "data": {
      "image/png": "[encoded data removed]",
      "text/plain": [
       "<Figure size 640x480 with 1 Axes>"
      ]
     },
     "metadata": {},
     "output_type": "display_data"
    }
   ],
   "source": [
    "## Surprisingly it includes a lot of people below 50k annual income\n",
    "# I think that loan percent income is the key here\n",
    "# This is where there is no compromise\n",
    "# Let us create histogram of loan percent income \n",
    "# Create the histogram\n",
    "plt.hist(df_A_grade['loan_percent_income'], bins=20)  # Adjust bins as needed\n",
    "plt.xlabel('Loan Percent Income')\n",
    "plt.ylabel('Frequency')\n",
    "plt.title('Loan Percent Income Distribution')\n",
    "plt.show()"
   ]
  },
  {
   "cell_type": "code",
   "execution_count": 17,
   "id": "2537b6bc",
   "metadata": {
    "execution": {
     "iopub.execute_input": "2024-10-26T04:12:51.678950Z",
     "iopub.status.busy": "2024-10-26T04:12:51.678545Z",
     "iopub.status.idle": "2024-10-26T04:12:51.687138Z",
     "shell.execute_reply": "2024-10-26T04:12:51.686159Z"
    },
    "papermill": {
     "duration": 0.026635,
     "end_time": "2024-10-26T04:12:51.689406",
     "exception": false,
     "start_time": "2024-10-26T04:12:51.662771",
     "status": "completed"
    },
    "tags": []
   },
   "outputs": [
    {
     "data": {
      "text/plain": [
       "cb_person_cred_hist_length\n",
       "4     201\n",
       "2     184\n",
       "3     177\n",
       "6      76\n",
       "8      69\n",
       "9      63\n",
       "7      54\n",
       "5      52\n",
       "10     48\n",
       "12     17\n",
       "13     17\n",
       "14     16\n",
       "17     15\n",
       "16     13\n",
       "11     12\n",
       "15      5\n",
       "27      3\n",
       "25      2\n",
       "19      2\n",
       "28      2\n",
       "30      1\n",
       "24      1\n",
       "21      1\n",
       "18      1\n",
       "Name: count, dtype: int64"
      ]
     },
     "execution_count": 17,
     "metadata": {},
     "output_type": "execute_result"
    }
   ],
   "source": [
    "## As expected the range is from 0 to 0.5, with many being in the 0.3 to 0.4 range\n",
    "## Now let us check the credit history length\n",
    "df_A_grade['cb_person_cred_hist_length'].value_counts()"
   ]
  },
  {
   "cell_type": "code",
   "execution_count": 18,
   "id": "098f1e28",
   "metadata": {
    "execution": {
     "iopub.execute_input": "2024-10-26T04:12:51.720145Z",
     "iopub.status.busy": "2024-10-26T04:12:51.719648Z",
     "iopub.status.idle": "2024-10-26T04:12:51.731245Z",
     "shell.execute_reply": "2024-10-26T04:12:51.730170Z"
    },
    "papermill": {
     "duration": 0.029666,
     "end_time": "2024-10-26T04:12:51.733485",
     "exception": false,
     "start_time": "2024-10-26T04:12:51.703819",
     "status": "completed"
    },
    "tags": []
   },
   "outputs": [
    {
     "data": {
      "text/plain": [
       "person_emp_length\n",
       "0.0     167\n",
       "2.0     133\n",
       "3.0     124\n",
       "4.0     114\n",
       "1.0     111\n",
       "5.0      92\n",
       "6.0      85\n",
       "7.0      64\n",
       "8.0      31\n",
       "9.0      23\n",
       "11.0     18\n",
       "12.0     17\n",
       "10.0     14\n",
       "14.0     14\n",
       "13.0      7\n",
       "15.0      5\n",
       "21.0      3\n",
       "18.0      2\n",
       "17.0      2\n",
       "27.0      1\n",
       "24.0      1\n",
       "16.0      1\n",
       "19.0      1\n",
       "23.0      1\n",
       "20.0      1\n",
       "Name: count, dtype: int64"
      ]
     },
     "execution_count": 18,
     "metadata": {},
     "output_type": "execute_result"
    }
   ],
   "source": [
    "#Here we see that the person needs to have couple of items in credit history \n",
    "\n",
    "df_A_grade['person_emp_length'].value_counts()\n",
    "\n",
    "# Consideing that most people are in the 20s and 30s this tallies well"
   ]
  },
  {
   "cell_type": "code",
   "execution_count": 19,
   "id": "12f7b39d",
   "metadata": {
    "execution": {
     "iopub.execute_input": "2024-10-26T04:12:51.764803Z",
     "iopub.status.busy": "2024-10-26T04:12:51.764414Z",
     "iopub.status.idle": "2024-10-26T04:12:51.773571Z",
     "shell.execute_reply": "2024-10-26T04:12:51.772483Z"
    },
    "papermill": {
     "duration": 0.027626,
     "end_time": "2024-10-26T04:12:51.775925",
     "exception": false,
     "start_time": "2024-10-26T04:12:51.748299",
     "status": "completed"
    },
    "tags": []
   },
   "outputs": [
    {
     "data": {
      "text/plain": [
       "(146, 13)"
      ]
     },
     "execution_count": 19,
     "metadata": {},
     "output_type": "execute_result"
    }
   ],
   "source": [
    "# Now coming back to people with mortgage, I think they will have high income and low\n",
    "# loan percent income\n",
    "df_A_mortgage = df_A_grade[df_A_grade['person_home_ownership']=='MORTGAGE']\n",
    "df_A_mortgage.shape"
   ]
  },
  {
   "cell_type": "code",
   "execution_count": 20,
   "id": "66217205",
   "metadata": {
    "execution": {
     "iopub.execute_input": "2024-10-26T04:12:51.807157Z",
     "iopub.status.busy": "2024-10-26T04:12:51.806739Z",
     "iopub.status.idle": "2024-10-26T04:12:52.090656Z",
     "shell.execute_reply": "2024-10-26T04:12:52.089598Z"
    },
    "papermill": {
     "duration": 0.302611,
     "end_time": "2024-10-26T04:12:52.093284",
     "exception": false,
     "start_time": "2024-10-26T04:12:51.790673",
     "status": "completed"
    },
    "tags": []
   },
   "outputs": [
    {
     "data": {
      "image/png": "[encoded data removed]",
      "text/plain": [
       "<Figure size 640x480 with 1 Axes>"
      ]
     },
     "metadata": {},
     "output_type": "display_data"
    }
   ],
   "source": [
    "plt.hist(df_A_mortgage['person_income'], bins=20)  # Adjust bins as needed\n",
    "plt.xlabel('Income')\n",
    "plt.ylabel('Frequency')\n",
    "plt.title('Income Distribution')\n",
    "plt.show()"
   ]
  },
  {
   "cell_type": "code",
   "execution_count": 21,
   "id": "2dba49f5",
   "metadata": {
    "execution": {
     "iopub.execute_input": "2024-10-26T04:12:52.126237Z",
     "iopub.status.busy": "2024-10-26T04:12:52.125203Z",
     "iopub.status.idle": "2024-10-26T04:12:52.368607Z",
     "shell.execute_reply": "2024-10-26T04:12:52.367505Z"
    },
    "papermill": {
     "duration": 0.262322,
     "end_time": "2024-10-26T04:12:52.370848",
     "exception": false,
     "start_time": "2024-10-26T04:12:52.108526",
     "status": "completed"
    },
    "tags": []
   },
   "outputs": [
    {
     "data": {
      "image/png": "[encoded data removed]",
      "text/plain": [
       "<Figure size 640x480 with 1 Axes>"
      ]
     },
     "metadata": {},
     "output_type": "display_data"
    }
   ],
   "source": [
    "plt.hist(df_A_mortgage['loan_percent_income'], bins=20)  # Adjust bins as needed\n",
    "plt.xlabel('Loan Percent Income')\n",
    "plt.ylabel('Frequency')\n",
    "plt.title('Loan Percent Income Distribution')\n",
    "plt.show()"
   ]
  },
  {
   "cell_type": "code",
   "execution_count": 22,
   "id": "455bd52f",
   "metadata": {
    "execution": {
     "iopub.execute_input": "2024-10-26T04:12:52.405602Z",
     "iopub.status.busy": "2024-10-26T04:12:52.404772Z",
     "iopub.status.idle": "2024-10-26T04:12:52.409447Z",
     "shell.execute_reply": "2024-10-26T04:12:52.408439Z"
    },
    "papermill": {
     "duration": 0.02482,
     "end_time": "2024-10-26T04:12:52.411579",
     "exception": false,
     "start_time": "2024-10-26T04:12:52.386759",
     "status": "completed"
    },
    "tags": []
   },
   "outputs": [],
   "source": [
    "## While the general loan percent income is in the range of 0.3 to 0.4\n",
    "## In case of people with mortgage the majority is from 0.01 to 0.2"
   ]
  },
  {
   "cell_type": "code",
   "execution_count": 23,
   "id": "4bba79f1",
   "metadata": {
    "execution": {
     "iopub.execute_input": "2024-10-26T04:12:52.444595Z",
     "iopub.status.busy": "2024-10-26T04:12:52.443660Z",
     "iopub.status.idle": "2024-10-26T04:12:52.459523Z",
     "shell.execute_reply": "2024-10-26T04:12:52.458536Z"
    },
    "papermill": {
     "duration": 0.034591,
     "end_time": "2024-10-26T04:12:52.461770",
     "exception": false,
     "start_time": "2024-10-26T04:12:52.427179",
     "status": "completed"
    },
    "tags": []
   },
   "outputs": [
    {
     "data": {
      "text/plain": [
       "(19952, 13)"
      ]
     },
     "execution_count": 23,
     "metadata": {},
     "output_type": "execute_result"
    }
   ],
   "source": [
    "# Let us check people who have rejected A grade loans\n",
    "df_not_A_grade = df[(df['loan_grade']=='A') & (df['loan_status']==0)] \n",
    "df_not_A_grade.shape"
   ]
  },
  {
   "cell_type": "code",
   "execution_count": 24,
   "id": "a886e6be",
   "metadata": {
    "execution": {
     "iopub.execute_input": "2024-10-26T04:12:52.495726Z",
     "iopub.status.busy": "2024-10-26T04:12:52.494478Z",
     "iopub.status.idle": "2024-10-26T04:12:52.503518Z",
     "shell.execute_reply": "2024-10-26T04:12:52.502392Z"
    },
    "papermill": {
     "duration": 0.02826,
     "end_time": "2024-10-26T04:12:52.505772",
     "exception": false,
     "start_time": "2024-10-26T04:12:52.477512",
     "status": "completed"
    },
    "tags": []
   },
   "outputs": [
    {
     "data": {
      "text/plain": [
       "cb_person_default_on_file\n",
       "0    19948\n",
       "1        4\n",
       "Name: count, dtype: int64"
      ]
     },
     "execution_count": 24,
     "metadata": {},
     "output_type": "execute_result"
    }
   ],
   "source": [
    "# Assumptions here would be people will have either defaults\n",
    "# High loan to income percent\n",
    "# More house in mortgage\n",
    "# Let us start with defaults\n",
    "df_not_A_grade['cb_person_default_on_file'].value_counts()"
   ]
  },
  {
   "cell_type": "code",
   "execution_count": 25,
   "id": "3f2196e4",
   "metadata": {
    "execution": {
     "iopub.execute_input": "2024-10-26T04:12:52.538937Z",
     "iopub.status.busy": "2024-10-26T04:12:52.538553Z",
     "iopub.status.idle": "2024-10-26T04:12:52.794575Z",
     "shell.execute_reply": "2024-10-26T04:12:52.793366Z"
    },
    "papermill": {
     "duration": 0.275259,
     "end_time": "2024-10-26T04:12:52.796903",
     "exception": false,
     "start_time": "2024-10-26T04:12:52.521644",
     "status": "completed"
    },
    "tags": []
   },
   "outputs": [
    {
     "data": {
      "image/png": "[encoded data removed]",
      "text/plain": [
       "<Figure size 640x480 with 1 Axes>"
      ]
     },
     "metadata": {},
     "output_type": "display_data"
    }
   ],
   "source": [
    "plt.hist(df_not_A_grade['person_income'], bins=20)  # Adjust bins as needed\n",
    "plt.xlabel('Income')\n",
    "plt.ylabel('Frequency')\n",
    "plt.title('Income Distribution')\n",
    "plt.show()"
   ]
  },
  {
   "cell_type": "code",
   "execution_count": 26,
   "id": "1fb2ed85",
   "metadata": {
    "execution": {
     "iopub.execute_input": "2024-10-26T04:12:52.831894Z",
     "iopub.status.busy": "2024-10-26T04:12:52.831469Z",
     "iopub.status.idle": "2024-10-26T04:12:53.113573Z",
     "shell.execute_reply": "2024-10-26T04:12:53.112411Z"
    },
    "papermill": {
     "duration": 0.302637,
     "end_time": "2024-10-26T04:12:53.115946",
     "exception": false,
     "start_time": "2024-10-26T04:12:52.813309",
     "status": "completed"
    },
    "tags": []
   },
   "outputs": [
    {
     "data": {
      "image/png": "[encoded data removed]",
      "text/plain": [
       "<Figure size 640x480 with 1 Axes>"
      ]
     },
     "metadata": {},
     "output_type": "display_data"
    }
   ],
   "source": [
    "# Very low income is a characteristic feature for them\n",
    "# As a consequece we might see higher income to loan ratio\n",
    "plt.hist(df_not_A_grade['loan_percent_income'], bins=20)  # Adjust bins as needed\n",
    "plt.xlabel('Loan Percent Income')\n",
    "plt.ylabel('Frequency')\n",
    "plt.title('Income Distribution')\n",
    "plt.show()"
   ]
  },
  {
   "cell_type": "code",
   "execution_count": 27,
   "id": "1bfc2d06",
   "metadata": {
    "execution": {
     "iopub.execute_input": "2024-10-26T04:12:53.151556Z",
     "iopub.status.busy": "2024-10-26T04:12:53.151049Z",
     "iopub.status.idle": "2024-10-26T04:12:53.169060Z",
     "shell.execute_reply": "2024-10-26T04:12:53.167876Z"
    },
    "papermill": {
     "duration": 0.038721,
     "end_time": "2024-10-26T04:12:53.171600",
     "exception": false,
     "start_time": "2024-10-26T04:12:53.132879",
     "status": "completed"
    },
    "tags": []
   },
   "outputs": [],
   "source": [
    "## So people in this category, even though have lower loan_percent_income, due to their low salaries\n",
    "# they were rejected\n",
    "\n",
    "## We will now see other end of this\n",
    "## people with F and G loans\n",
    "\n",
    "df_FG_grade = df[((df['loan_grade']=='F') |(df['loan_grade']=='G')) & (df['loan_status']==1)] "
   ]
  },
  {
   "cell_type": "code",
   "execution_count": 28,
   "id": "29d8f7c7",
   "metadata": {
    "execution": {
     "iopub.execute_input": "2024-10-26T04:12:53.206326Z",
     "iopub.status.busy": "2024-10-26T04:12:53.205891Z",
     "iopub.status.idle": "2024-10-26T04:12:53.213119Z",
     "shell.execute_reply": "2024-10-26T04:12:53.212119Z"
    },
    "papermill": {
     "duration": 0.027574,
     "end_time": "2024-10-26T04:12:53.215567",
     "exception": false,
     "start_time": "2024-10-26T04:12:53.187993",
     "status": "completed"
    },
    "tags": []
   },
   "outputs": [
    {
     "data": {
      "text/plain": [
       "(118, 13)"
      ]
     },
     "execution_count": 28,
     "metadata": {},
     "output_type": "execute_result"
    }
   ],
   "source": [
    "df_FG_grade.shape\n",
    "# One would assume that everyone has defaulted\n",
    "\n"
   ]
  },
  {
   "cell_type": "code",
   "execution_count": 29,
   "id": "4b2e40ad",
   "metadata": {
    "execution": {
     "iopub.execute_input": "2024-10-26T04:12:53.250755Z",
     "iopub.status.busy": "2024-10-26T04:12:53.250341Z",
     "iopub.status.idle": "2024-10-26T04:12:53.259367Z",
     "shell.execute_reply": "2024-10-26T04:12:53.258255Z"
    },
    "papermill": {
     "duration": 0.030472,
     "end_time": "2024-10-26T04:12:53.262687",
     "exception": false,
     "start_time": "2024-10-26T04:12:53.232215",
     "status": "completed"
    },
    "tags": []
   },
   "outputs": [
    {
     "data": {
      "text/plain": [
       "cb_person_default_on_file\n",
       "1    68\n",
       "0    50\n",
       "Name: count, dtype: int64"
      ]
     },
     "execution_count": 29,
     "metadata": {},
     "output_type": "execute_result"
    }
   ],
   "source": [
    "df_FG_grade['cb_person_default_on_file'].value_counts()"
   ]
  },
  {
   "cell_type": "code",
   "execution_count": 30,
   "id": "58aafc30",
   "metadata": {
    "execution": {
     "iopub.execute_input": "2024-10-26T04:12:53.299163Z",
     "iopub.status.busy": "2024-10-26T04:12:53.298741Z",
     "iopub.status.idle": "2024-10-26T04:12:53.307730Z",
     "shell.execute_reply": "2024-10-26T04:12:53.306547Z"
    },
    "papermill": {
     "duration": 0.029773,
     "end_time": "2024-10-26T04:12:53.309908",
     "exception": false,
     "start_time": "2024-10-26T04:12:53.280135",
     "status": "completed"
    },
    "tags": []
   },
   "outputs": [
    {
     "data": {
      "text/plain": [
       "person_home_ownership\n",
       "RENT        99\n",
       "MORTGAGE    16\n",
       "OWN          2\n",
       "OTHER        1\n",
       "Name: count, dtype: int64"
      ]
     },
     "execution_count": 30,
     "metadata": {},
     "output_type": "execute_result"
    }
   ],
   "source": [
    "# There are people who have not defaulted and yet they are here, we will look into that\n",
    "# For housing a mortgage majority is expected\n",
    "df_FG_grade['person_home_ownership'].value_counts()"
   ]
  },
  {
   "cell_type": "code",
   "execution_count": 31,
   "id": "64b05650",
   "metadata": {
    "execution": {
     "iopub.execute_input": "2024-10-26T04:12:53.345986Z",
     "iopub.status.busy": "2024-10-26T04:12:53.345041Z",
     "iopub.status.idle": "2024-10-26T04:12:53.485203Z",
     "shell.execute_reply": "2024-10-26T04:12:53.483615Z"
    },
    "papermill": {
     "duration": 0.16163,
     "end_time": "2024-10-26T04:12:53.488447",
     "exception": false,
     "start_time": "2024-10-26T04:12:53.326817",
     "status": "completed"
    },
    "tags": []
   },
   "outputs": [
    {
     "data": {
      "image/png": "[encoded data removed]",
      "text/plain": [
       "<Figure size 600x600 with 1 Axes>"
      ]
     },
     "metadata": {},
     "output_type": "display_data"
    }
   ],
   "source": [
    "data = [99, 16, 2, 1]\n",
    "labels = ['RENT', 'MORTGAGE', 'OWN', 'OTHER']\n",
    "\n",
    "# Create the pie chart\n",
    "plt.figure(figsize=(6, 6))  # Adjust figure size if needed\n",
    "sns.set_palette('pastel')  # Set color palette\n",
    "plt.pie(data, labels=labels, autopct='%1.1f%%', startangle=0, \n",
    "        textprops={'fontsize': 8})  # Adjust text properties here\n",
    "plt.title('Home Ownership')\n",
    "plt.show()"
   ]
  },
  {
   "cell_type": "code",
   "execution_count": 32,
   "id": "978b260c",
   "metadata": {
    "execution": {
     "iopub.execute_input": "2024-10-26T04:12:53.549266Z",
     "iopub.status.busy": "2024-10-26T04:12:53.548213Z",
     "iopub.status.idle": "2024-10-26T04:12:53.828557Z",
     "shell.execute_reply": "2024-10-26T04:12:53.827252Z"
    },
    "papermill": {
     "duration": 0.313799,
     "end_time": "2024-10-26T04:12:53.831310",
     "exception": false,
     "start_time": "2024-10-26T04:12:53.517511",
     "status": "completed"
    },
    "tags": []
   },
   "outputs": [
    {
     "data": {
      "image/png": "[encoded data removed]",
      "text/plain": [
       "<Figure size 640x480 with 1 Axes>"
      ]
     },
     "metadata": {},
     "output_type": "display_data"
    }
   ],
   "source": [
    "plt.hist(df_FG_grade['person_income'], bins=20)  # Adjust bins as needed\n",
    "plt.xlabel('Income')\n",
    "plt.ylabel('Frequency')\n",
    "plt.title('Income Distribution')\n",
    "plt.show()"
   ]
  },
  {
   "cell_type": "code",
   "execution_count": 33,
   "id": "ae5738b8",
   "metadata": {
    "execution": {
     "iopub.execute_input": "2024-10-26T04:12:53.869123Z",
     "iopub.status.busy": "2024-10-26T04:12:53.868691Z",
     "iopub.status.idle": "2024-10-26T04:12:54.112316Z",
     "shell.execute_reply": "2024-10-26T04:12:54.111159Z"
    },
    "papermill": {
     "duration": 0.264948,
     "end_time": "2024-10-26T04:12:54.114510",
     "exception": false,
     "start_time": "2024-10-26T04:12:53.849562",
     "status": "completed"
    },
    "tags": []
   },
   "outputs": [
    {
     "data": {
      "image/png": "[encoded data removed]",
      "text/plain": [
       "<Figure size 640x480 with 1 Axes>"
      ]
     },
     "metadata": {},
     "output_type": "display_data"
    }
   ],
   "source": [
    "plt.hist(df_FG_grade['loan_percent_income'], bins=20)  # Adjust bins as needed\n",
    "plt.xlabel('Loan Percent Income')\n",
    "plt.ylabel('Frequency')\n",
    "plt.title('Loan Percent Income Distribution')\n",
    "plt.show()"
   ]
  },
  {
   "cell_type": "code",
   "execution_count": 34,
   "id": "0943b3bb",
   "metadata": {
    "execution": {
     "iopub.execute_input": "2024-10-26T04:12:54.158894Z",
     "iopub.status.busy": "2024-10-26T04:12:54.158131Z",
     "iopub.status.idle": "2024-10-26T04:12:54.168581Z",
     "shell.execute_reply": "2024-10-26T04:12:54.167284Z"
    },
    "papermill": {
     "duration": 0.039676,
     "end_time": "2024-10-26T04:12:54.171975",
     "exception": false,
     "start_time": "2024-10-26T04:12:54.132299",
     "status": "completed"
    },
    "tags": []
   },
   "outputs": [
    {
     "data": {
      "text/plain": [
       "cb_person_cred_hist_length\n",
       "4     31\n",
       "3     19\n",
       "2     18\n",
       "9      7\n",
       "6      6\n",
       "14     5\n",
       "7      5\n",
       "8      5\n",
       "5      5\n",
       "10     3\n",
       "12     3\n",
       "11     2\n",
       "15     2\n",
       "13     1\n",
       "28     1\n",
       "17     1\n",
       "21     1\n",
       "19     1\n",
       "16     1\n",
       "20     1\n",
       "Name: count, dtype: int64"
      ]
     },
     "execution_count": 34,
     "metadata": {},
     "output_type": "execute_result"
    }
   ],
   "source": [
    "# It is all over the place from 0.1 to 0.5\n",
    "# I am wondering if some of these people could apply for higher \n",
    "# level loans(they may or maynot have been assigned this)\n",
    "# May be all of them have 0 credit length\n",
    "df_FG_grade['cb_person_cred_hist_length'].value_counts()\n"
   ]
  },
  {
   "cell_type": "code",
   "execution_count": 35,
   "id": "78fc1e40",
   "metadata": {
    "execution": {
     "iopub.execute_input": "2024-10-26T04:12:54.221676Z",
     "iopub.status.busy": "2024-10-26T04:12:54.221292Z",
     "iopub.status.idle": "2024-10-26T04:12:54.226128Z",
     "shell.execute_reply": "2024-10-26T04:12:54.224940Z"
    },
    "papermill": {
     "duration": 0.031249,
     "end_time": "2024-10-26T04:12:54.228464",
     "exception": false,
     "start_time": "2024-10-26T04:12:54.197215",
     "status": "completed"
    },
    "tags": []
   },
   "outputs": [],
   "source": [
    "## Even that is not the case\n",
    "## The rejected people should score badly in some of the above criterions  "
   ]
  },
  {
   "cell_type": "code",
   "execution_count": 36,
   "id": "cb3ce452",
   "metadata": {
    "execution": {
     "iopub.execute_input": "2024-10-26T04:12:54.267153Z",
     "iopub.status.busy": "2024-10-26T04:12:54.266056Z",
     "iopub.status.idle": "2024-10-26T04:12:54.283190Z",
     "shell.execute_reply": "2024-10-26T04:12:54.282037Z"
    },
    "papermill": {
     "duration": 0.038904,
     "end_time": "2024-10-26T04:12:54.285690",
     "exception": false,
     "start_time": "2024-10-26T04:12:54.246786",
     "status": "completed"
    },
    "tags": []
   },
   "outputs": [],
   "source": [
    "df_not_FG_grade = df[((df['loan_grade']=='F') |(df['loan_grade']=='G')) & (df['loan_status']==0)] "
   ]
  },
  {
   "cell_type": "code",
   "execution_count": 37,
   "id": "b7180822",
   "metadata": {
    "execution": {
     "iopub.execute_input": "2024-10-26T04:12:54.323504Z",
     "iopub.status.busy": "2024-10-26T04:12:54.323054Z",
     "iopub.status.idle": "2024-10-26T04:12:54.331428Z",
     "shell.execute_reply": "2024-10-26T04:12:54.330383Z"
    },
    "papermill": {
     "duration": 0.029763,
     "end_time": "2024-10-26T04:12:54.333426",
     "exception": false,
     "start_time": "2024-10-26T04:12:54.303663",
     "status": "completed"
    },
    "tags": []
   },
   "outputs": [
    {
     "data": {
      "text/plain": [
       "cb_person_default_on_file\n",
       "0    33\n",
       "1    31\n",
       "Name: count, dtype: int64"
      ]
     },
     "execution_count": 37,
     "metadata": {},
     "output_type": "execute_result"
    }
   ],
   "source": [
    "df_not_FG_grade['cb_person_default_on_file'].value_counts()"
   ]
  },
  {
   "cell_type": "code",
   "execution_count": 38,
   "id": "93a7a28a",
   "metadata": {
    "execution": {
     "iopub.execute_input": "2024-10-26T04:12:54.377642Z",
     "iopub.status.busy": "2024-10-26T04:12:54.377250Z",
     "iopub.status.idle": "2024-10-26T04:12:54.656145Z",
     "shell.execute_reply": "2024-10-26T04:12:54.654924Z"
    },
    "papermill": {
     "duration": 0.302775,
     "end_time": "2024-10-26T04:12:54.658604",
     "exception": false,
     "start_time": "2024-10-26T04:12:54.355829",
     "status": "completed"
    },
    "tags": []
   },
   "outputs": [
    {
     "data": {
      "image/png": "[encoded data removed]",
      "text/plain": [
       "<Figure size 640x480 with 1 Axes>"
      ]
     },
     "metadata": {},
     "output_type": "display_data"
    }
   ],
   "source": [
    "plt.hist(df_not_FG_grade['person_income'], bins=20)  # Adjust bins as needed\n",
    "plt.xlabel('Income')\n",
    "plt.ylabel('Frequency')\n",
    "plt.title('Income Distribution')\n",
    "plt.show()"
   ]
  },
  {
   "cell_type": "code",
   "execution_count": 39,
   "id": "fb661512",
   "metadata": {
    "execution": {
     "iopub.execute_input": "2024-10-26T04:12:54.698184Z",
     "iopub.status.busy": "2024-10-26T04:12:54.696898Z",
     "iopub.status.idle": "2024-10-26T04:12:54.702339Z",
     "shell.execute_reply": "2024-10-26T04:12:54.701156Z"
    },
    "papermill": {
     "duration": 0.027446,
     "end_time": "2024-10-26T04:12:54.704653",
     "exception": false,
     "start_time": "2024-10-26T04:12:54.677207",
     "status": "completed"
    },
    "tags": []
   },
   "outputs": [],
   "source": [
    "# There are 33 people who have not defaulted and still not considered eligible for loan\n",
    "# They have moderate to high salary as well\n",
    "# What about percent of loan?"
   ]
  },
  {
   "cell_type": "code",
   "execution_count": 40,
   "id": "f6395648",
   "metadata": {
    "execution": {
     "iopub.execute_input": "2024-10-26T04:12:54.750836Z",
     "iopub.status.busy": "2024-10-26T04:12:54.750387Z",
     "iopub.status.idle": "2024-10-26T04:12:55.028165Z",
     "shell.execute_reply": "2024-10-26T04:12:55.027031Z"
    },
    "papermill": {
     "duration": 0.306241,
     "end_time": "2024-10-26T04:12:55.030651",
     "exception": false,
     "start_time": "2024-10-26T04:12:54.724410",
     "status": "completed"
    },
    "tags": []
   },
   "outputs": [
    {
     "data": {
      "image/png": "[encoded data removed]",
      "text/plain": [
       "<Figure size 640x480 with 1 Axes>"
      ]
     },
     "metadata": {},
     "output_type": "display_data"
    }
   ],
   "source": [
    "plt.hist(df_not_FG_grade['loan_percent_income'], bins=20)  # Adjust bins as needed\n",
    "plt.xlabel('Income')\n",
    "plt.ylabel('Frequency')\n",
    "plt.title('Income Distribution')\n",
    "plt.show()"
   ]
  },
  {
   "cell_type": "code",
   "execution_count": 41,
   "id": "b409f470",
   "metadata": {
    "execution": {
     "iopub.execute_input": "2024-10-26T04:12:55.070331Z",
     "iopub.status.busy": "2024-10-26T04:12:55.069895Z",
     "iopub.status.idle": "2024-10-26T04:12:55.074918Z",
     "shell.execute_reply": "2024-10-26T04:12:55.073659Z"
    },
    "papermill": {
     "duration": 0.028129,
     "end_time": "2024-10-26T04:12:55.077822",
     "exception": false,
     "start_time": "2024-10-26T04:12:55.049693",
     "status": "completed"
    },
    "tags": []
   },
   "outputs": [],
   "source": [
    "## That is also below 0.5"
   ]
  },
  {
   "cell_type": "code",
   "execution_count": 42,
   "id": "b6c1ceea",
   "metadata": {
    "execution": {
     "iopub.execute_input": "2024-10-26T04:12:55.117874Z",
     "iopub.status.busy": "2024-10-26T04:12:55.117052Z",
     "iopub.status.idle": "2024-10-26T04:12:55.129983Z",
     "shell.execute_reply": "2024-10-26T04:12:55.128839Z"
    },
    "papermill": {
     "duration": 0.035576,
     "end_time": "2024-10-26T04:12:55.132497",
     "exception": false,
     "start_time": "2024-10-26T04:12:55.096921",
     "status": "completed"
    },
    "tags": []
   },
   "outputs": [
    {
     "name": "stdout",
     "output_type": "stream",
     "text": [
      "loan_grade\n",
      "A    0.000191\n",
      "B    0.000294\n",
      "C    0.499547\n",
      "D    0.511124\n",
      "E    0.502478\n",
      "F    0.543624\n",
      "G    0.545455\n",
      "Name: cb_person_default_on_file, dtype: float64\n"
     ]
    }
   ],
   "source": [
    "average_rates = df.groupby('loan_grade')['cb_person_default_on_file'].mean()\n",
    "print(average_rates)\n",
    "\n",
    "## If you have defaulted very less chance for A and B grade loans, hence less applications"
   ]
  },
  {
   "cell_type": "code",
   "execution_count": 43,
   "id": "bb4c83e3",
   "metadata": {
    "execution": {
     "iopub.execute_input": "2024-10-26T04:12:55.172802Z",
     "iopub.status.busy": "2024-10-26T04:12:55.171855Z",
     "iopub.status.idle": "2024-10-26T04:12:55.189497Z",
     "shell.execute_reply": "2024-10-26T04:12:55.188279Z"
    },
    "papermill": {
     "duration": 0.040267,
     "end_time": "2024-10-26T04:12:55.191708",
     "exception": false,
     "start_time": "2024-10-26T04:12:55.151441",
     "status": "completed"
    },
    "tags": []
   },
   "outputs": [
    {
     "name": "stdout",
     "output_type": "stream",
     "text": [
      "Average defaults for people below 40: 0.14802460501067055\n",
      "Average defaults for people above 40: 0.1553398058252427\n"
     ]
    }
   ],
   "source": [
    "average_below_40 = df[df['person_age'] < 40]['cb_person_default_on_file'].mean()\n",
    "average_above_40 = df[df['person_age'] >= 40]['cb_person_default_on_file'].mean()\n",
    "\n",
    "print(f\"Average defaults for people below 40: {average_below_40}\")\n",
    "print(f\"Average defaults for people above 40: {average_above_40}\")\n",
    "\n",
    "## Higher age means more time to default. Recency of default is not known  "
   ]
  },
  {
   "cell_type": "code",
   "execution_count": 44,
   "id": "2e8816f1",
   "metadata": {
    "execution": {
     "iopub.execute_input": "2024-10-26T04:12:55.232049Z",
     "iopub.status.busy": "2024-10-26T04:12:55.231623Z",
     "iopub.status.idle": "2024-10-26T04:12:55.246836Z",
     "shell.execute_reply": "2024-10-26T04:12:55.245446Z"
    },
    "papermill": {
     "duration": 0.038291,
     "end_time": "2024-10-26T04:12:55.249286",
     "exception": false,
     "start_time": "2024-10-26T04:12:55.210995",
     "status": "completed"
    },
    "tags": []
   },
   "outputs": [
    {
     "name": "stdout",
     "output_type": "stream",
     "text": [
      "loan_intent\n",
      "DEBTCONSOLIDATION    0.141575\n",
      "EDUCATION            0.152310\n",
      "HOMEIMPROVEMENT      0.171019\n",
      "MEDICAL              0.145692\n",
      "PERSONAL             0.147664\n",
      "VENTURE              0.139247\n",
      "Name: cb_person_default_on_file, dtype: float64\n"
     ]
    }
   ],
   "source": [
    "average_rates = df.groupby('loan_intent')['cb_person_default_on_file'].mean()\n",
    "print(average_rates)"
   ]
  },
  {
   "cell_type": "code",
   "execution_count": 45,
   "id": "79d76eff",
   "metadata": {
    "execution": {
     "iopub.execute_input": "2024-10-26T04:12:55.289887Z",
     "iopub.status.busy": "2024-10-26T04:12:55.288921Z",
     "iopub.status.idle": "2024-10-26T04:12:55.302059Z",
     "shell.execute_reply": "2024-10-26T04:12:55.300585Z"
    },
    "papermill": {
     "duration": 0.035901,
     "end_time": "2024-10-26T04:12:55.304510",
     "exception": false,
     "start_time": "2024-10-26T04:12:55.268609",
     "status": "completed"
    },
    "tags": []
   },
   "outputs": [
    {
     "name": "stdout",
     "output_type": "stream",
     "text": [
      "loan_intent\n",
      "DEBTCONSOLIDATION    0.189313\n",
      "EDUCATION            0.107734\n",
      "HOMEIMPROVEMENT      0.173726\n",
      "MEDICAL              0.178251\n",
      "PERSONAL             0.132788\n",
      "VENTURE              0.092798\n",
      "Name: loan_status, dtype: float64\n"
     ]
    }
   ],
   "source": [
    "average_rates = df.groupby('loan_intent')['loan_status'].mean()\n",
    "print(average_rates)\n",
    "\n",
    "## Less support for venture and education"
   ]
  },
  {
   "cell_type": "code",
   "execution_count": 46,
   "id": "eb2c60fb",
   "metadata": {
    "execution": {
     "iopub.execute_input": "2024-10-26T04:12:55.344734Z",
     "iopub.status.busy": "2024-10-26T04:12:55.344325Z",
     "iopub.status.idle": "2024-10-26T04:12:55.359695Z",
     "shell.execute_reply": "2024-10-26T04:12:55.358509Z"
    },
    "papermill": {
     "duration": 0.038414,
     "end_time": "2024-10-26T04:12:55.362051",
     "exception": false,
     "start_time": "2024-10-26T04:12:55.323637",
     "status": "completed"
    },
    "tags": []
   },
   "outputs": [
    {
     "name": "stdout",
     "output_type": "stream",
     "text": [
      "Average loan status for people below 4: 0.14810059190128716\n",
      "Average loan status for people above 4: 0.13554690424496518\n"
     ]
    }
   ],
   "source": [
    "\n",
    "\n",
    "df = X_TRAIN   \n",
    "average_below_4 = df[df['cb_person_cred_hist_length'] <= 4]['loan_status'].mean()\n",
    "average_above_4 = df[df['cb_person_cred_hist_length'] > 4]['loan_status'].mean()\n",
    "\n",
    "print(f\"Average loan status for people below 4: {average_below_4}\")\n",
    "print(f\"Average loan status for people above 4: {average_above_4}\")\n",
    "\n",
    "## One could attribute that to more time to default"
   ]
  },
  {
   "cell_type": "code",
   "execution_count": 47,
   "id": "d57fb95c",
   "metadata": {
    "execution": {
     "iopub.execute_input": "2024-10-26T04:12:55.402678Z",
     "iopub.status.busy": "2024-10-26T04:12:55.402229Z",
     "iopub.status.idle": "2024-10-26T04:12:55.417565Z",
     "shell.execute_reply": "2024-10-26T04:12:55.416155Z"
    },
    "papermill": {
     "duration": 0.03886,
     "end_time": "2024-10-26T04:12:55.420159",
     "exception": false,
     "start_time": "2024-10-26T04:12:55.381299",
     "status": "completed"
    },
    "tags": []
   },
   "outputs": [
    {
     "name": "stdout",
     "output_type": "stream",
     "text": [
      "Average default for people below 4: 0.148570354827597\n",
      "Average default for people above 4: 0.14816201242794041\n"
     ]
    }
   ],
   "source": [
    "\n",
    "df = X_TRAIN   \n",
    "average_below_4 = df[df['cb_person_cred_hist_length'] <= 4]['cb_person_default_on_file'].mean()\n",
    "average_above_4 = df[df['cb_person_cred_hist_length'] > 4]['cb_person_default_on_file'].mean()\n",
    "\n",
    "print(f\"Average default for people below 4: {average_below_4}\")\n",
    "print(f\"Average default for people above 4: {average_above_4}\")\n",
    "\n",
    "## surprisingly same"
   ]
  },
  {
   "cell_type": "code",
   "execution_count": 48,
   "id": "fcfed74e",
   "metadata": {
    "execution": {
     "iopub.execute_input": "2024-10-26T04:12:55.460455Z",
     "iopub.status.busy": "2024-10-26T04:12:55.459997Z",
     "iopub.status.idle": "2024-10-26T04:12:55.474773Z",
     "shell.execute_reply": "2024-10-26T04:12:55.473835Z"
    },
    "papermill": {
     "duration": 0.037807,
     "end_time": "2024-10-26T04:12:55.477267",
     "exception": false,
     "start_time": "2024-10-26T04:12:55.439460",
     "status": "completed"
    },
    "tags": []
   },
   "outputs": [
    {
     "name": "stdout",
     "output_type": "stream",
     "text": [
      "Average default for people below 4: 0.16790123456790124\n",
      "Average default for people above 4: 0.124953095684803\n"
     ]
    }
   ],
   "source": [
    "\n",
    "df = X_TRAIN   \n",
    "average_below_4 = df[df['person_emp_length'] <= 4]['cb_person_default_on_file'].mean()\n",
    "average_above_4 = df[df['person_emp_length'] > 4]['cb_person_default_on_file'].mean()\n",
    "\n",
    "print(f\"Average default for people below 4: {average_below_4}\")\n",
    "print(f\"Average default for people above 4: {average_above_4}\")\n",
    "\n",
    "## People who have worked more less likely to default"
   ]
  },
  {
   "cell_type": "code",
   "execution_count": 49,
   "id": "2d2c83d5",
   "metadata": {
    "execution": {
     "iopub.execute_input": "2024-10-26T04:12:55.517924Z",
     "iopub.status.busy": "2024-10-26T04:12:55.517538Z",
     "iopub.status.idle": "2024-10-26T04:12:55.533507Z",
     "shell.execute_reply": "2024-10-26T04:12:55.532339Z"
    },
    "papermill": {
     "duration": 0.039574,
     "end_time": "2024-10-26T04:12:55.536455",
     "exception": false,
     "start_time": "2024-10-26T04:12:55.496881",
     "status": "completed"
    },
    "tags": []
   },
   "outputs": [],
   "source": [
    "X_TRAIN['cb_person_default_on_file'] = X_TRAIN['cb_person_default_on_file'].map({'Y': 1, 'N': 0})\n",
    "\n",
    "X_TEST['cb_person_default_on_file'] = X_TEST['cb_person_default_on_file'].map({'Y': 1, 'N': 0})"
   ]
  },
  {
   "cell_type": "code",
   "execution_count": 50,
   "id": "71b610ce",
   "metadata": {
    "execution": {
     "iopub.execute_input": "2024-10-26T04:12:55.578242Z",
     "iopub.status.busy": "2024-10-26T04:12:55.577777Z",
     "iopub.status.idle": "2024-10-26T04:12:55.593207Z",
     "shell.execute_reply": "2024-10-26T04:12:55.591829Z"
    },
    "papermill": {
     "duration": 0.039509,
     "end_time": "2024-10-26T04:12:55.595671",
     "exception": false,
     "start_time": "2024-10-26T04:12:55.556162",
     "status": "completed"
    },
    "tags": []
   },
   "outputs": [
    {
     "name": "stdout",
     "output_type": "stream",
     "text": [
      "Average loan status for people below 4: 0.17543366150961087\n",
      "Average loan status for people above 4: 0.10270168855534709\n"
     ]
    }
   ],
   "source": [
    "df = X_TRAIN   \n",
    "average_below_4 = df[df['person_emp_length'] <= 4]['loan_status'].mean()\n",
    "average_above_4 = df[df['person_emp_length'] > 4]['loan_status'].mean()\n",
    "\n",
    "print(f\"Average loan status for people below 4: {average_below_4}\")\n",
    "print(f\"Average loan status for people above 4: {average_above_4}\")\n",
    "\n",
    "## And yet less likely to get loans"
   ]
  },
  {
   "cell_type": "code",
   "execution_count": 51,
   "id": "2a086dc5",
   "metadata": {
    "execution": {
     "iopub.execute_input": "2024-10-26T04:12:55.637151Z",
     "iopub.status.busy": "2024-10-26T04:12:55.636045Z",
     "iopub.status.idle": "2024-10-26T04:12:55.641209Z",
     "shell.execute_reply": "2024-10-26T04:12:55.640149Z"
    },
    "papermill": {
     "duration": 0.02796,
     "end_time": "2024-10-26T04:12:55.643369",
     "exception": false,
     "start_time": "2024-10-26T04:12:55.615409",
     "status": "completed"
    },
    "tags": []
   },
   "outputs": [],
   "source": [
    "# import seaborn as sns\n",
    "# import pandas as pd\n",
    "# import matplotlib.pyplot as plt\n",
    "\n",
    "# # # Assuming your DataFrame is called 'df' and has numerical features and 'loan_status'\n",
    "# # numerical_features = X_TRAIN.select_dtypes(['int64', 'float64']).columns.to_list()  # Select numerical columns\n",
    "\n",
    "# # # Create scatter plots for all combinations\n",
    "# # sns.pairplot(X_TRAIN, vars=numerical_features, hue='loan_status')\n",
    "# # plt.show()"
   ]
  },
  {
   "cell_type": "code",
   "execution_count": 52,
   "id": "e0c39353",
   "metadata": {
    "execution": {
     "iopub.execute_input": "2024-10-26T04:12:55.683904Z",
     "iopub.status.busy": "2024-10-26T04:12:55.683485Z",
     "iopub.status.idle": "2024-10-26T04:12:55.701051Z",
     "shell.execute_reply": "2024-10-26T04:12:55.699800Z"
    },
    "papermill": {
     "duration": 0.040651,
     "end_time": "2024-10-26T04:12:55.703348",
     "exception": false,
     "start_time": "2024-10-26T04:12:55.662697",
     "status": "completed"
    },
    "tags": []
   },
   "outputs": [
    {
     "name": "stdout",
     "output_type": "stream",
     "text": [
      "Average loan status for people below .4: 0.13287972437195936\n",
      "Average loan status for people above .4: 0.7618510158013544\n"
     ]
    }
   ],
   "source": [
    "## As loan percent income increases, so does chance of approval\n",
    "df = X_TRAIN   \n",
    "average_below_4 = df[df['loan_percent_income'] <= 0.4]['loan_status'].mean()\n",
    "average_above_4 = df[df['loan_percent_income'] > 0.4]['loan_status'].mean()\n",
    "\n",
    "print(f\"Average loan status for people below .4: {average_below_4}\")\n",
    "print(f\"Average loan status for people above .4: {average_above_4}\")"
   ]
  },
  {
   "cell_type": "code",
   "execution_count": 53,
   "id": "84e9cb0b",
   "metadata": {
    "execution": {
     "iopub.execute_input": "2024-10-26T04:12:55.743270Z",
     "iopub.status.busy": "2024-10-26T04:12:55.742830Z",
     "iopub.status.idle": "2024-10-26T04:12:55.782982Z",
     "shell.execute_reply": "2024-10-26T04:12:55.781477Z"
    },
    "papermill": {
     "duration": 0.063134,
     "end_time": "2024-10-26T04:12:55.785441",
     "exception": false,
     "start_time": "2024-10-26T04:12:55.722307",
     "status": "completed"
    },
    "tags": []
   },
   "outputs": [
    {
     "name": "stdout",
     "output_type": "stream",
     "text": [
      "Average loan status for people below 50000: 0.21792728792310906\n",
      "Average loan status for people above 50000: 0.0903067838110327\n",
      "Average loan amnt for people below 50000: 7106.1544086920185\n",
      "Average loan amnt for people above 50000: 10673.003802390896\n",
      "Average default for people below 50000: nan\n",
      "Average default amnt for people above 50000: nan\n"
     ]
    }
   ],
   "source": [
    "df = X_TRAIN   \n",
    "average_below_50 = df[df['person_income'] <= 50000]['loan_status'].mean()\n",
    "average_above_50 = df[df['person_income'] > 50000]['loan_status'].mean()\n",
    "\n",
    "print(f\"Average loan status for people below 50000: {average_below_50}\")\n",
    "print(f\"Average loan status for people above 50000: {average_above_50}\")\n",
    "df[df['person_income'] >= 50000]['loan_status'].count()\n",
    "\n",
    "average_below_50 = df[df['person_income'] <= 50000]['loan_amnt'].mean()\n",
    "average_above_50 = df[df['person_income'] > 50000]['loan_amnt'].mean()\n",
    "print(f\"Average loan amnt for people below 50000: {average_below_50}\")\n",
    "print(f\"Average loan amnt for people above 50000: {average_above_50}\")\n",
    "\n",
    "\n",
    "average_below_50 = df[df['person_income'] <= 50000]['cb_person_default_on_file'].mean()\n",
    "average_above_50 = df[df['person_income'] > 50000]['cb_person_default_on_file'].mean()\n",
    "print(f\"Average default for people below 50000: {average_below_50}\")\n",
    "print(f\"Average default amnt for people above 50000: {average_above_50}\")\n",
    "\n",
    "# People with higher income has very less chance of getting a loan\n",
    "# The loan amount of these people is on a higher side\n",
    "# people below 50 has more defaults as well"
   ]
  },
  {
   "cell_type": "code",
   "execution_count": null,
   "id": "9dd69611",
   "metadata": {
    "papermill": {
     "duration": 0.019332,
     "end_time": "2024-10-26T04:12:55.824508",
     "exception": false,
     "start_time": "2024-10-26T04:12:55.805176",
     "status": "completed"
    },
    "tags": []
   },
   "outputs": [],
   "source": []
  },
  {
   "cell_type": "code",
   "execution_count": null,
   "id": "bf3d99ef",
   "metadata": {
    "papermill": {
     "duration": 0.018691,
     "end_time": "2024-10-26T04:12:55.862182",
     "exception": false,
     "start_time": "2024-10-26T04:12:55.843491",
     "status": "completed"
    },
    "tags": []
   },
   "outputs": [],
   "source": []
  }
 ],
 "metadata": {
  "kaggle": {
   "accelerator": "none",
   "dataSources": [
    {
     "databundleVersionId": 9709193,
     "sourceId": 84894,
     "sourceType": "competition"
    },
    {
     "datasetId": 4675026,
     "sourceId": 7949759,
     "sourceType": "datasetVersion"
    }
   ],
   "dockerImageVersionId": 30786,
   "isGpuEnabled": false,
   "isInternetEnabled": true,
   "language": "python",
   "sourceType": "notebook"
  },
  "kernelspec": {
   "display_name": "Python 3",
   "language": "python",
   "name": "python3"
  },
  "language_info": {
   "codemirror_mode": {
    "name": "ipython",
    "version": 3
   },
   "file_extension": ".py",
   "mimetype": "text/x-python",
   "name": "python",
   "nbconvert_exporter": "python",
   "pygments_lexer": "ipython3",
   "version": "3.10.14"
  },
  "papermill": {
   "default_parameters": {},
   "duration": 11.89389,
   "end_time": "2024-10-26T04:12:56.503633",
   "environment_variables": {},
   "exception": null,
   "input_path": "__notebook__.ipynb",
   "output_path": "__notebook__.ipynb",
   "parameters": {},
   "start_time": "2024-10-26T04:12:44.609743",
   "version": "2.6.0"
  }
 },
 "nbformat": 4,
 "nbformat_minor": 5
}
